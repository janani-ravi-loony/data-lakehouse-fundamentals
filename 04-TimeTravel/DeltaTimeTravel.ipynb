{
 "cells": [
  {
   "cell_type": "code",
   "execution_count": 0,
   "metadata": {
    "application/vnd.databricks.v1+cell": {
     "cellMetadata": {
      "byteLimit": 2048000,
      "implicitDf": true,
      "rowLimit": 10000
     },
     "inputWidgets": {},
     "nuid": "0b2a23e9-86f4-47d8-9284-b9abf79162c6",
     "showTitle": false,
     "title": ""
    }
   },
   "outputs": [
    {
     "output_type": "display_data",
     "data": {
      "text/html": [
       "<style scoped>\n",
       "  .table-result-container {\n",
       "    max-height: 300px;\n",
       "    overflow: auto;\n",
       "  }\n",
       "  table, th, td {\n",
       "    border: 1px solid black;\n",
       "    border-collapse: collapse;\n",
       "  }\n",
       "  th, td {\n",
       "    padding: 5px;\n",
       "  }\n",
       "  th {\n",
       "    text-align: left;\n",
       "  }\n",
       "</style><div class='table-result-container'><table class='table-result'><thead style='background-color: white'><tr><th>name</th><th>year</th><th>selling_price</th><th>km_driven</th><th>fuel</th><th>seller_type</th><th>transmission</th><th>owner</th></tr></thead><tbody><tr><td>Maruti 800 AC</td><td>2007</td><td>60000</td><td>70000</td><td>Petrol</td><td>Individual</td><td>Manual</td><td>First Owner</td></tr><tr><td>Maruti Wagon R LXI Minor</td><td>2007</td><td>135000</td><td>50000</td><td>Petrol</td><td>Individual</td><td>Manual</td><td>First Owner</td></tr><tr><td>Hyundai Verna 1.6 SX</td><td>2012</td><td>600000</td><td>100000</td><td>Diesel</td><td>Individual</td><td>Manual</td><td>First Owner</td></tr><tr><td>Datsun RediGO T Option</td><td>2017</td><td>250000</td><td>46000</td><td>Petrol</td><td>Individual</td><td>Manual</td><td>First Owner</td></tr><tr><td>Honda Amaze VX i-DTEC</td><td>2014</td><td>450000</td><td>141000</td><td>Diesel</td><td>Individual</td><td>Manual</td><td>Second Owner</td></tr><tr><td>Maruti Alto LX BSIII</td><td>2007</td><td>140000</td><td>125000</td><td>Petrol</td><td>Individual</td><td>Manual</td><td>First Owner</td></tr><tr><td>Hyundai Xcent 1.2 Kappa S</td><td>2016</td><td>550000</td><td>25000</td><td>Petrol</td><td>Individual</td><td>Manual</td><td>First Owner</td></tr><tr><td>Tata Indigo Grand Petrol</td><td>2014</td><td>240000</td><td>60000</td><td>Petrol</td><td>Individual</td><td>Manual</td><td>Second Owner</td></tr><tr><td>Hyundai Creta 1.6 VTVT S</td><td>2015</td><td>850000</td><td>25000</td><td>Petrol</td><td>Individual</td><td>Manual</td><td>First Owner</td></tr><tr><td>Maruti Celerio Green VXI</td><td>2017</td><td>365000</td><td>78000</td><td>CNG</td><td>Individual</td><td>Manual</td><td>First Owner</td></tr></tbody></table></div>"
      ]
     },
     "metadata": {
      "application/vnd.databricks.v1+output": {
       "addedWidgets": {},
       "aggData": [],
       "aggError": "",
       "aggOverflow": false,
       "aggSchema": [],
       "aggSeriesLimitReached": false,
       "aggType": "",
       "arguments": {},
       "columnCustomDisplayInfos": {},
       "data": [
        [
         "Maruti 800 AC",
         2007,
         60000,
         70000,
         "Petrol",
         "Individual",
         "Manual",
         "First Owner"
        ],
        [
         "Maruti Wagon R LXI Minor",
         2007,
         135000,
         50000,
         "Petrol",
         "Individual",
         "Manual",
         "First Owner"
        ],
        [
         "Hyundai Verna 1.6 SX",
         2012,
         600000,
         100000,
         "Diesel",
         "Individual",
         "Manual",
         "First Owner"
        ],
        [
         "Datsun RediGO T Option",
         2017,
         250000,
         46000,
         "Petrol",
         "Individual",
         "Manual",
         "First Owner"
        ],
        [
         "Honda Amaze VX i-DTEC",
         2014,
         450000,
         141000,
         "Diesel",
         "Individual",
         "Manual",
         "Second Owner"
        ],
        [
         "Maruti Alto LX BSIII",
         2007,
         140000,
         125000,
         "Petrol",
         "Individual",
         "Manual",
         "First Owner"
        ],
        [
         "Hyundai Xcent 1.2 Kappa S",
         2016,
         550000,
         25000,
         "Petrol",
         "Individual",
         "Manual",
         "First Owner"
        ],
        [
         "Tata Indigo Grand Petrol",
         2014,
         240000,
         60000,
         "Petrol",
         "Individual",
         "Manual",
         "Second Owner"
        ],
        [
         "Hyundai Creta 1.6 VTVT S",
         2015,
         850000,
         25000,
         "Petrol",
         "Individual",
         "Manual",
         "First Owner"
        ],
        [
         "Maruti Celerio Green VXI",
         2017,
         365000,
         78000,
         "CNG",
         "Individual",
         "Manual",
         "First Owner"
        ]
       ],
       "datasetInfos": [],
       "dbfsResultPath": null,
       "isJsonSchema": true,
       "metadata": {
        "createTempViewForImplicitDf": true,
        "dataframeName": "_sqldf",
        "executionCount": 1
       },
       "overflow": false,
       "plotOptions": {
        "customPlotOptions": {},
        "displayType": "table",
        "pivotAggregation": null,
        "pivotColumns": null,
        "xColumns": null,
        "yColumns": null
       },
       "removedWidgets": [],
       "schema": [
        {
         "metadata": "{}",
         "name": "name",
         "type": "\"string\""
        },
        {
         "metadata": "{}",
         "name": "year",
         "type": "\"long\""
        },
        {
         "metadata": "{}",
         "name": "selling_price",
         "type": "\"long\""
        },
        {
         "metadata": "{}",
         "name": "km_driven",
         "type": "\"long\""
        },
        {
         "metadata": "{}",
         "name": "fuel",
         "type": "\"string\""
        },
        {
         "metadata": "{}",
         "name": "seller_type",
         "type": "\"string\""
        },
        {
         "metadata": "{}",
         "name": "transmission",
         "type": "\"string\""
        },
        {
         "metadata": "{}",
         "name": "owner",
         "type": "\"string\""
        }
       ],
       "type": "table"
      }
     },
     "output_type": "display_data"
    }
   ],
   "source": [
    "%sql\n",
    "\n",
    "SELECT * FROM hive_metastore.default.cars LIMIT 10;"
   ]
  },
  {
   "cell_type": "code",
   "execution_count": 0,
   "metadata": {
    "application/vnd.databricks.v1+cell": {
     "cellMetadata": {
      "byteLimit": 2048000,
      "rowLimit": 10000
     },
     "inputWidgets": {},
     "nuid": "49e7f473-7bc5-4082-adcb-8e826011bcb0",
     "showTitle": false,
     "title": ""
    }
   },
   "outputs": [
    {
     "output_type": "display_data",
     "data": {
      "text/html": [
       "<style scoped>\n",
       "  .table-result-container {\n",
       "    max-height: 300px;\n",
       "    overflow: auto;\n",
       "  }\n",
       "  table, th, td {\n",
       "    border: 1px solid black;\n",
       "    border-collapse: collapse;\n",
       "  }\n",
       "  th, td {\n",
       "    padding: 5px;\n",
       "  }\n",
       "  th {\n",
       "    text-align: left;\n",
       "  }\n",
       "</style><div class='table-result-container'><table class='table-result'><thead style='background-color: white'><tr><th>path</th><th>name</th><th>size</th><th>modificationTime</th></tr></thead><tbody><tr><td>dbfs:/user/hive/warehouse/cars/_delta_log/</td><td>_delta_log/</td><td>0</td><td>1730092446000</td></tr><tr><td>dbfs:/user/hive/warehouse/cars/part-00000-a111b137-239a-4003-a585-31e7ea7391b5.c000.snappy.parquet</td><td>part-00000-a111b137-239a-4003-a585-31e7ea7391b5.c000.snappy.parquet</td><td>52353</td><td>1730092447000</td></tr></tbody></table></div>"
      ]
     },
     "metadata": {
      "application/vnd.databricks.v1+output": {
       "addedWidgets": {},
       "aggData": [],
       "aggError": "",
       "aggOverflow": false,
       "aggSchema": [],
       "aggSeriesLimitReached": false,
       "aggType": "",
       "arguments": {},
       "columnCustomDisplayInfos": {},
       "data": [
        [
         "dbfs:/user/hive/warehouse/cars/_delta_log/",
         "_delta_log/",
         0,
         1730092446000
        ],
        [
         "dbfs:/user/hive/warehouse/cars/part-00000-a111b137-239a-4003-a585-31e7ea7391b5.c000.snappy.parquet",
         "part-00000-a111b137-239a-4003-a585-31e7ea7391b5.c000.snappy.parquet",
         52353,
         1730092447000
        ]
       ],
       "datasetInfos": [],
       "dbfsResultPath": null,
       "isJsonSchema": true,
       "metadata": {
        "isDbfsCommandResult": false
       },
       "overflow": false,
       "plotOptions": {
        "customPlotOptions": {},
        "displayType": "table",
        "pivotAggregation": null,
        "pivotColumns": null,
        "xColumns": null,
        "yColumns": null
       },
       "removedWidgets": [],
       "schema": [
        {
         "metadata": "{}",
         "name": "path",
         "type": "\"string\""
        },
        {
         "metadata": "{}",
         "name": "name",
         "type": "\"string\""
        },
        {
         "metadata": "{}",
         "name": "size",
         "type": "\"long\""
        },
        {
         "metadata": "{}",
         "name": "modificationTime",
         "type": "\"long\""
        }
       ],
       "type": "table"
      }
     },
     "output_type": "display_data"
    }
   ],
   "source": [
    "%fs ls dbfs:/user/hive/warehouse/cars"
   ]
  },
  {
   "cell_type": "code",
   "execution_count": 0,
   "metadata": {
    "application/vnd.databricks.v1+cell": {
     "cellMetadata": {
      "byteLimit": 2048000,
      "implicitDf": true,
      "rowLimit": 10000
     },
     "inputWidgets": {},
     "nuid": "da6bef3a-e1eb-490e-80e0-a8f531929a51",
     "showTitle": false,
     "title": ""
    }
   },
   "outputs": [
    {
     "output_type": "display_data",
     "data": {
      "text/html": [
       "<style scoped>\n",
       "  .table-result-container {\n",
       "    max-height: 300px;\n",
       "    overflow: auto;\n",
       "  }\n",
       "  table, th, td {\n",
       "    border: 1px solid black;\n",
       "    border-collapse: collapse;\n",
       "  }\n",
       "  th, td {\n",
       "    padding: 5px;\n",
       "  }\n",
       "  th {\n",
       "    text-align: left;\n",
       "  }\n",
       "</style><div class='table-result-container'><table class='table-result'><thead style='background-color: white'><tr><th>version</th><th>timestamp</th><th>userId</th><th>userName</th><th>operation</th><th>operationParameters</th><th>job</th><th>notebook</th><th>clusterId</th><th>readVersion</th><th>isolationLevel</th><th>isBlindAppend</th><th>operationMetrics</th><th>userMetadata</th><th>engineInfo</th></tr></thead><tbody><tr><td>0</td><td>2024-10-28T05:14:07Z</td><td>599420620358905</td><td>contact@loonycorn.com</td><td>CREATE TABLE AS SELECT</td><td>Map(partitionBy -> [], clusterBy -> [], description -> Created by the file upload UI, isManaged -> true, properties -> {\"delta.enableDeletionVectors\":\"true\"}, statsOnLoad -> false)</td><td>null</td><td>null</td><td>1028-032811-163l393x</td><td>null</td><td>WriteSerializable</td><td>true</td><td>Map(numFiles -> 1, numOutputRows -> 4340, numOutputBytes -> 52353)</td><td>null</td><td>Databricks-Runtime/15.4.x-photon-scala2.12</td></tr></tbody></table></div>"
      ]
     },
     "metadata": {
      "application/vnd.databricks.v1+output": {
       "addedWidgets": {},
       "aggData": [],
       "aggError": "",
       "aggOverflow": false,
       "aggSchema": [],
       "aggSeriesLimitReached": false,
       "aggType": "",
       "arguments": {},
       "columnCustomDisplayInfos": {},
       "data": [
        [
         0,
         "2024-10-28T05:14:07Z",
         "599420620358905",
         "contact@loonycorn.com",
         "CREATE TABLE AS SELECT",
         {
          "clusterBy": "[]",
          "description": "Created by the file upload UI",
          "isManaged": "true",
          "partitionBy": "[]",
          "properties": "{\"delta.enableDeletionVectors\":\"true\"}",
          "statsOnLoad": "false"
         },
         null,
         null,
         "1028-032811-163l393x",
         null,
         "WriteSerializable",
         true,
         {
          "numFiles": "1",
          "numOutputBytes": "52353",
          "numOutputRows": "4340"
         },
         null,
         "Databricks-Runtime/15.4.x-photon-scala2.12"
        ]
       ],
       "datasetInfos": [],
       "dbfsResultPath": null,
       "isJsonSchema": true,
       "metadata": {
        "createTempViewForImplicitDf": true,
        "dataframeName": "_sqldf",
        "executionCount": 2
       },
       "overflow": false,
       "plotOptions": {
        "customPlotOptions": {},
        "displayType": "table",
        "pivotAggregation": null,
        "pivotColumns": null,
        "xColumns": null,
        "yColumns": null
       },
       "removedWidgets": [],
       "schema": [
        {
         "metadata": "{}",
         "name": "version",
         "type": "\"long\""
        },
        {
         "metadata": "{}",
         "name": "timestamp",
         "type": "\"timestamp\""
        },
        {
         "metadata": "{}",
         "name": "userId",
         "type": "\"string\""
        },
        {
         "metadata": "{}",
         "name": "userName",
         "type": "\"string\""
        },
        {
         "metadata": "{}",
         "name": "operation",
         "type": "\"string\""
        },
        {
         "metadata": "{}",
         "name": "operationParameters",
         "type": "{\"type\":\"map\",\"keyType\":\"string\",\"valueType\":\"string\",\"valueContainsNull\":true}"
        },
        {
         "metadata": "{}",
         "name": "job",
         "type": "{\"type\":\"struct\",\"fields\":[{\"name\":\"jobId\",\"type\":\"string\",\"nullable\":true,\"metadata\":{}},{\"name\":\"jobName\",\"type\":\"string\",\"nullable\":true,\"metadata\":{}},{\"name\":\"jobRunId\",\"type\":\"string\",\"nullable\":true,\"metadata\":{}},{\"name\":\"runId\",\"type\":\"string\",\"nullable\":true,\"metadata\":{}},{\"name\":\"jobOwnerId\",\"type\":\"string\",\"nullable\":true,\"metadata\":{}},{\"name\":\"triggerType\",\"type\":\"string\",\"nullable\":true,\"metadata\":{}}]}"
        },
        {
         "metadata": "{}",
         "name": "notebook",
         "type": "{\"type\":\"struct\",\"fields\":[{\"name\":\"notebookId\",\"type\":\"string\",\"nullable\":true,\"metadata\":{}}]}"
        },
        {
         "metadata": "{}",
         "name": "clusterId",
         "type": "\"string\""
        },
        {
         "metadata": "{}",
         "name": "readVersion",
         "type": "\"long\""
        },
        {
         "metadata": "{}",
         "name": "isolationLevel",
         "type": "\"string\""
        },
        {
         "metadata": "{}",
         "name": "isBlindAppend",
         "type": "\"boolean\""
        },
        {
         "metadata": "{}",
         "name": "operationMetrics",
         "type": "{\"type\":\"map\",\"keyType\":\"string\",\"valueType\":\"string\",\"valueContainsNull\":true}"
        },
        {
         "metadata": "{}",
         "name": "userMetadata",
         "type": "\"string\""
        },
        {
         "metadata": "{}",
         "name": "engineInfo",
         "type": "\"string\""
        }
       ],
       "type": "table"
      }
     },
     "output_type": "display_data"
    }
   ],
   "source": [
    "%sql\n",
    "\n",
    "DESCRIBE HISTORY hive_metastore.default.cars"
   ]
  },
  {
   "cell_type": "markdown",
   "metadata": {
    "application/vnd.databricks.v1+cell": {
     "cellMetadata": {},
     "inputWidgets": {},
     "nuid": "099c611c-dc20-46dd-8402-443aa669ffbb",
     "showTitle": false,
     "title": ""
    }
   },
   "source": [
    "### Make modifications to the table\n",
    "Modifications can include updates, inserts, deletes and even alters"
   ]
  },
  {
   "cell_type": "code",
   "execution_count": 0,
   "metadata": {
    "application/vnd.databricks.v1+cell": {
     "cellMetadata": {
      "byteLimit": 2048000,
      "implicitDf": true,
      "rowLimit": 10000
     },
     "inputWidgets": {},
     "nuid": "288c0090-e63e-47ed-8545-0029c8190392",
     "showTitle": false,
     "title": ""
    }
   },
   "outputs": [
    {
     "output_type": "display_data",
     "data": {
      "text/html": [
       "<style scoped>\n",
       "  .table-result-container {\n",
       "    max-height: 300px;\n",
       "    overflow: auto;\n",
       "  }\n",
       "  table, th, td {\n",
       "    border: 1px solid black;\n",
       "    border-collapse: collapse;\n",
       "  }\n",
       "  th, td {\n",
       "    padding: 5px;\n",
       "  }\n",
       "  th {\n",
       "    text-align: left;\n",
       "  }\n",
       "</style><div class='table-result-container'><table class='table-result'><thead style='background-color: white'><tr><th>num_affected_rows</th></tr></thead><tbody><tr><td>2832</td></tr></tbody></table></div>"
      ]
     },
     "metadata": {
      "application/vnd.databricks.v1+output": {
       "addedWidgets": {},
       "aggData": [],
       "aggError": "",
       "aggOverflow": false,
       "aggSchema": [],
       "aggSeriesLimitReached": false,
       "aggType": "",
       "arguments": {},
       "columnCustomDisplayInfos": {},
       "data": [
        [
         2832
        ]
       ],
       "datasetInfos": [],
       "dbfsResultPath": null,
       "isJsonSchema": true,
       "metadata": {
        "createTempViewForImplicitDf": true,
        "dataframeName": "_sqldf",
        "executionCount": 3
       },
       "overflow": false,
       "plotOptions": {
        "customPlotOptions": {},
        "displayType": "table",
        "pivotAggregation": null,
        "pivotColumns": null,
        "xColumns": null,
        "yColumns": null
       },
       "removedWidgets": [],
       "schema": [
        {
         "metadata": "{}",
         "name": "num_affected_rows",
         "type": "\"long\""
        }
       ],
       "type": "table"
      }
     },
     "output_type": "display_data"
    }
   ],
   "source": [
    "%sql\n",
    "\n",
    "UPDATE hive_metastore.default.cars \n",
    "SET selling_price = selling_price * 1.1\n",
    "WHERE owner = 'First Owner'"
   ]
  },
  {
   "cell_type": "code",
   "execution_count": 0,
   "metadata": {
    "application/vnd.databricks.v1+cell": {
     "cellMetadata": {
      "byteLimit": 2048000,
      "implicitDf": true,
      "rowLimit": 10000
     },
     "inputWidgets": {},
     "nuid": "00fd638c-aa3e-421b-9904-f5253eaa54d3",
     "showTitle": false,
     "title": ""
    }
   },
   "outputs": [
    {
     "output_type": "display_data",
     "data": {
      "text/html": [
       "<style scoped>\n",
       "  .table-result-container {\n",
       "    max-height: 300px;\n",
       "    overflow: auto;\n",
       "  }\n",
       "  table, th, td {\n",
       "    border: 1px solid black;\n",
       "    border-collapse: collapse;\n",
       "  }\n",
       "  th, td {\n",
       "    padding: 5px;\n",
       "  }\n",
       "  th {\n",
       "    text-align: left;\n",
       "  }\n",
       "</style><div class='table-result-container'><table class='table-result'><thead style='background-color: white'><tr><th>num_affected_rows</th></tr></thead><tbody><tr><td>134</td></tr></tbody></table></div>"
      ]
     },
     "metadata": {
      "application/vnd.databricks.v1+output": {
       "addedWidgets": {},
       "aggData": [],
       "aggError": "",
       "aggOverflow": false,
       "aggSchema": [],
       "aggSeriesLimitReached": false,
       "aggType": "",
       "arguments": {},
       "columnCustomDisplayInfos": {},
       "data": [
        [
         134
        ]
       ],
       "datasetInfos": [],
       "dbfsResultPath": null,
       "isJsonSchema": true,
       "metadata": {
        "createTempViewForImplicitDf": true,
        "dataframeName": "_sqldf",
        "executionCount": 4
       },
       "overflow": false,
       "plotOptions": {
        "customPlotOptions": {},
        "displayType": "table",
        "pivotAggregation": null,
        "pivotColumns": null,
        "xColumns": null,
        "yColumns": null
       },
       "removedWidgets": [],
       "schema": [
        {
         "metadata": "{}",
         "name": "num_affected_rows",
         "type": "\"long\""
        }
       ],
       "type": "table"
      }
     },
     "output_type": "display_data"
    }
   ],
   "source": [
    "%sql\n",
    "\n",
    "DELETE FROM hive_metastore.default.cars \n",
    "WHERE year = 2007"
   ]
  },
  {
   "cell_type": "code",
   "execution_count": 0,
   "metadata": {
    "application/vnd.databricks.v1+cell": {
     "cellMetadata": {
      "byteLimit": 2048000,
      "implicitDf": true,
      "rowLimit": 10000
     },
     "inputWidgets": {},
     "nuid": "0a31437a-6557-4fb2-9d58-26fd48c0bc96",
     "showTitle": false,
     "title": ""
    }
   },
   "outputs": [
    {
     "output_type": "display_data",
     "data": {
      "text/html": [
       "<style scoped>\n",
       "  .table-result-container {\n",
       "    max-height: 300px;\n",
       "    overflow: auto;\n",
       "  }\n",
       "  table, th, td {\n",
       "    border: 1px solid black;\n",
       "    border-collapse: collapse;\n",
       "  }\n",
       "  th, td {\n",
       "    padding: 5px;\n",
       "  }\n",
       "  th {\n",
       "    text-align: left;\n",
       "  }\n",
       "</style><div class='table-result-container'><table class='table-result'><thead style='background-color: white'><tr></tr></thead><tbody></tbody></table></div>"
      ]
     },
     "metadata": {
      "application/vnd.databricks.v1+output": {
       "addedWidgets": {},
       "aggData": [],
       "aggError": "",
       "aggOverflow": false,
       "aggSchema": [],
       "aggSeriesLimitReached": false,
       "aggType": "",
       "arguments": {},
       "columnCustomDisplayInfos": {},
       "data": [],
       "datasetInfos": [],
       "dbfsResultPath": null,
       "isJsonSchema": true,
       "metadata": {
        "dataframeName": null
       },
       "overflow": false,
       "plotOptions": {
        "customPlotOptions": {},
        "displayType": "table",
        "pivotAggregation": null,
        "pivotColumns": null,
        "xColumns": null,
        "yColumns": null
       },
       "removedWidgets": [],
       "schema": [],
       "type": "table"
      }
     },
     "output_type": "display_data"
    }
   ],
   "source": [
    "%sql\n",
    "\n",
    "ALTER TABLE hive_metastore.default.cars\n",
    "ADD COLUMN condition VARCHAR(255)"
   ]
  },
  {
   "cell_type": "markdown",
   "metadata": {
    "application/vnd.databricks.v1+cell": {
     "cellMetadata": {},
     "inputWidgets": {},
     "nuid": "3eafee88-d079-440f-b06e-44610c737bb9",
     "showTitle": false,
     "title": ""
    }
   },
   "source": [
    "#### Confirm that the changes have taken effect"
   ]
  },
  {
   "cell_type": "code",
   "execution_count": 0,
   "metadata": {
    "application/vnd.databricks.v1+cell": {
     "cellMetadata": {
      "byteLimit": 2048000,
      "implicitDf": true,
      "rowLimit": 10000
     },
     "inputWidgets": {},
     "nuid": "d270f134-d092-4873-a444-b9652a38f85a",
     "showTitle": false,
     "title": ""
    }
   },
   "outputs": [
    {
     "output_type": "display_data",
     "data": {
      "text/html": [
       "<style scoped>\n",
       "  .table-result-container {\n",
       "    max-height: 300px;\n",
       "    overflow: auto;\n",
       "  }\n",
       "  table, th, td {\n",
       "    border: 1px solid black;\n",
       "    border-collapse: collapse;\n",
       "  }\n",
       "  th, td {\n",
       "    padding: 5px;\n",
       "  }\n",
       "  th {\n",
       "    text-align: left;\n",
       "  }\n",
       "</style><div class='table-result-container'><table class='table-result'><thead style='background-color: white'><tr><th>name</th><th>year</th><th>selling_price</th><th>km_driven</th><th>fuel</th><th>seller_type</th><th>transmission</th><th>owner</th><th>condition</th></tr></thead><tbody><tr><td>Hyundai Verna 1.6 SX</td><td>2012</td><td>660000</td><td>100000</td><td>Diesel</td><td>Individual</td><td>Manual</td><td>First Owner</td><td>null</td></tr><tr><td>Datsun RediGO T Option</td><td>2017</td><td>275000</td><td>46000</td><td>Petrol</td><td>Individual</td><td>Manual</td><td>First Owner</td><td>null</td></tr><tr><td>Hyundai Xcent 1.2 Kappa S</td><td>2016</td><td>605000</td><td>25000</td><td>Petrol</td><td>Individual</td><td>Manual</td><td>First Owner</td><td>null</td></tr><tr><td>Hyundai Creta 1.6 VTVT S</td><td>2015</td><td>935000</td><td>25000</td><td>Petrol</td><td>Individual</td><td>Manual</td><td>First Owner</td><td>null</td></tr><tr><td>Maruti Celerio Green VXI</td><td>2017</td><td>401500</td><td>78000</td><td>CNG</td><td>Individual</td><td>Manual</td><td>First Owner</td><td>null</td></tr><tr><td>Chevrolet Sail 1.2 Base</td><td>2015</td><td>286000</td><td>35000</td><td>Petrol</td><td>Individual</td><td>Manual</td><td>First Owner</td><td>null</td></tr><tr><td>Tata Indigo Grand Petrol</td><td>2014</td><td>275000</td><td>100000</td><td>Petrol</td><td>Individual</td><td>Manual</td><td>First Owner</td><td>null</td></tr><tr><td>Toyota Corolla Altis 1.8 VL CVT</td><td>2018</td><td>1815000</td><td>25000</td><td>Petrol</td><td>Dealer</td><td>Automatic</td><td>First Owner</td><td>null</td></tr><tr><td>Hyundai Verna 1.6 SX</td><td>2012</td><td>660000</td><td>100000</td><td>Diesel</td><td>Individual</td><td>Manual</td><td>First Owner</td><td>null</td></tr><tr><td>Datsun RediGO T Option</td><td>2017</td><td>275000</td><td>46000</td><td>Petrol</td><td>Individual</td><td>Manual</td><td>First Owner</td><td>null</td></tr></tbody></table></div>"
      ]
     },
     "metadata": {
      "application/vnd.databricks.v1+output": {
       "addedWidgets": {},
       "aggData": [],
       "aggError": "",
       "aggOverflow": false,
       "aggSchema": [],
       "aggSeriesLimitReached": false,
       "aggType": "",
       "arguments": {},
       "columnCustomDisplayInfos": {},
       "data": [
        [
         "Hyundai Verna 1.6 SX",
         2012,
         660000,
         100000,
         "Diesel",
         "Individual",
         "Manual",
         "First Owner",
         null
        ],
        [
         "Datsun RediGO T Option",
         2017,
         275000,
         46000,
         "Petrol",
         "Individual",
         "Manual",
         "First Owner",
         null
        ],
        [
         "Hyundai Xcent 1.2 Kappa S",
         2016,
         605000,
         25000,
         "Petrol",
         "Individual",
         "Manual",
         "First Owner",
         null
        ],
        [
         "Hyundai Creta 1.6 VTVT S",
         2015,
         935000,
         25000,
         "Petrol",
         "Individual",
         "Manual",
         "First Owner",
         null
        ],
        [
         "Maruti Celerio Green VXI",
         2017,
         401500,
         78000,
         "CNG",
         "Individual",
         "Manual",
         "First Owner",
         null
        ],
        [
         "Chevrolet Sail 1.2 Base",
         2015,
         286000,
         35000,
         "Petrol",
         "Individual",
         "Manual",
         "First Owner",
         null
        ],
        [
         "Tata Indigo Grand Petrol",
         2014,
         275000,
         100000,
         "Petrol",
         "Individual",
         "Manual",
         "First Owner",
         null
        ],
        [
         "Toyota Corolla Altis 1.8 VL CVT",
         2018,
         1815000,
         25000,
         "Petrol",
         "Dealer",
         "Automatic",
         "First Owner",
         null
        ],
        [
         "Hyundai Verna 1.6 SX",
         2012,
         660000,
         100000,
         "Diesel",
         "Individual",
         "Manual",
         "First Owner",
         null
        ],
        [
         "Datsun RediGO T Option",
         2017,
         275000,
         46000,
         "Petrol",
         "Individual",
         "Manual",
         "First Owner",
         null
        ]
       ],
       "datasetInfos": [],
       "dbfsResultPath": null,
       "isJsonSchema": true,
       "metadata": {
        "createTempViewForImplicitDf": true,
        "dataframeName": "_sqldf",
        "executionCount": 5
       },
       "overflow": false,
       "plotOptions": {
        "customPlotOptions": {},
        "displayType": "table",
        "pivotAggregation": null,
        "pivotColumns": null,
        "xColumns": null,
        "yColumns": null
       },
       "removedWidgets": [],
       "schema": [
        {
         "metadata": "{}",
         "name": "name",
         "type": "\"string\""
        },
        {
         "metadata": "{}",
         "name": "year",
         "type": "\"long\""
        },
        {
         "metadata": "{}",
         "name": "selling_price",
         "type": "\"long\""
        },
        {
         "metadata": "{}",
         "name": "km_driven",
         "type": "\"long\""
        },
        {
         "metadata": "{}",
         "name": "fuel",
         "type": "\"string\""
        },
        {
         "metadata": "{}",
         "name": "seller_type",
         "type": "\"string\""
        },
        {
         "metadata": "{}",
         "name": "transmission",
         "type": "\"string\""
        },
        {
         "metadata": "{}",
         "name": "owner",
         "type": "\"string\""
        },
        {
         "metadata": "{\"__CHAR_VARCHAR_TYPE_STRING\":\"varchar(255)\"}",
         "name": "condition",
         "type": "\"string\""
        }
       ],
       "type": "table"
      }
     },
     "output_type": "display_data"
    }
   ],
   "source": [
    "%sql\n",
    "\n",
    "SELECT * FROM hive_metastore.default.cars LIMIT 10;"
   ]
  },
  {
   "cell_type": "code",
   "execution_count": 0,
   "metadata": {
    "application/vnd.databricks.v1+cell": {
     "cellMetadata": {
      "byteLimit": 2048000,
      "rowLimit": 10000
     },
     "inputWidgets": {},
     "nuid": "d8ee19bb-5984-4ef0-bbdc-cdc89ede8fb3",
     "showTitle": false,
     "title": ""
    }
   },
   "outputs": [
    {
     "output_type": "display_data",
     "data": {
      "text/html": [
       "<style scoped>\n",
       "  .table-result-container {\n",
       "    max-height: 300px;\n",
       "    overflow: auto;\n",
       "  }\n",
       "  table, th, td {\n",
       "    border: 1px solid black;\n",
       "    border-collapse: collapse;\n",
       "  }\n",
       "  th, td {\n",
       "    padding: 5px;\n",
       "  }\n",
       "  th {\n",
       "    text-align: left;\n",
       "  }\n",
       "</style><div class='table-result-container'><table class='table-result'><thead style='background-color: white'><tr><th>path</th><th>name</th><th>size</th><th>modificationTime</th></tr></thead><tbody><tr><td>dbfs:/user/hive/warehouse/cars/_delta_log/</td><td>_delta_log/</td><td>0</td><td>1730092446000</td></tr><tr><td>dbfs:/user/hive/warehouse/cars/deletion_vector_2a523b92-0319-467f-a1bd-de378346db9f.bin</td><td>deletion_vector_2a523b92-0319-467f-a1bd-de378346db9f.bin</td><td>3284</td><td>1730093113000</td></tr><tr><td>dbfs:/user/hive/warehouse/cars/deletion_vector_6ddb76dd-f383-419d-9cec-8e3586d3ee91.bin</td><td>deletion_vector_6ddb76dd-f383-419d-9cec-8e3586d3ee91.bin</td><td>3386</td><td>1730093118000</td></tr><tr><td>dbfs:/user/hive/warehouse/cars/deletion_vector_ade55d4f-4e2a-4a6e-9695-521a8541c61d.bin</td><td>deletion_vector_ade55d4f-4e2a-4a6e-9695-521a8541c61d.bin</td><td>309</td><td>1730093121000</td></tr><tr><td>dbfs:/user/hive/warehouse/cars/part-00000-38c16d48-e1a9-4e06-a8d1-60004c634c76.c000.snappy.parquet</td><td>part-00000-38c16d48-e1a9-4e06-a8d1-60004c634c76.c000.snappy.parquet</td><td>52694</td><td>1730093119000</td></tr><tr><td>dbfs:/user/hive/warehouse/cars/part-00000-a111b137-239a-4003-a585-31e7ea7391b5.c000.snappy.parquet</td><td>part-00000-a111b137-239a-4003-a585-31e7ea7391b5.c000.snappy.parquet</td><td>52353</td><td>1730092447000</td></tr><tr><td>dbfs:/user/hive/warehouse/cars/part-00000-f63e1c07-96c9-4e89-8c4a-19643dc80711.c000.snappy.parquet</td><td>part-00000-f63e1c07-96c9-4e89-8c4a-19643dc80711.c000.snappy.parquet</td><td>36940</td><td>1730093114000</td></tr></tbody></table></div>"
      ]
     },
     "metadata": {
      "application/vnd.databricks.v1+output": {
       "addedWidgets": {},
       "aggData": [],
       "aggError": "",
       "aggOverflow": false,
       "aggSchema": [],
       "aggSeriesLimitReached": false,
       "aggType": "",
       "arguments": {},
       "columnCustomDisplayInfos": {},
       "data": [
        [
         "dbfs:/user/hive/warehouse/cars/_delta_log/",
         "_delta_log/",
         0,
         1730092446000
        ],
        [
         "dbfs:/user/hive/warehouse/cars/deletion_vector_2a523b92-0319-467f-a1bd-de378346db9f.bin",
         "deletion_vector_2a523b92-0319-467f-a1bd-de378346db9f.bin",
         3284,
         1730093113000
        ],
        [
         "dbfs:/user/hive/warehouse/cars/deletion_vector_6ddb76dd-f383-419d-9cec-8e3586d3ee91.bin",
         "deletion_vector_6ddb76dd-f383-419d-9cec-8e3586d3ee91.bin",
         3386,
         1730093118000
        ],
        [
         "dbfs:/user/hive/warehouse/cars/deletion_vector_ade55d4f-4e2a-4a6e-9695-521a8541c61d.bin",
         "deletion_vector_ade55d4f-4e2a-4a6e-9695-521a8541c61d.bin",
         309,
         1730093121000
        ],
        [
         "dbfs:/user/hive/warehouse/cars/part-00000-38c16d48-e1a9-4e06-a8d1-60004c634c76.c000.snappy.parquet",
         "part-00000-38c16d48-e1a9-4e06-a8d1-60004c634c76.c000.snappy.parquet",
         52694,
         1730093119000
        ],
        [
         "dbfs:/user/hive/warehouse/cars/part-00000-a111b137-239a-4003-a585-31e7ea7391b5.c000.snappy.parquet",
         "part-00000-a111b137-239a-4003-a585-31e7ea7391b5.c000.snappy.parquet",
         52353,
         1730092447000
        ],
        [
         "dbfs:/user/hive/warehouse/cars/part-00000-f63e1c07-96c9-4e89-8c4a-19643dc80711.c000.snappy.parquet",
         "part-00000-f63e1c07-96c9-4e89-8c4a-19643dc80711.c000.snappy.parquet",
         36940,
         1730093114000
        ]
       ],
       "datasetInfos": [],
       "dbfsResultPath": null,
       "isJsonSchema": true,
       "metadata": {
        "isDbfsCommandResult": false
       },
       "overflow": false,
       "plotOptions": {
        "customPlotOptions": {},
        "displayType": "table",
        "pivotAggregation": null,
        "pivotColumns": null,
        "xColumns": null,
        "yColumns": null
       },
       "removedWidgets": [],
       "schema": [
        {
         "metadata": "{}",
         "name": "path",
         "type": "\"string\""
        },
        {
         "metadata": "{}",
         "name": "name",
         "type": "\"string\""
        },
        {
         "metadata": "{}",
         "name": "size",
         "type": "\"long\""
        },
        {
         "metadata": "{}",
         "name": "modificationTime",
         "type": "\"long\""
        }
       ],
       "type": "table"
      }
     },
     "output_type": "display_data"
    }
   ],
   "source": [
    "%fs ls dbfs:/user/hive/warehouse/cars"
   ]
  },
  {
   "cell_type": "markdown",
   "metadata": {
    "application/vnd.databricks.v1+cell": {
     "cellMetadata": {},
     "inputWidgets": {},
     "nuid": "cb9522c3-60b4-4f50-94b8-2199458a7bae",
     "showTitle": false,
     "title": ""
    }
   },
   "source": [
    "#### Access the table history\n",
    "The same history can be viewed in the UI by heading to Catalog --> hive_metastore --> default --> cars\n",
    "\n",
    "That will bring up the table view. The history is visible in the History tab.\n"
   ]
  },
  {
   "cell_type": "code",
   "execution_count": 0,
   "metadata": {
    "application/vnd.databricks.v1+cell": {
     "cellMetadata": {
      "byteLimit": 2048000,
      "implicitDf": true,
      "rowLimit": 10000
     },
     "inputWidgets": {},
     "nuid": "0b3a7058-94e9-41f9-9a9b-388605e7309f",
     "showTitle": false,
     "title": ""
    }
   },
   "outputs": [
    {
     "output_type": "display_data",
     "data": {
      "text/html": [
       "<style scoped>\n",
       "  .table-result-container {\n",
       "    max-height: 300px;\n",
       "    overflow: auto;\n",
       "  }\n",
       "  table, th, td {\n",
       "    border: 1px solid black;\n",
       "    border-collapse: collapse;\n",
       "  }\n",
       "  th, td {\n",
       "    padding: 5px;\n",
       "  }\n",
       "  th {\n",
       "    text-align: left;\n",
       "  }\n",
       "</style><div class='table-result-container'><table class='table-result'><thead style='background-color: white'><tr><th>version</th><th>timestamp</th><th>userId</th><th>userName</th><th>operation</th><th>operationParameters</th><th>job</th><th>notebook</th><th>clusterId</th><th>readVersion</th><th>isolationLevel</th><th>isBlindAppend</th><th>operationMetrics</th><th>userMetadata</th><th>engineInfo</th></tr></thead><tbody><tr><td>4</td><td>2024-10-28T05:25:22Z</td><td>599420620358905</td><td>contact@loonycorn.com</td><td>ADD COLUMNS</td><td>Map(columns -> [{\"column\":{\"name\":\"condition\",\"type\":\"varchar(255)\",\"nullable\":true,\"metadata\":{}}}])</td><td>null</td><td>List(3951670535128584)</td><td>1028-032811-163l393x</td><td>3</td><td>WriteSerializable</td><td>true</td><td>Map()</td><td>null</td><td>Databricks-Runtime/15.4.x-photon-scala2.12</td></tr><tr><td>3</td><td>2024-10-28T05:25:21Z</td><td>599420620358905</td><td>contact@loonycorn.com</td><td>OPTIMIZE</td><td>Map(predicate -> [], auto -> true, clusterBy -> [], zOrderBy -> [], batchId -> 0)</td><td>null</td><td>List(3951670535128584)</td><td>1028-032811-163l393x</td><td>1</td><td>SnapshotIsolation</td><td>false</td><td>Map(numRemovedFiles -> 2, numRemovedBytes -> 89293, p25FileSize -> 52694, numDeletionVectorsRemoved -> 1, conflictDetectionTimeMs -> 217, minFileSize -> 52694, numAddedFiles -> 1, maxFileSize -> 52694, p75FileSize -> 52694, p50FileSize -> 52694, numAddedBytes -> 52694)</td><td>null</td><td>Databricks-Runtime/15.4.x-photon-scala2.12</td></tr><tr><td>2</td><td>2024-10-28T05:25:19Z</td><td>599420620358905</td><td>contact@loonycorn.com</td><td>DELETE</td><td>Map(predicate -> [\"(year#22156L = 2007)\"])</td><td>null</td><td>List(3951670535128584)</td><td>1028-032811-163l393x</td><td>1</td><td>WriteSerializable</td><td>false</td><td>Map(numRemovedFiles -> 0, numRemovedBytes -> 0, numCopiedRows -> 0, numDeletionVectorsAdded -> 2, numDeletionVectorsRemoved -> 1, numAddedChangeFiles -> 0, executionTimeMs -> 2195, numDeletionVectorsUpdated -> 1, numDeletedRows -> 134, scanTimeMs -> 1572, numAddedFiles -> 0, numAddedBytes -> 0, rewriteTimeMs -> 623)</td><td>null</td><td>Databricks-Runtime/15.4.x-photon-scala2.12</td></tr><tr><td>1</td><td>2024-10-28T05:25:15Z</td><td>599420620358905</td><td>contact@loonycorn.com</td><td>UPDATE</td><td>Map(predicate -> [\"(owner#21379 = First Owner)\"])</td><td>null</td><td>List(3951670535128584)</td><td>1028-032811-163l393x</td><td>0</td><td>WriteSerializable</td><td>false</td><td>Map(numRemovedFiles -> 0, numRemovedBytes -> 0, numCopiedRows -> 0, numDeletionVectorsAdded -> 1, numDeletionVectorsRemoved -> 0, numAddedChangeFiles -> 0, executionTimeMs -> 1811, numDeletionVectorsUpdated -> 0, scanTimeMs -> 676, numAddedFiles -> 1, numUpdatedRows -> 2832, numAddedBytes -> 36940, rewriteTimeMs -> 1134)</td><td>null</td><td>Databricks-Runtime/15.4.x-photon-scala2.12</td></tr><tr><td>0</td><td>2024-10-28T05:14:07Z</td><td>599420620358905</td><td>contact@loonycorn.com</td><td>CREATE TABLE AS SELECT</td><td>Map(partitionBy -> [], clusterBy -> [], description -> Created by the file upload UI, isManaged -> true, properties -> {\"delta.enableDeletionVectors\":\"true\"}, statsOnLoad -> false)</td><td>null</td><td>null</td><td>1028-032811-163l393x</td><td>null</td><td>WriteSerializable</td><td>true</td><td>Map(numFiles -> 1, numOutputRows -> 4340, numOutputBytes -> 52353)</td><td>null</td><td>Databricks-Runtime/15.4.x-photon-scala2.12</td></tr></tbody></table></div>"
      ]
     },
     "metadata": {
      "application/vnd.databricks.v1+output": {
       "addedWidgets": {},
       "aggData": [],
       "aggError": "",
       "aggOverflow": false,
       "aggSchema": [],
       "aggSeriesLimitReached": false,
       "aggType": "",
       "arguments": {},
       "columnCustomDisplayInfos": {},
       "data": [
        [
         4,
         "2024-10-28T05:25:22Z",
         "599420620358905",
         "contact@loonycorn.com",
         "ADD COLUMNS",
         {
          "columns": "[{\"column\":{\"name\":\"condition\",\"type\":\"varchar(255)\",\"nullable\":true,\"metadata\":{}}}]"
         },
         null,
         [
          "3951670535128584"
         ],
         "1028-032811-163l393x",
         3,
         "WriteSerializable",
         true,
         {},
         null,
         "Databricks-Runtime/15.4.x-photon-scala2.12"
        ],
        [
         3,
         "2024-10-28T05:25:21Z",
         "599420620358905",
         "contact@loonycorn.com",
         "OPTIMIZE",
         {
          "auto": "true",
          "batchId": "0",
          "clusterBy": "[]",
          "predicate": "[]",
          "zOrderBy": "[]"
         },
         null,
         [
          "3951670535128584"
         ],
         "1028-032811-163l393x",
         1,
         "SnapshotIsolation",
         false,
         {
          "conflictDetectionTimeMs": "217",
          "maxFileSize": "52694",
          "minFileSize": "52694",
          "numAddedBytes": "52694",
          "numAddedFiles": "1",
          "numDeletionVectorsRemoved": "1",
          "numRemovedBytes": "89293",
          "numRemovedFiles": "2",
          "p25FileSize": "52694",
          "p50FileSize": "52694",
          "p75FileSize": "52694"
         },
         null,
         "Databricks-Runtime/15.4.x-photon-scala2.12"
        ],
        [
         2,
         "2024-10-28T05:25:19Z",
         "599420620358905",
         "contact@loonycorn.com",
         "DELETE",
         {
          "predicate": "[\"(year#22156L = 2007)\"]"
         },
         null,
         [
          "3951670535128584"
         ],
         "1028-032811-163l393x",
         1,
         "WriteSerializable",
         false,
         {
          "executionTimeMs": "2195",
          "numAddedBytes": "0",
          "numAddedChangeFiles": "0",
          "numAddedFiles": "0",
          "numCopiedRows": "0",
          "numDeletedRows": "134",
          "numDeletionVectorsAdded": "2",
          "numDeletionVectorsRemoved": "1",
          "numDeletionVectorsUpdated": "1",
          "numRemovedBytes": "0",
          "numRemovedFiles": "0",
          "rewriteTimeMs": "623",
          "scanTimeMs": "1572"
         },
         null,
         "Databricks-Runtime/15.4.x-photon-scala2.12"
        ],
        [
         1,
         "2024-10-28T05:25:15Z",
         "599420620358905",
         "contact@loonycorn.com",
         "UPDATE",
         {
          "predicate": "[\"(owner#21379 = First Owner)\"]"
         },
         null,
         [
          "3951670535128584"
         ],
         "1028-032811-163l393x",
         0,
         "WriteSerializable",
         false,
         {
          "executionTimeMs": "1811",
          "numAddedBytes": "36940",
          "numAddedChangeFiles": "0",
          "numAddedFiles": "1",
          "numCopiedRows": "0",
          "numDeletionVectorsAdded": "1",
          "numDeletionVectorsRemoved": "0",
          "numDeletionVectorsUpdated": "0",
          "numRemovedBytes": "0",
          "numRemovedFiles": "0",
          "numUpdatedRows": "2832",
          "rewriteTimeMs": "1134",
          "scanTimeMs": "676"
         },
         null,
         "Databricks-Runtime/15.4.x-photon-scala2.12"
        ],
        [
         0,
         "2024-10-28T05:14:07Z",
         "599420620358905",
         "contact@loonycorn.com",
         "CREATE TABLE AS SELECT",
         {
          "clusterBy": "[]",
          "description": "Created by the file upload UI",
          "isManaged": "true",
          "partitionBy": "[]",
          "properties": "{\"delta.enableDeletionVectors\":\"true\"}",
          "statsOnLoad": "false"
         },
         null,
         null,
         "1028-032811-163l393x",
         null,
         "WriteSerializable",
         true,
         {
          "numFiles": "1",
          "numOutputBytes": "52353",
          "numOutputRows": "4340"
         },
         null,
         "Databricks-Runtime/15.4.x-photon-scala2.12"
        ]
       ],
       "datasetInfos": [],
       "dbfsResultPath": null,
       "isJsonSchema": true,
       "metadata": {
        "createTempViewForImplicitDf": true,
        "dataframeName": "_sqldf",
        "executionCount": 10
       },
       "overflow": false,
       "plotOptions": {
        "customPlotOptions": {},
        "displayType": "table",
        "pivotAggregation": null,
        "pivotColumns": null,
        "xColumns": null,
        "yColumns": null
       },
       "removedWidgets": [],
       "schema": [
        {
         "metadata": "{}",
         "name": "version",
         "type": "\"long\""
        },
        {
         "metadata": "{}",
         "name": "timestamp",
         "type": "\"timestamp\""
        },
        {
         "metadata": "{}",
         "name": "userId",
         "type": "\"string\""
        },
        {
         "metadata": "{}",
         "name": "userName",
         "type": "\"string\""
        },
        {
         "metadata": "{}",
         "name": "operation",
         "type": "\"string\""
        },
        {
         "metadata": "{}",
         "name": "operationParameters",
         "type": "{\"type\":\"map\",\"keyType\":\"string\",\"valueType\":\"string\",\"valueContainsNull\":true}"
        },
        {
         "metadata": "{}",
         "name": "job",
         "type": "{\"type\":\"struct\",\"fields\":[{\"name\":\"jobId\",\"type\":\"string\",\"nullable\":true,\"metadata\":{}},{\"name\":\"jobName\",\"type\":\"string\",\"nullable\":true,\"metadata\":{}},{\"name\":\"jobRunId\",\"type\":\"string\",\"nullable\":true,\"metadata\":{}},{\"name\":\"runId\",\"type\":\"string\",\"nullable\":true,\"metadata\":{}},{\"name\":\"jobOwnerId\",\"type\":\"string\",\"nullable\":true,\"metadata\":{}},{\"name\":\"triggerType\",\"type\":\"string\",\"nullable\":true,\"metadata\":{}}]}"
        },
        {
         "metadata": "{}",
         "name": "notebook",
         "type": "{\"type\":\"struct\",\"fields\":[{\"name\":\"notebookId\",\"type\":\"string\",\"nullable\":true,\"metadata\":{}}]}"
        },
        {
         "metadata": "{}",
         "name": "clusterId",
         "type": "\"string\""
        },
        {
         "metadata": "{}",
         "name": "readVersion",
         "type": "\"long\""
        },
        {
         "metadata": "{}",
         "name": "isolationLevel",
         "type": "\"string\""
        },
        {
         "metadata": "{}",
         "name": "isBlindAppend",
         "type": "\"boolean\""
        },
        {
         "metadata": "{}",
         "name": "operationMetrics",
         "type": "{\"type\":\"map\",\"keyType\":\"string\",\"valueType\":\"string\",\"valueContainsNull\":true}"
        },
        {
         "metadata": "{}",
         "name": "userMetadata",
         "type": "\"string\""
        },
        {
         "metadata": "{}",
         "name": "engineInfo",
         "type": "\"string\""
        }
       ],
       "type": "table"
      }
     },
     "output_type": "display_data"
    }
   ],
   "source": [
    "%sql\n",
    "\n",
    "DESCRIBE HISTORY hive_metastore.default.cars"
   ]
  },
  {
   "cell_type": "code",
   "execution_count": 0,
   "metadata": {
    "application/vnd.databricks.v1+cell": {
     "cellMetadata": {
      "byteLimit": 2048000,
      "implicitDf": true,
      "rowLimit": 10000
     },
     "inputWidgets": {},
     "nuid": "fbd45a93-1316-4043-a67a-e57abd1d7dab",
     "showTitle": false,
     "title": ""
    }
   },
   "outputs": [
    {
     "output_type": "display_data",
     "data": {
      "text/html": [
       "<style scoped>\n",
       "  .table-result-container {\n",
       "    max-height: 300px;\n",
       "    overflow: auto;\n",
       "  }\n",
       "  table, th, td {\n",
       "    border: 1px solid black;\n",
       "    border-collapse: collapse;\n",
       "  }\n",
       "  th, td {\n",
       "    padding: 5px;\n",
       "  }\n",
       "  th {\n",
       "    text-align: left;\n",
       "  }\n",
       "</style><div class='table-result-container'><table class='table-result'><thead style='background-color: white'><tr><th>name</th><th>year</th><th>selling_price</th><th>km_driven</th><th>fuel</th><th>seller_type</th><th>transmission</th><th>owner</th><th>condition</th></tr></thead><tbody></tbody></table></div>"
      ]
     },
     "metadata": {
      "application/vnd.databricks.v1+output": {
       "addedWidgets": {},
       "aggData": [],
       "aggError": "",
       "aggOverflow": false,
       "aggSchema": [],
       "aggSeriesLimitReached": false,
       "aggType": "",
       "arguments": {},
       "columnCustomDisplayInfos": {},
       "data": [],
       "datasetInfos": [],
       "dbfsResultPath": null,
       "isJsonSchema": true,
       "metadata": {
        "createTempViewForImplicitDf": true,
        "dataframeName": "_sqldf",
        "executionCount": 7
       },
       "overflow": false,
       "plotOptions": {
        "customPlotOptions": {},
        "displayType": "table",
        "pivotAggregation": null,
        "pivotColumns": null,
        "xColumns": null,
        "yColumns": null
       },
       "removedWidgets": [],
       "schema": [
        {
         "metadata": "{}",
         "name": "name",
         "type": "\"string\""
        },
        {
         "metadata": "{}",
         "name": "year",
         "type": "\"long\""
        },
        {
         "metadata": "{}",
         "name": "selling_price",
         "type": "\"long\""
        },
        {
         "metadata": "{}",
         "name": "km_driven",
         "type": "\"long\""
        },
        {
         "metadata": "{}",
         "name": "fuel",
         "type": "\"string\""
        },
        {
         "metadata": "{}",
         "name": "seller_type",
         "type": "\"string\""
        },
        {
         "metadata": "{}",
         "name": "transmission",
         "type": "\"string\""
        },
        {
         "metadata": "{}",
         "name": "owner",
         "type": "\"string\""
        },
        {
         "metadata": "{\"__CHAR_VARCHAR_TYPE_STRING\":\"varchar(255)\"}",
         "name": "condition",
         "type": "\"string\""
        }
       ],
       "type": "table"
      }
     },
     "output_type": "display_data"
    }
   ],
   "source": [
    "%sql\n",
    "\n",
    "SELECT * FROM hive_metastore.default.cars WHERE year = 2007"
   ]
  },
  {
   "cell_type": "markdown",
   "metadata": {
    "application/vnd.databricks.v1+cell": {
     "cellMetadata": {},
     "inputWidgets": {},
     "nuid": "88d7f506-018c-450d-90ea-43c62e2909ff",
     "showTitle": false,
     "title": ""
    }
   },
   "source": [
    "#### View the state of the table at a specific point in time\n",
    "Set the timestamp to a value between the UPDATE and DELETE operations. The goal is to roll back to the point after the WRITE but before the DELETE and ALTER."
   ]
  },
  {
   "cell_type": "code",
   "execution_count": 0,
   "metadata": {
    "application/vnd.databricks.v1+cell": {
     "cellMetadata": {
      "byteLimit": 2048000,
      "implicitDf": true,
      "rowLimit": 10000
     },
     "inputWidgets": {},
     "nuid": "339971d0-f5af-4eab-a466-100737570be8",
     "showTitle": false,
     "title": ""
    }
   },
   "outputs": [
    {
     "output_type": "display_data",
     "data": {
      "text/html": [
       "<style scoped>\n",
       "  .table-result-container {\n",
       "    max-height: 300px;\n",
       "    overflow: auto;\n",
       "  }\n",
       "  table, th, td {\n",
       "    border: 1px solid black;\n",
       "    border-collapse: collapse;\n",
       "  }\n",
       "  th, td {\n",
       "    padding: 5px;\n",
       "  }\n",
       "  th {\n",
       "    text-align: left;\n",
       "  }\n",
       "</style><div class='table-result-container'><table class='table-result'><thead style='background-color: white'><tr><th>name</th><th>year</th><th>selling_price</th><th>km_driven</th><th>fuel</th><th>seller_type</th><th>transmission</th><th>owner</th></tr></thead><tbody><tr><td>Honda Civic 1.8 V AT</td><td>2007</td><td>200000</td><td>54000</td><td>Petrol</td><td>Individual</td><td>Automatic</td><td>Second Owner</td></tr><tr><td>Hyundai Santro Xing XO</td><td>2007</td><td>80000</td><td>58000</td><td>Petrol</td><td>Dealer</td><td>Manual</td><td>Second Owner</td></tr><tr><td>Maruti SX4 Vxi BSIII</td><td>2007</td><td>120000</td><td>90000</td><td>Petrol</td><td>Individual</td><td>Manual</td><td>Second Owner</td></tr><tr><td>Maruti Swift Vdi BSIII</td><td>2007</td><td>100000</td><td>110000</td><td>Diesel</td><td>Individual</td><td>Manual</td><td>Fourth & Above Owner</td></tr><tr><td>Hyundai Santro Xing XL eRLX Euro III</td><td>2007</td><td>75000</td><td>114000</td><td>Petrol</td><td>Individual</td><td>Manual</td><td>Second Owner</td></tr><tr><td>Maruti 800 AC</td><td>2007</td><td>95000</td><td>100000</td><td>Petrol</td><td>Individual</td><td>Manual</td><td>Second Owner</td></tr><tr><td>Chevrolet Tavera Neo 3 10 Seats BSIV</td><td>2007</td><td>160000</td><td>120000</td><td>Diesel</td><td>Individual</td><td>Manual</td><td>Third Owner</td></tr><tr><td>Mahindra Scorpio 2.6 Turbo 9 Str</td><td>2007</td><td>370000</td><td>100000</td><td>Diesel</td><td>Individual</td><td>Manual</td><td>Third Owner</td></tr><tr><td>Maruti Swift VXI with ABS</td><td>2007</td><td>250000</td><td>120000</td><td>Petrol</td><td>Individual</td><td>Manual</td><td>Second Owner</td></tr><tr><td>Maruti SX4 Vxi BSIII</td><td>2007</td><td>100000</td><td>90000</td><td>Petrol</td><td>Individual</td><td>Manual</td><td>Second Owner</td></tr><tr><td>Ford Fiesta 1.6 ZXi Duratec</td><td>2007</td><td>190000</td><td>60000</td><td>Petrol</td><td>Individual</td><td>Manual</td><td>Third Owner</td></tr><tr><td>Maruti Alto LX</td><td>2007</td><td>70000</td><td>180000</td><td>Petrol</td><td>Individual</td><td>Manual</td><td>Third Owner</td></tr><tr><td>Maruti 800 AC</td><td>2007</td><td>105000</td><td>60000</td><td>Petrol</td><td>Individual</td><td>Manual</td><td>Second Owner</td></tr><tr><td>Honda Civic 1.8 MT Sport</td><td>2007</td><td>225000</td><td>55000</td><td>Petrol</td><td>Individual</td><td>Manual</td><td>Second Owner</td></tr><tr><td>Hyundai Santro Xing GL PLUS CNG</td><td>2007</td><td>90000</td><td>80000</td><td>CNG</td><td>Individual</td><td>Manual</td><td>Third Owner</td></tr><tr><td>Hyundai Verna CRDi</td><td>2007</td><td>155000</td><td>100000</td><td>Diesel</td><td>Individual</td><td>Manual</td><td>Fourth & Above Owner</td></tr><tr><td>Tata Indigo LS</td><td>2007</td><td>55000</td><td>195000</td><td>Diesel</td><td>Individual</td><td>Manual</td><td>Third Owner</td></tr><tr><td>Toyota Innova 2.5 G4 Diesel 8-seater</td><td>2007</td><td>250000</td><td>80000</td><td>Diesel</td><td>Individual</td><td>Manual</td><td>Second Owner</td></tr><tr><td>Maruti Zen Estilo LXI BSIII</td><td>2007</td><td>100000</td><td>80000</td><td>Petrol</td><td>Individual</td><td>Manual</td><td>Third Owner</td></tr><tr><td>Hyundai Getz GLE</td><td>2007</td><td>110000</td><td>60000</td><td>Petrol</td><td>Individual</td><td>Manual</td><td>Fourth & Above Owner</td></tr><tr><td>Ford Endeavour Hurricane Limited Edition</td><td>2007</td><td>400000</td><td>110000</td><td>Diesel</td><td>Individual</td><td>Automatic</td><td>Fourth & Above Owner</td></tr><tr><td>Maruti Alto LX</td><td>2007</td><td>100000</td><td>52000</td><td>Petrol</td><td>Individual</td><td>Manual</td><td>Second Owner</td></tr><tr><td>Mahindra Jeep MM 540</td><td>2007</td><td>95000</td><td>100000</td><td>Diesel</td><td>Individual</td><td>Manual</td><td>Second Owner</td></tr><tr><td>Maruti Wagon R LXI Minor</td><td>2007</td><td>80000</td><td>120000</td><td>Petrol</td><td>Individual</td><td>Manual</td><td>Second Owner</td></tr><tr><td>Maruti Alto LXi</td><td>2007</td><td>90000</td><td>43826</td><td>Petrol</td><td>Dealer</td><td>Manual</td><td>Second Owner</td></tr><tr><td>Hyundai Verna XXi (Petrol)</td><td>2007</td><td>150000</td><td>84000</td><td>Petrol</td><td>Individual</td><td>Manual</td><td>Second Owner</td></tr><tr><td>Toyota Corolla H6</td><td>2007</td><td>215000</td><td>55800</td><td>Petrol</td><td>Dealer</td><td>Manual</td><td>Second Owner</td></tr><tr><td>Maruti Omni E 8 Str STD</td><td>2007</td><td>110000</td><td>90000</td><td>Petrol</td><td>Individual</td><td>Manual</td><td>Fourth & Above Owner</td></tr><tr><td>Maruti Zen Estilo LX BSIII</td><td>2007</td><td>135000</td><td>74183</td><td>Petrol</td><td>Individual</td><td>Manual</td><td>Second Owner</td></tr><tr><td>Mahindra Bolero DI DX 7 Seater</td><td>2007</td><td>225000</td><td>120000</td><td>Diesel</td><td>Individual</td><td>Manual</td><td>Second Owner</td></tr><tr><td>Tata Indica GLS BS IV</td><td>2007</td><td>85000</td><td>50000</td><td>Petrol</td><td>Individual</td><td>Manual</td><td>Second Owner</td></tr><tr><td>Maruti Wagon R LXI Minor</td><td>2007</td><td>85000</td><td>80000</td><td>Petrol</td><td>Individual</td><td>Manual</td><td>Second Owner</td></tr><tr><td>Maruti Alto LXi</td><td>2007</td><td>100000</td><td>70000</td><td>Petrol</td><td>Individual</td><td>Manual</td><td>Second Owner</td></tr><tr><td>Maruti Zen Estilo 1.1 LXI BSIII</td><td>2007</td><td>100000</td><td>143000</td><td>Petrol</td><td>Individual</td><td>Manual</td><td>Third Owner</td></tr><tr><td>Maruti 800 AC BSIII</td><td>2007</td><td>75000</td><td>90000</td><td>Petrol</td><td>Individual</td><td>Manual</td><td>Second Owner</td></tr><tr><td>Maruti Zen Estilo VXI BSIII</td><td>2007</td><td>140000</td><td>100000</td><td>Petrol</td><td>Individual</td><td>Manual</td><td>Second Owner</td></tr><tr><td>Skoda Laura Ambiente 1.9 PD</td><td>2007</td><td>175000</td><td>181000</td><td>Diesel</td><td>Individual</td><td>Manual</td><td>Fourth & Above Owner</td></tr><tr><td>Maruti Baleno Vxi</td><td>2007</td><td>163000</td><td>100000</td><td>Petrol</td><td>Individual</td><td>Manual</td><td>Second Owner</td></tr><tr><td>Mahindra Scorpio 2.6 Turbo 7 Str</td><td>2007</td><td>210000</td><td>100000</td><td>Diesel</td><td>Individual</td><td>Manual</td><td>Second Owner</td></tr><tr><td>Honda Civic 1.8 S MT</td><td>2007</td><td>229999</td><td>70000</td><td>Petrol</td><td>Individual</td><td>Manual</td><td>Second Owner</td></tr><tr><td>Hyundai Santro Xing XK eRLX EuroIII</td><td>2007</td><td>130000</td><td>135000</td><td>Petrol</td><td>Individual</td><td>Manual</td><td>Second Owner</td></tr><tr><td>Honda Civic 1.8 S MT</td><td>2007</td><td>170000</td><td>70000</td><td>Petrol</td><td>Individual</td><td>Manual</td><td>Third Owner</td></tr><tr><td>Honda Accord VTi-L (MT)</td><td>2007</td><td>200000</td><td>80000</td><td>Petrol</td><td>Individual</td><td>Manual</td><td>Second Owner</td></tr><tr><td>Tata New Safari 4X4</td><td>2007</td><td>199000</td><td>78771</td><td>Diesel</td><td>Dealer</td><td>Manual</td><td>Second Owner</td></tr><tr><td>Maruti Alto LX BSIII</td><td>2007</td><td>135000</td><td>70000</td><td>Petrol</td><td>Individual</td><td>Manual</td><td>Second Owner</td></tr><tr><td>Mercedes-Benz New C-Class 200 CDI Classic</td><td>2007</td><td>699000</td><td>101849</td><td>Diesel</td><td>Dealer</td><td>Manual</td><td>Second Owner</td></tr><tr><td>Maruti Alto LXi</td><td>2007</td><td>100000</td><td>100000</td><td>Petrol</td><td>Individual</td><td>Manual</td><td>Second Owner</td></tr><tr><td>Mahindra Bolero SLE BSIII</td><td>2007</td><td>185000</td><td>230000</td><td>Diesel</td><td>Individual</td><td>Manual</td><td>Second Owner</td></tr><tr><td>Maruti Wagon R VXI Minor</td><td>2007</td><td>80000</td><td>60000</td><td>Petrol</td><td>Individual</td><td>Manual</td><td>Third Owner</td></tr><tr><td>Maruti Alto LX BSIII</td><td>2007</td><td>125000</td><td>100000</td><td>Petrol</td><td>Individual</td><td>Manual</td><td>Second Owner</td></tr><tr><td>Hyundai Verna CRDi ABS</td><td>2007</td><td>175000</td><td>80000</td><td>Diesel</td><td>Individual</td><td>Manual</td><td>Second Owner</td></tr><tr><td>Mahindra Scorpio SLX 2.6 Turbo 8 Str</td><td>2007</td><td>190000</td><td>160000</td><td>Diesel</td><td>Individual</td><td>Manual</td><td>Second Owner</td></tr><tr><td>Hyundai Accent GLS</td><td>2007</td><td>125000</td><td>76000</td><td>Petrol</td><td>Dealer</td><td>Manual</td><td>Third Owner</td></tr><tr><td>Mahindra Bolero SLX 2WD</td><td>2007</td><td>300000</td><td>100000</td><td>Diesel</td><td>Individual</td><td>Manual</td><td>Second Owner</td></tr><tr><td>Hyundai Verna CRDi ABS</td><td>2007</td><td>175000</td><td>80000</td><td>Diesel</td><td>Individual</td><td>Manual</td><td>Second Owner</td></tr><tr><td>Maruti Alto LXi</td><td>2007</td><td>90000</td><td>100000</td><td>Petrol</td><td>Individual</td><td>Manual</td><td>Second Owner</td></tr><tr><td>Maruti Wagon R VXI BS IV</td><td>2007</td><td>100000</td><td>60000</td><td>Petrol</td><td>Individual</td><td>Manual</td><td>Second Owner</td></tr><tr><td>Hyundai Santro Xing XO</td><td>2007</td><td>80000</td><td>58000</td><td>Petrol</td><td>Dealer</td><td>Manual</td><td>Second Owner</td></tr><tr><td>Maruti Wagon R LXI Minor</td><td>2007</td><td>160000</td><td>80000</td><td>Petrol</td><td>Individual</td><td>Manual</td><td>Second Owner</td></tr><tr><td>Maruti Alto LX</td><td>2007</td><td>70000</td><td>120000</td><td>Petrol</td><td>Individual</td><td>Manual</td><td>Third Owner</td></tr><tr><td>Maruti Wagon R LXI DUO BSIII</td><td>2007</td><td>100000</td><td>70000</td><td>LPG</td><td>Individual</td><td>Manual</td><td>Third Owner</td></tr><tr><td>Maruti Alto LXi</td><td>2007</td><td>75000</td><td>40000</td><td>Petrol</td><td>Individual</td><td>Manual</td><td>Second Owner</td></tr><tr><td>Mahindra Bolero SLX</td><td>2007</td><td>300000</td><td>100000</td><td>Diesel</td><td>Individual</td><td>Manual</td><td>Second Owner</td></tr><tr><td>Toyota Innova 2.5 G4 Diesel 7-seater</td><td>2007</td><td>440000</td><td>223000</td><td>Diesel</td><td>Individual</td><td>Manual</td><td>Fourth & Above Owner</td></tr><tr><td>Tata New Safari 4X2</td><td>2007</td><td>550000</td><td>80000</td><td>Petrol</td><td>Individual</td><td>Manual</td><td>Second Owner</td></tr><tr><td>Maruti Omni CNG</td><td>2007</td><td>45000</td><td>100000</td><td>CNG</td><td>Individual</td><td>Manual</td><td>Fourth & Above Owner</td></tr><tr><td>Mahindra Renault Logan 1.5 DLE Diesel</td><td>2007</td><td>125000</td><td>110000</td><td>Diesel</td><td>Individual</td><td>Manual</td><td>Second Owner</td></tr><tr><td>Hyundai Getz GLS</td><td>2007</td><td>95000</td><td>120000</td><td>Petrol</td><td>Individual</td><td>Manual</td><td>Fourth & Above Owner</td></tr><tr><td>Chevrolet Aveo 1.4</td><td>2007</td><td>85000</td><td>70000</td><td>Petrol</td><td>Individual</td><td>Manual</td><td>Second Owner</td></tr><tr><td>Hyundai Santro Xing XK</td><td>2007</td><td>70000</td><td>55000</td><td>Petrol</td><td>Individual</td><td>Manual</td><td>Second Owner</td></tr><tr><td>Ford Fiesta Classic 1.4 SXI Duratorq</td><td>2007</td><td>130000</td><td>98000</td><td>Diesel</td><td>Individual</td><td>Manual</td><td>Second Owner</td></tr><tr><td>Maruti Alto LX</td><td>2007</td><td>100000</td><td>52000</td><td>Petrol</td><td>Individual</td><td>Manual</td><td>Second Owner</td></tr><tr><td>Maruti Wagon R VXI Minor</td><td>2007</td><td>80000</td><td>60000</td><td>Petrol</td><td>Individual</td><td>Manual</td><td>Third Owner</td></tr><tr><td>Maruti Swift 1.3 LXI</td><td>2007</td><td>73000</td><td>80000</td><td>Petrol</td><td>Individual</td><td>Manual</td><td>Second Owner</td></tr><tr><td>Maruti Swift 1.3 LXI</td><td>2007</td><td>73000</td><td>80000</td><td>Petrol</td><td>Individual</td><td>Manual</td><td>Second Owner</td></tr><tr><td>Hyundai Santro Xing GLS</td><td>2007</td><td>85000</td><td>85000</td><td>Petrol</td><td>Individual</td><td>Manual</td><td>Second Owner</td></tr><tr><td>Maruti Grand Vitara MT</td><td>2007</td><td>479000</td><td>145000</td><td>Petrol</td><td>Individual</td><td>Manual</td><td>Third Owner</td></tr><tr><td>Hyundai Verna i (Petrol)</td><td>2007</td><td>123000</td><td>50000</td><td>Petrol</td><td>Individual</td><td>Manual</td><td>Second Owner</td></tr><tr><td>Maruti Wagon R LXI Minor</td><td>2007</td><td>130000</td><td>60000</td><td>Petrol</td><td>Individual</td><td>Manual</td><td>Third Owner</td></tr><tr><td>Maruti Swift ZXI ABS</td><td>2007</td><td>220000</td><td>80000</td><td>Petrol</td><td>Individual</td><td>Manual</td><td>Second Owner</td></tr><tr><td>Maruti Esteem Vxi</td><td>2007</td><td>100000</td><td>90000</td><td>Petrol</td><td>Individual</td><td>Manual</td><td>Second Owner</td></tr><tr><td>Chevrolet Aveo U-VA 1.2</td><td>2007</td><td>80000</td><td>110000</td><td>Petrol</td><td>Individual</td><td>Manual</td><td>Second Owner</td></tr><tr><td>Maruti Alto LXi</td><td>2007</td><td>95000</td><td>85000</td><td>Petrol</td><td>Individual</td><td>Manual</td><td>Second Owner</td></tr><tr><td>Tata Indica GLS BS IV</td><td>2007</td><td>60000</td><td>130000</td><td>Petrol</td><td>Individual</td><td>Manual</td><td>Second Owner</td></tr><tr><td>Maruti Zen Estilo 1.1 LXI BSIII</td><td>2007</td><td>160000</td><td>90000</td><td>Petrol</td><td>Individual</td><td>Manual</td><td>Second Owner</td></tr><tr><td>Mahindra Renault Logan 1.5 DLX Diesel</td><td>2007</td><td>150000</td><td>90000</td><td>Diesel</td><td>Individual</td><td>Manual</td><td>Third Owner</td></tr><tr><td>Fiat Palio 1.2 Sport</td><td>2007</td><td>125000</td><td>50000</td><td>Petrol</td><td>Individual</td><td>Manual</td><td>Second Owner</td></tr><tr><td>Tata New Safari 4X2</td><td>2007</td><td>550000</td><td>80000</td><td>Petrol</td><td>Individual</td><td>Manual</td><td>Second Owner</td></tr><tr><td>Hyundai Verna i (Petrol)</td><td>2007</td><td>123000</td><td>50000</td><td>Petrol</td><td>Individual</td><td>Manual</td><td>Second Owner</td></tr><tr><td>Hyundai Verna CRDi SX</td><td>2007</td><td>212000</td><td>58000</td><td>Diesel</td><td>Dealer</td><td>Manual</td><td>Second Owner</td></tr><tr><td>Maruti SX4 Zxi BSIII</td><td>2007</td><td>160000</td><td>80000</td><td>Petrol</td><td>Individual</td><td>Manual</td><td>Third Owner</td></tr><tr><td>Honda City 1.5 GXI</td><td>2007</td><td>190000</td><td>115000</td><td>Petrol</td><td>Dealer</td><td>Manual</td><td>Second Owner</td></tr><tr><td>Honda City 1.5 GXI</td><td>2007</td><td>190000</td><td>115000</td><td>Petrol</td><td>Dealer</td><td>Manual</td><td>Second Owner</td></tr><tr><td>Maruti 800 AC</td><td>2007</td><td>66000</td><td>70000</td><td>Petrol</td><td>Individual</td><td>Manual</td><td>First Owner</td></tr><tr><td>Maruti Wagon R LXI Minor</td><td>2007</td><td>148500</td><td>50000</td><td>Petrol</td><td>Individual</td><td>Manual</td><td>First Owner</td></tr><tr><td>Maruti Alto LX BSIII</td><td>2007</td><td>154000</td><td>125000</td><td>Petrol</td><td>Individual</td><td>Manual</td><td>First Owner</td></tr><tr><td>Maruti 800 AC</td><td>2007</td><td>66000</td><td>70000</td><td>Petrol</td><td>Individual</td><td>Manual</td><td>First Owner</td></tr><tr><td>Maruti Wagon R LXI Minor</td><td>2007</td><td>148500</td><td>50000</td><td>Petrol</td><td>Individual</td><td>Manual</td><td>First Owner</td></tr><tr><td>Maruti Alto LX BSIII</td><td>2007</td><td>154000</td><td>125000</td><td>Petrol</td><td>Individual</td><td>Manual</td><td>First Owner</td></tr><tr><td>Tata Indigo Classic Dicor</td><td>2007</td><td>110000</td><td>39000</td><td>Diesel</td><td>Individual</td><td>Manual</td><td>First Owner</td></tr><tr><td>Maruti SX4 Zxi with Leather BSIII</td><td>2007</td><td>192500</td><td>78380</td><td>Petrol</td><td>Individual</td><td>Manual</td><td>First Owner</td></tr><tr><td>Maruti Alto LXi</td><td>2007</td><td>110000</td><td>195000</td><td>Petrol</td><td>Individual</td><td>Manual</td><td>First Owner</td></tr><tr><td>Maruti Wagon R LXI Minor</td><td>2007</td><td>104500</td><td>80000</td><td>Petrol</td><td>Individual</td><td>Manual</td><td>First Owner</td></tr><tr><td>Mahindra Bolero DI DX 7 Seater</td><td>2007</td><td>247500</td><td>120000</td><td>Diesel</td><td>Individual</td><td>Manual</td><td>First Owner</td></tr><tr><td>Maruti Swift VDI</td><td>2007</td><td>247500</td><td>50000</td><td>Diesel</td><td>Dealer</td><td>Manual</td><td>First Owner</td></tr><tr><td>Maruti Wagon R LXI Minor</td><td>2007</td><td>154000</td><td>49000</td><td>Petrol</td><td>Dealer</td><td>Manual</td><td>First Owner</td></tr><tr><td>Maruti Zen Estilo 1.1 VXI BSIII</td><td>2007</td><td>104500</td><td>80000</td><td>Petrol</td><td>Individual</td><td>Manual</td><td>First Owner</td></tr><tr><td>Mahindra Bolero DI</td><td>2007</td><td>275000</td><td>50000</td><td>Diesel</td><td>Individual</td><td>Manual</td><td>First Owner</td></tr><tr><td>Hyundai Verna SX</td><td>2007</td><td>170500</td><td>65000</td><td>Petrol</td><td>Dealer</td><td>Manual</td><td>First Owner</td></tr><tr><td>Maruti Swift VDI BSIV</td><td>2007</td><td>214500</td><td>112880</td><td>Diesel</td><td>Dealer</td><td>Manual</td><td>First Owner</td></tr><tr><td>Hyundai Santro Xing XK (Non-AC)</td><td>2007</td><td>110000</td><td>50000</td><td>Petrol</td><td>Individual</td><td>Manual</td><td>First Owner</td></tr><tr><td>Maruti Zen Estilo VXI BSIII</td><td>2007</td><td>99000</td><td>90000</td><td>Petrol</td><td>Individual</td><td>Manual</td><td>First Owner</td></tr><tr><td>Maruti Esteem Lxi - BSIII</td><td>2007</td><td>82500</td><td>54000</td><td>Petrol</td><td>Individual</td><td>Manual</td><td>First Owner</td></tr><tr><td>Maruti Zen Estilo 1.1 LXI BSIII</td><td>2007</td><td>132000</td><td>81366</td><td>Petrol</td><td>Individual</td><td>Manual</td><td>First Owner</td></tr><tr><td>Maruti Esteem Lxi - BSIII</td><td>2007</td><td>82500</td><td>54000</td><td>Petrol</td><td>Individual</td><td>Manual</td><td>First Owner</td></tr><tr><td>Hyundai Santro GLS I - Euro II</td><td>2007</td><td>148500</td><td>85000</td><td>Petrol</td><td>Dealer</td><td>Manual</td><td>First Owner</td></tr><tr><td>Mitsubishi Montero 3.2 MT</td><td>2007</td><td>825000</td><td>180000</td><td>Diesel</td><td>Individual</td><td>Manual</td><td>First Owner</td></tr><tr><td>Ford Fiesta 1.4 ZXi Leather</td><td>2007</td><td>110000</td><td>170000</td><td>Petrol</td><td>Individual</td><td>Manual</td><td>First Owner</td></tr><tr><td>Maruti Zen Estilo LXI BSIII</td><td>2007</td><td>302500</td><td>10211</td><td>Petrol</td><td>Individual</td><td>Manual</td><td>First Owner</td></tr><tr><td>Maruti 800 AC</td><td>2007</td><td>88000</td><td>120000</td><td>Petrol</td><td>Individual</td><td>Manual</td><td>First Owner</td></tr><tr><td>Maruti 800 AC</td><td>2007</td><td>66000</td><td>70000</td><td>Petrol</td><td>Individual</td><td>Manual</td><td>First Owner</td></tr><tr><td>Honda Civic 1.8 S AT</td><td>2007</td><td>275000</td><td>47000</td><td>Petrol</td><td>Dealer</td><td>Automatic</td><td>First Owner</td></tr><tr><td>Maruti Wagon R LX Minor</td><td>2007</td><td>110000</td><td>100000</td><td>Petrol</td><td>Individual</td><td>Manual</td><td>First Owner</td></tr><tr><td>Maruti Wagon R LX BSIII</td><td>2007</td><td>110000</td><td>110000</td><td>Petrol</td><td>Individual</td><td>Manual</td><td>First Owner</td></tr><tr><td>Honda Civic 1.8 V AT</td><td>2007</td><td>308000</td><td>60000</td><td>Petrol</td><td>Individual</td><td>Automatic</td><td>First Owner</td></tr><tr><td>Mercedes-Benz E-Class 280 CDI</td><td>2007</td><td>990000</td><td>76731</td><td>Diesel</td><td>Dealer</td><td>Automatic</td><td>First Owner</td></tr><tr><td>Maruti 800 AC BSIII</td><td>2007</td><td>66000</td><td>52000</td><td>Petrol</td><td>Individual</td><td>Manual</td><td>First Owner</td></tr><tr><td>Maruti Zen Estilo 1.1 LXI BSIII</td><td>2007</td><td>132000</td><td>81366</td><td>Petrol</td><td>Individual</td><td>Manual</td><td>First Owner</td></tr><tr><td>Maruti Wagon R LXI DUO BSIII</td><td>2007</td><td>77000</td><td>162000</td><td>LPG</td><td>Individual</td><td>Manual</td><td>First Owner</td></tr><tr><td>Maruti Alto LXi</td><td>2007</td><td>110000</td><td>70000</td><td>Petrol</td><td>Individual</td><td>Manual</td><td>First Owner</td></tr><tr><td>Hyundai Getz GLX</td><td>2007</td><td>121000</td><td>90000</td><td>Petrol</td><td>Individual</td><td>Manual</td><td>First Owner</td></tr><tr><td>Hyundai Verna SX</td><td>2007</td><td>170500</td><td>65000</td><td>Petrol</td><td>Dealer</td><td>Manual</td><td>First Owner</td></tr><tr><td>Maruti Swift VDI</td><td>2007</td><td>247500</td><td>50000</td><td>Diesel</td><td>Dealer</td><td>Manual</td><td>First Owner</td></tr><tr><td>Maruti Wagon R LXI Minor</td><td>2007</td><td>154000</td><td>49000</td><td>Petrol</td><td>Dealer</td><td>Manual</td><td>First Owner</td></tr></tbody></table></div>"
      ]
     },
     "metadata": {
      "application/vnd.databricks.v1+output": {
       "addedWidgets": {},
       "aggData": [],
       "aggError": "",
       "aggOverflow": false,
       "aggSchema": [],
       "aggSeriesLimitReached": false,
       "aggType": "",
       "arguments": {},
       "columnCustomDisplayInfos": {},
       "data": [
        [
         "Honda Civic 1.8 V AT",
         2007,
         200000,
         54000,
         "Petrol",
         "Individual",
         "Automatic",
         "Second Owner"
        ],
        [
         "Hyundai Santro Xing XO",
         2007,
         80000,
         58000,
         "Petrol",
         "Dealer",
         "Manual",
         "Second Owner"
        ],
        [
         "Maruti SX4 Vxi BSIII",
         2007,
         120000,
         90000,
         "Petrol",
         "Individual",
         "Manual",
         "Second Owner"
        ],
        [
         "Maruti Swift Vdi BSIII",
         2007,
         100000,
         110000,
         "Diesel",
         "Individual",
         "Manual",
         "Fourth & Above Owner"
        ],
        [
         "Hyundai Santro Xing XL eRLX Euro III",
         2007,
         75000,
         114000,
         "Petrol",
         "Individual",
         "Manual",
         "Second Owner"
        ],
        [
         "Maruti 800 AC",
         2007,
         95000,
         100000,
         "Petrol",
         "Individual",
         "Manual",
         "Second Owner"
        ],
        [
         "Chevrolet Tavera Neo 3 10 Seats BSIV",
         2007,
         160000,
         120000,
         "Diesel",
         "Individual",
         "Manual",
         "Third Owner"
        ],
        [
         "Mahindra Scorpio 2.6 Turbo 9 Str",
         2007,
         370000,
         100000,
         "Diesel",
         "Individual",
         "Manual",
         "Third Owner"
        ],
        [
         "Maruti Swift VXI with ABS",
         2007,
         250000,
         120000,
         "Petrol",
         "Individual",
         "Manual",
         "Second Owner"
        ],
        [
         "Maruti SX4 Vxi BSIII",
         2007,
         100000,
         90000,
         "Petrol",
         "Individual",
         "Manual",
         "Second Owner"
        ],
        [
         "Ford Fiesta 1.6 ZXi Duratec",
         2007,
         190000,
         60000,
         "Petrol",
         "Individual",
         "Manual",
         "Third Owner"
        ],
        [
         "Maruti Alto LX",
         2007,
         70000,
         180000,
         "Petrol",
         "Individual",
         "Manual",
         "Third Owner"
        ],
        [
         "Maruti 800 AC",
         2007,
         105000,
         60000,
         "Petrol",
         "Individual",
         "Manual",
         "Second Owner"
        ],
        [
         "Honda Civic 1.8 MT Sport",
         2007,
         225000,
         55000,
         "Petrol",
         "Individual",
         "Manual",
         "Second Owner"
        ],
        [
         "Hyundai Santro Xing GL PLUS CNG",
         2007,
         90000,
         80000,
         "CNG",
         "Individual",
         "Manual",
         "Third Owner"
        ],
        [
         "Hyundai Verna CRDi",
         2007,
         155000,
         100000,
         "Diesel",
         "Individual",
         "Manual",
         "Fourth & Above Owner"
        ],
        [
         "Tata Indigo LS",
         2007,
         55000,
         195000,
         "Diesel",
         "Individual",
         "Manual",
         "Third Owner"
        ],
        [
         "Toyota Innova 2.5 G4 Diesel 8-seater",
         2007,
         250000,
         80000,
         "Diesel",
         "Individual",
         "Manual",
         "Second Owner"
        ],
        [
         "Maruti Zen Estilo LXI BSIII",
         2007,
         100000,
         80000,
         "Petrol",
         "Individual",
         "Manual",
         "Third Owner"
        ],
        [
         "Hyundai Getz GLE",
         2007,
         110000,
         60000,
         "Petrol",
         "Individual",
         "Manual",
         "Fourth & Above Owner"
        ],
        [
         "Ford Endeavour Hurricane Limited Edition",
         2007,
         400000,
         110000,
         "Diesel",
         "Individual",
         "Automatic",
         "Fourth & Above Owner"
        ],
        [
         "Maruti Alto LX",
         2007,
         100000,
         52000,
         "Petrol",
         "Individual",
         "Manual",
         "Second Owner"
        ],
        [
         "Mahindra Jeep MM 540",
         2007,
         95000,
         100000,
         "Diesel",
         "Individual",
         "Manual",
         "Second Owner"
        ],
        [
         "Maruti Wagon R LXI Minor",
         2007,
         80000,
         120000,
         "Petrol",
         "Individual",
         "Manual",
         "Second Owner"
        ],
        [
         "Maruti Alto LXi",
         2007,
         90000,
         43826,
         "Petrol",
         "Dealer",
         "Manual",
         "Second Owner"
        ],
        [
         "Hyundai Verna XXi (Petrol)",
         2007,
         150000,
         84000,
         "Petrol",
         "Individual",
         "Manual",
         "Second Owner"
        ],
        [
         "Toyota Corolla H6",
         2007,
         215000,
         55800,
         "Petrol",
         "Dealer",
         "Manual",
         "Second Owner"
        ],
        [
         "Maruti Omni E 8 Str STD",
         2007,
         110000,
         90000,
         "Petrol",
         "Individual",
         "Manual",
         "Fourth & Above Owner"
        ],
        [
         "Maruti Zen Estilo LX BSIII",
         2007,
         135000,
         74183,
         "Petrol",
         "Individual",
         "Manual",
         "Second Owner"
        ],
        [
         "Mahindra Bolero DI DX 7 Seater",
         2007,
         225000,
         120000,
         "Diesel",
         "Individual",
         "Manual",
         "Second Owner"
        ],
        [
         "Tata Indica GLS BS IV",
         2007,
         85000,
         50000,
         "Petrol",
         "Individual",
         "Manual",
         "Second Owner"
        ],
        [
         "Maruti Wagon R LXI Minor",
         2007,
         85000,
         80000,
         "Petrol",
         "Individual",
         "Manual",
         "Second Owner"
        ],
        [
         "Maruti Alto LXi",
         2007,
         100000,
         70000,
         "Petrol",
         "Individual",
         "Manual",
         "Second Owner"
        ],
        [
         "Maruti Zen Estilo 1.1 LXI BSIII",
         2007,
         100000,
         143000,
         "Petrol",
         "Individual",
         "Manual",
         "Third Owner"
        ],
        [
         "Maruti 800 AC BSIII",
         2007,
         75000,
         90000,
         "Petrol",
         "Individual",
         "Manual",
         "Second Owner"
        ],
        [
         "Maruti Zen Estilo VXI BSIII",
         2007,
         140000,
         100000,
         "Petrol",
         "Individual",
         "Manual",
         "Second Owner"
        ],
        [
         "Skoda Laura Ambiente 1.9 PD",
         2007,
         175000,
         181000,
         "Diesel",
         "Individual",
         "Manual",
         "Fourth & Above Owner"
        ],
        [
         "Maruti Baleno Vxi",
         2007,
         163000,
         100000,
         "Petrol",
         "Individual",
         "Manual",
         "Second Owner"
        ],
        [
         "Mahindra Scorpio 2.6 Turbo 7 Str",
         2007,
         210000,
         100000,
         "Diesel",
         "Individual",
         "Manual",
         "Second Owner"
        ],
        [
         "Honda Civic 1.8 S MT",
         2007,
         229999,
         70000,
         "Petrol",
         "Individual",
         "Manual",
         "Second Owner"
        ],
        [
         "Hyundai Santro Xing XK eRLX EuroIII",
         2007,
         130000,
         135000,
         "Petrol",
         "Individual",
         "Manual",
         "Second Owner"
        ],
        [
         "Honda Civic 1.8 S MT",
         2007,
         170000,
         70000,
         "Petrol",
         "Individual",
         "Manual",
         "Third Owner"
        ],
        [
         "Honda Accord VTi-L (MT)",
         2007,
         200000,
         80000,
         "Petrol",
         "Individual",
         "Manual",
         "Second Owner"
        ],
        [
         "Tata New Safari 4X4",
         2007,
         199000,
         78771,
         "Diesel",
         "Dealer",
         "Manual",
         "Second Owner"
        ],
        [
         "Maruti Alto LX BSIII",
         2007,
         135000,
         70000,
         "Petrol",
         "Individual",
         "Manual",
         "Second Owner"
        ],
        [
         "Mercedes-Benz New C-Class 200 CDI Classic",
         2007,
         699000,
         101849,
         "Diesel",
         "Dealer",
         "Manual",
         "Second Owner"
        ],
        [
         "Maruti Alto LXi",
         2007,
         100000,
         100000,
         "Petrol",
         "Individual",
         "Manual",
         "Second Owner"
        ],
        [
         "Mahindra Bolero SLE BSIII",
         2007,
         185000,
         230000,
         "Diesel",
         "Individual",
         "Manual",
         "Second Owner"
        ],
        [
         "Maruti Wagon R VXI Minor",
         2007,
         80000,
         60000,
         "Petrol",
         "Individual",
         "Manual",
         "Third Owner"
        ],
        [
         "Maruti Alto LX BSIII",
         2007,
         125000,
         100000,
         "Petrol",
         "Individual",
         "Manual",
         "Second Owner"
        ],
        [
         "Hyundai Verna CRDi ABS",
         2007,
         175000,
         80000,
         "Diesel",
         "Individual",
         "Manual",
         "Second Owner"
        ],
        [
         "Mahindra Scorpio SLX 2.6 Turbo 8 Str",
         2007,
         190000,
         160000,
         "Diesel",
         "Individual",
         "Manual",
         "Second Owner"
        ],
        [
         "Hyundai Accent GLS",
         2007,
         125000,
         76000,
         "Petrol",
         "Dealer",
         "Manual",
         "Third Owner"
        ],
        [
         "Mahindra Bolero SLX 2WD",
         2007,
         300000,
         100000,
         "Diesel",
         "Individual",
         "Manual",
         "Second Owner"
        ],
        [
         "Hyundai Verna CRDi ABS",
         2007,
         175000,
         80000,
         "Diesel",
         "Individual",
         "Manual",
         "Second Owner"
        ],
        [
         "Maruti Alto LXi",
         2007,
         90000,
         100000,
         "Petrol",
         "Individual",
         "Manual",
         "Second Owner"
        ],
        [
         "Maruti Wagon R VXI BS IV",
         2007,
         100000,
         60000,
         "Petrol",
         "Individual",
         "Manual",
         "Second Owner"
        ],
        [
         "Hyundai Santro Xing XO",
         2007,
         80000,
         58000,
         "Petrol",
         "Dealer",
         "Manual",
         "Second Owner"
        ],
        [
         "Maruti Wagon R LXI Minor",
         2007,
         160000,
         80000,
         "Petrol",
         "Individual",
         "Manual",
         "Second Owner"
        ],
        [
         "Maruti Alto LX",
         2007,
         70000,
         120000,
         "Petrol",
         "Individual",
         "Manual",
         "Third Owner"
        ],
        [
         "Maruti Wagon R LXI DUO BSIII",
         2007,
         100000,
         70000,
         "LPG",
         "Individual",
         "Manual",
         "Third Owner"
        ],
        [
         "Maruti Alto LXi",
         2007,
         75000,
         40000,
         "Petrol",
         "Individual",
         "Manual",
         "Second Owner"
        ],
        [
         "Mahindra Bolero SLX",
         2007,
         300000,
         100000,
         "Diesel",
         "Individual",
         "Manual",
         "Second Owner"
        ],
        [
         "Toyota Innova 2.5 G4 Diesel 7-seater",
         2007,
         440000,
         223000,
         "Diesel",
         "Individual",
         "Manual",
         "Fourth & Above Owner"
        ],
        [
         "Tata New Safari 4X2",
         2007,
         550000,
         80000,
         "Petrol",
         "Individual",
         "Manual",
         "Second Owner"
        ],
        [
         "Maruti Omni CNG",
         2007,
         45000,
         100000,
         "CNG",
         "Individual",
         "Manual",
         "Fourth & Above Owner"
        ],
        [
         "Mahindra Renault Logan 1.5 DLE Diesel",
         2007,
         125000,
         110000,
         "Diesel",
         "Individual",
         "Manual",
         "Second Owner"
        ],
        [
         "Hyundai Getz GLS",
         2007,
         95000,
         120000,
         "Petrol",
         "Individual",
         "Manual",
         "Fourth & Above Owner"
        ],
        [
         "Chevrolet Aveo 1.4",
         2007,
         85000,
         70000,
         "Petrol",
         "Individual",
         "Manual",
         "Second Owner"
        ],
        [
         "Hyundai Santro Xing XK",
         2007,
         70000,
         55000,
         "Petrol",
         "Individual",
         "Manual",
         "Second Owner"
        ],
        [
         "Ford Fiesta Classic 1.4 SXI Duratorq",
         2007,
         130000,
         98000,
         "Diesel",
         "Individual",
         "Manual",
         "Second Owner"
        ],
        [
         "Maruti Alto LX",
         2007,
         100000,
         52000,
         "Petrol",
         "Individual",
         "Manual",
         "Second Owner"
        ],
        [
         "Maruti Wagon R VXI Minor",
         2007,
         80000,
         60000,
         "Petrol",
         "Individual",
         "Manual",
         "Third Owner"
        ],
        [
         "Maruti Swift 1.3 LXI",
         2007,
         73000,
         80000,
         "Petrol",
         "Individual",
         "Manual",
         "Second Owner"
        ],
        [
         "Maruti Swift 1.3 LXI",
         2007,
         73000,
         80000,
         "Petrol",
         "Individual",
         "Manual",
         "Second Owner"
        ],
        [
         "Hyundai Santro Xing GLS",
         2007,
         85000,
         85000,
         "Petrol",
         "Individual",
         "Manual",
         "Second Owner"
        ],
        [
         "Maruti Grand Vitara MT",
         2007,
         479000,
         145000,
         "Petrol",
         "Individual",
         "Manual",
         "Third Owner"
        ],
        [
         "Hyundai Verna i (Petrol)",
         2007,
         123000,
         50000,
         "Petrol",
         "Individual",
         "Manual",
         "Second Owner"
        ],
        [
         "Maruti Wagon R LXI Minor",
         2007,
         130000,
         60000,
         "Petrol",
         "Individual",
         "Manual",
         "Third Owner"
        ],
        [
         "Maruti Swift ZXI ABS",
         2007,
         220000,
         80000,
         "Petrol",
         "Individual",
         "Manual",
         "Second Owner"
        ],
        [
         "Maruti Esteem Vxi",
         2007,
         100000,
         90000,
         "Petrol",
         "Individual",
         "Manual",
         "Second Owner"
        ],
        [
         "Chevrolet Aveo U-VA 1.2",
         2007,
         80000,
         110000,
         "Petrol",
         "Individual",
         "Manual",
         "Second Owner"
        ],
        [
         "Maruti Alto LXi",
         2007,
         95000,
         85000,
         "Petrol",
         "Individual",
         "Manual",
         "Second Owner"
        ],
        [
         "Tata Indica GLS BS IV",
         2007,
         60000,
         130000,
         "Petrol",
         "Individual",
         "Manual",
         "Second Owner"
        ],
        [
         "Maruti Zen Estilo 1.1 LXI BSIII",
         2007,
         160000,
         90000,
         "Petrol",
         "Individual",
         "Manual",
         "Second Owner"
        ],
        [
         "Mahindra Renault Logan 1.5 DLX Diesel",
         2007,
         150000,
         90000,
         "Diesel",
         "Individual",
         "Manual",
         "Third Owner"
        ],
        [
         "Fiat Palio 1.2 Sport",
         2007,
         125000,
         50000,
         "Petrol",
         "Individual",
         "Manual",
         "Second Owner"
        ],
        [
         "Tata New Safari 4X2",
         2007,
         550000,
         80000,
         "Petrol",
         "Individual",
         "Manual",
         "Second Owner"
        ],
        [
         "Hyundai Verna i (Petrol)",
         2007,
         123000,
         50000,
         "Petrol",
         "Individual",
         "Manual",
         "Second Owner"
        ],
        [
         "Hyundai Verna CRDi SX",
         2007,
         212000,
         58000,
         "Diesel",
         "Dealer",
         "Manual",
         "Second Owner"
        ],
        [
         "Maruti SX4 Zxi BSIII",
         2007,
         160000,
         80000,
         "Petrol",
         "Individual",
         "Manual",
         "Third Owner"
        ],
        [
         "Honda City 1.5 GXI",
         2007,
         190000,
         115000,
         "Petrol",
         "Dealer",
         "Manual",
         "Second Owner"
        ],
        [
         "Honda City 1.5 GXI",
         2007,
         190000,
         115000,
         "Petrol",
         "Dealer",
         "Manual",
         "Second Owner"
        ],
        [
         "Maruti 800 AC",
         2007,
         66000,
         70000,
         "Petrol",
         "Individual",
         "Manual",
         "First Owner"
        ],
        [
         "Maruti Wagon R LXI Minor",
         2007,
         148500,
         50000,
         "Petrol",
         "Individual",
         "Manual",
         "First Owner"
        ],
        [
         "Maruti Alto LX BSIII",
         2007,
         154000,
         125000,
         "Petrol",
         "Individual",
         "Manual",
         "First Owner"
        ],
        [
         "Maruti 800 AC",
         2007,
         66000,
         70000,
         "Petrol",
         "Individual",
         "Manual",
         "First Owner"
        ],
        [
         "Maruti Wagon R LXI Minor",
         2007,
         148500,
         50000,
         "Petrol",
         "Individual",
         "Manual",
         "First Owner"
        ],
        [
         "Maruti Alto LX BSIII",
         2007,
         154000,
         125000,
         "Petrol",
         "Individual",
         "Manual",
         "First Owner"
        ],
        [
         "Tata Indigo Classic Dicor",
         2007,
         110000,
         39000,
         "Diesel",
         "Individual",
         "Manual",
         "First Owner"
        ],
        [
         "Maruti SX4 Zxi with Leather BSIII",
         2007,
         192500,
         78380,
         "Petrol",
         "Individual",
         "Manual",
         "First Owner"
        ],
        [
         "Maruti Alto LXi",
         2007,
         110000,
         195000,
         "Petrol",
         "Individual",
         "Manual",
         "First Owner"
        ],
        [
         "Maruti Wagon R LXI Minor",
         2007,
         104500,
         80000,
         "Petrol",
         "Individual",
         "Manual",
         "First Owner"
        ],
        [
         "Mahindra Bolero DI DX 7 Seater",
         2007,
         247500,
         120000,
         "Diesel",
         "Individual",
         "Manual",
         "First Owner"
        ],
        [
         "Maruti Swift VDI",
         2007,
         247500,
         50000,
         "Diesel",
         "Dealer",
         "Manual",
         "First Owner"
        ],
        [
         "Maruti Wagon R LXI Minor",
         2007,
         154000,
         49000,
         "Petrol",
         "Dealer",
         "Manual",
         "First Owner"
        ],
        [
         "Maruti Zen Estilo 1.1 VXI BSIII",
         2007,
         104500,
         80000,
         "Petrol",
         "Individual",
         "Manual",
         "First Owner"
        ],
        [
         "Mahindra Bolero DI",
         2007,
         275000,
         50000,
         "Diesel",
         "Individual",
         "Manual",
         "First Owner"
        ],
        [
         "Hyundai Verna SX",
         2007,
         170500,
         65000,
         "Petrol",
         "Dealer",
         "Manual",
         "First Owner"
        ],
        [
         "Maruti Swift VDI BSIV",
         2007,
         214500,
         112880,
         "Diesel",
         "Dealer",
         "Manual",
         "First Owner"
        ],
        [
         "Hyundai Santro Xing XK (Non-AC)",
         2007,
         110000,
         50000,
         "Petrol",
         "Individual",
         "Manual",
         "First Owner"
        ],
        [
         "Maruti Zen Estilo VXI BSIII",
         2007,
         99000,
         90000,
         "Petrol",
         "Individual",
         "Manual",
         "First Owner"
        ],
        [
         "Maruti Esteem Lxi - BSIII",
         2007,
         82500,
         54000,
         "Petrol",
         "Individual",
         "Manual",
         "First Owner"
        ],
        [
         "Maruti Zen Estilo 1.1 LXI BSIII",
         2007,
         132000,
         81366,
         "Petrol",
         "Individual",
         "Manual",
         "First Owner"
        ],
        [
         "Maruti Esteem Lxi - BSIII",
         2007,
         82500,
         54000,
         "Petrol",
         "Individual",
         "Manual",
         "First Owner"
        ],
        [
         "Hyundai Santro GLS I - Euro II",
         2007,
         148500,
         85000,
         "Petrol",
         "Dealer",
         "Manual",
         "First Owner"
        ],
        [
         "Mitsubishi Montero 3.2 MT",
         2007,
         825000,
         180000,
         "Diesel",
         "Individual",
         "Manual",
         "First Owner"
        ],
        [
         "Ford Fiesta 1.4 ZXi Leather",
         2007,
         110000,
         170000,
         "Petrol",
         "Individual",
         "Manual",
         "First Owner"
        ],
        [
         "Maruti Zen Estilo LXI BSIII",
         2007,
         302500,
         10211,
         "Petrol",
         "Individual",
         "Manual",
         "First Owner"
        ],
        [
         "Maruti 800 AC",
         2007,
         88000,
         120000,
         "Petrol",
         "Individual",
         "Manual",
         "First Owner"
        ],
        [
         "Maruti 800 AC",
         2007,
         66000,
         70000,
         "Petrol",
         "Individual",
         "Manual",
         "First Owner"
        ],
        [
         "Honda Civic 1.8 S AT",
         2007,
         275000,
         47000,
         "Petrol",
         "Dealer",
         "Automatic",
         "First Owner"
        ],
        [
         "Maruti Wagon R LX Minor",
         2007,
         110000,
         100000,
         "Petrol",
         "Individual",
         "Manual",
         "First Owner"
        ],
        [
         "Maruti Wagon R LX BSIII",
         2007,
         110000,
         110000,
         "Petrol",
         "Individual",
         "Manual",
         "First Owner"
        ],
        [
         "Honda Civic 1.8 V AT",
         2007,
         308000,
         60000,
         "Petrol",
         "Individual",
         "Automatic",
         "First Owner"
        ],
        [
         "Mercedes-Benz E-Class 280 CDI",
         2007,
         990000,
         76731,
         "Diesel",
         "Dealer",
         "Automatic",
         "First Owner"
        ],
        [
         "Maruti 800 AC BSIII",
         2007,
         66000,
         52000,
         "Petrol",
         "Individual",
         "Manual",
         "First Owner"
        ],
        [
         "Maruti Zen Estilo 1.1 LXI BSIII",
         2007,
         132000,
         81366,
         "Petrol",
         "Individual",
         "Manual",
         "First Owner"
        ],
        [
         "Maruti Wagon R LXI DUO BSIII",
         2007,
         77000,
         162000,
         "LPG",
         "Individual",
         "Manual",
         "First Owner"
        ],
        [
         "Maruti Alto LXi",
         2007,
         110000,
         70000,
         "Petrol",
         "Individual",
         "Manual",
         "First Owner"
        ],
        [
         "Hyundai Getz GLX",
         2007,
         121000,
         90000,
         "Petrol",
         "Individual",
         "Manual",
         "First Owner"
        ],
        [
         "Hyundai Verna SX",
         2007,
         170500,
         65000,
         "Petrol",
         "Dealer",
         "Manual",
         "First Owner"
        ],
        [
         "Maruti Swift VDI",
         2007,
         247500,
         50000,
         "Diesel",
         "Dealer",
         "Manual",
         "First Owner"
        ],
        [
         "Maruti Wagon R LXI Minor",
         2007,
         154000,
         49000,
         "Petrol",
         "Dealer",
         "Manual",
         "First Owner"
        ]
       ],
       "datasetInfos": [],
       "dbfsResultPath": null,
       "isJsonSchema": true,
       "metadata": {
        "createTempViewForImplicitDf": true,
        "dataframeName": "_sqldf",
        "executionCount": 11
       },
       "overflow": false,
       "plotOptions": {
        "customPlotOptions": {},
        "displayType": "table",
        "pivotAggregation": null,
        "pivotColumns": null,
        "xColumns": null,
        "yColumns": null
       },
       "removedWidgets": [],
       "schema": [
        {
         "metadata": "{}",
         "name": "name",
         "type": "\"string\""
        },
        {
         "metadata": "{}",
         "name": "year",
         "type": "\"long\""
        },
        {
         "metadata": "{}",
         "name": "selling_price",
         "type": "\"long\""
        },
        {
         "metadata": "{}",
         "name": "km_driven",
         "type": "\"long\""
        },
        {
         "metadata": "{}",
         "name": "fuel",
         "type": "\"string\""
        },
        {
         "metadata": "{}",
         "name": "seller_type",
         "type": "\"string\""
        },
        {
         "metadata": "{}",
         "name": "transmission",
         "type": "\"string\""
        },
        {
         "metadata": "{}",
         "name": "owner",
         "type": "\"string\""
        }
       ],
       "type": "table"
      }
     },
     "output_type": "display_data"
    }
   ],
   "source": [
    "%sql\n",
    "\n",
    "SELECT * FROM hive_metastore.default.cars\n",
    "TIMESTAMP AS OF '2024-10-28T05:25:15.000+00:00'\n",
    "WHERE year = 2007"
   ]
  },
  {
   "cell_type": "markdown",
   "metadata": {
    "application/vnd.databricks.v1+cell": {
     "cellMetadata": {},
     "inputWidgets": {},
     "nuid": "04603a2e-fb6f-42c9-b9ff-6962ef511304",
     "showTitle": false,
     "title": ""
    }
   },
   "source": [
    "#### Versions may also be accessed using the version number"
   ]
  },
  {
   "cell_type": "code",
   "execution_count": 0,
   "metadata": {
    "application/vnd.databricks.v1+cell": {
     "cellMetadata": {
      "byteLimit": 2048000,
      "implicitDf": true,
      "rowLimit": 10000
     },
     "inputWidgets": {},
     "nuid": "0f1e71b3-ea6e-4a71-be9b-eb480c8bd323",
     "showTitle": false,
     "title": ""
    }
   },
   "outputs": [
    {
     "output_type": "display_data",
     "data": {
      "text/html": [
       "<style scoped>\n",
       "  .table-result-container {\n",
       "    max-height: 300px;\n",
       "    overflow: auto;\n",
       "  }\n",
       "  table, th, td {\n",
       "    border: 1px solid black;\n",
       "    border-collapse: collapse;\n",
       "  }\n",
       "  th, td {\n",
       "    padding: 5px;\n",
       "  }\n",
       "  th {\n",
       "    text-align: left;\n",
       "  }\n",
       "</style><div class='table-result-container'><table class='table-result'><thead style='background-color: white'><tr><th>name</th><th>year</th><th>selling_price</th><th>km_driven</th><th>fuel</th><th>seller_type</th><th>transmission</th><th>owner</th><th>condition</th></tr></thead><tbody><tr><td>Mercedes-Benz S-Class S 350d Connoisseurs Edition</td><td>2017</td><td>8965000</td><td>6500</td><td>Diesel</td><td>Dealer</td><td>Automatic</td><td>First Owner</td><td>null</td></tr><tr><td>Audi RS7 2015-2019 Sportback Performance</td><td>2016</td><td>9790000</td><td>13000</td><td>Petrol</td><td>Dealer</td><td>Automatic</td><td>First Owner</td><td>null</td></tr></tbody></table></div>"
      ]
     },
     "metadata": {
      "application/vnd.databricks.v1+output": {
       "addedWidgets": {},
       "aggData": [],
       "aggError": "",
       "aggOverflow": false,
       "aggSchema": [],
       "aggSeriesLimitReached": false,
       "aggType": "",
       "arguments": {},
       "columnCustomDisplayInfos": {},
       "data": [
        [
         "Mercedes-Benz S-Class S 350d Connoisseurs Edition",
         2017,
         8965000,
         6500,
         "Diesel",
         "Dealer",
         "Automatic",
         "First Owner",
         null
        ],
        [
         "Audi RS7 2015-2019 Sportback Performance",
         2016,
         9790000,
         13000,
         "Petrol",
         "Dealer",
         "Automatic",
         "First Owner",
         null
        ]
       ],
       "datasetInfos": [],
       "dbfsResultPath": null,
       "isJsonSchema": true,
       "metadata": {
        "createTempViewForImplicitDf": true,
        "dataframeName": "_sqldf",
        "executionCount": 12
       },
       "overflow": false,
       "plotOptions": {
        "customPlotOptions": {},
        "displayType": "table",
        "pivotAggregation": null,
        "pivotColumns": null,
        "xColumns": null,
        "yColumns": null
       },
       "removedWidgets": [],
       "schema": [
        {
         "metadata": "{}",
         "name": "name",
         "type": "\"string\""
        },
        {
         "metadata": "{}",
         "name": "year",
         "type": "\"long\""
        },
        {
         "metadata": "{}",
         "name": "selling_price",
         "type": "\"long\""
        },
        {
         "metadata": "{}",
         "name": "km_driven",
         "type": "\"long\""
        },
        {
         "metadata": "{}",
         "name": "fuel",
         "type": "\"string\""
        },
        {
         "metadata": "{}",
         "name": "seller_type",
         "type": "\"string\""
        },
        {
         "metadata": "{}",
         "name": "transmission",
         "type": "\"string\""
        },
        {
         "metadata": "{}",
         "name": "owner",
         "type": "\"string\""
        },
        {
         "metadata": "{\"__CHAR_VARCHAR_TYPE_STRING\":\"varchar(255)\"}",
         "name": "condition",
         "type": "\"string\""
        }
       ],
       "type": "table"
      }
     },
     "output_type": "display_data"
    }
   ],
   "source": [
    "%sql\n",
    "\n",
    "SELECT * FROM hive_metastore.default.cars WHERE owner = 'First Owner' and selling_price > 8000000"
   ]
  },
  {
   "cell_type": "markdown",
   "metadata": {
    "application/vnd.databricks.v1+cell": {
     "cellMetadata": {},
     "inputWidgets": {},
     "nuid": "764964b4-0bcd-4651-ad0a-e5183f114dcd",
     "showTitle": false,
     "title": ""
    }
   },
   "source": [
    "\n",
    "Note that the old table does not include the \"condition\" column"
   ]
  },
  {
   "cell_type": "code",
   "execution_count": 0,
   "metadata": {
    "application/vnd.databricks.v1+cell": {
     "cellMetadata": {
      "byteLimit": 2048000,
      "implicitDf": true,
      "rowLimit": 10000
     },
     "inputWidgets": {},
     "nuid": "94151283-32e5-4638-9e35-89e9893c9cd3",
     "showTitle": false,
     "title": ""
    }
   },
   "outputs": [
    {
     "output_type": "display_data",
     "data": {
      "text/html": [
       "<style scoped>\n",
       "  .table-result-container {\n",
       "    max-height: 300px;\n",
       "    overflow: auto;\n",
       "  }\n",
       "  table, th, td {\n",
       "    border: 1px solid black;\n",
       "    border-collapse: collapse;\n",
       "  }\n",
       "  th, td {\n",
       "    padding: 5px;\n",
       "  }\n",
       "  th {\n",
       "    text-align: left;\n",
       "  }\n",
       "</style><div class='table-result-container'><table class='table-result'><thead style='background-color: white'><tr><th>name</th><th>year</th><th>selling_price</th><th>km_driven</th><th>fuel</th><th>seller_type</th><th>transmission</th><th>owner</th></tr></thead><tbody><tr><td>Mercedes-Benz S-Class S 350d Connoisseurs Edition</td><td>2017</td><td>8965000</td><td>6500</td><td>Diesel</td><td>Dealer</td><td>Automatic</td><td>First Owner</td></tr><tr><td>Audi RS7 2015-2019 Sportback Performance</td><td>2016</td><td>9790000</td><td>13000</td><td>Petrol</td><td>Dealer</td><td>Automatic</td><td>First Owner</td></tr></tbody></table></div>"
      ]
     },
     "metadata": {
      "application/vnd.databricks.v1+output": {
       "addedWidgets": {},
       "aggData": [],
       "aggError": "",
       "aggOverflow": false,
       "aggSchema": [],
       "aggSeriesLimitReached": false,
       "aggType": "",
       "arguments": {},
       "columnCustomDisplayInfos": {},
       "data": [
        [
         "Mercedes-Benz S-Class S 350d Connoisseurs Edition",
         2017,
         8965000,
         6500,
         "Diesel",
         "Dealer",
         "Automatic",
         "First Owner"
        ],
        [
         "Audi RS7 2015-2019 Sportback Performance",
         2016,
         9790000,
         13000,
         "Petrol",
         "Dealer",
         "Automatic",
         "First Owner"
        ]
       ],
       "datasetInfos": [],
       "dbfsResultPath": null,
       "isJsonSchema": true,
       "metadata": {
        "createTempViewForImplicitDf": true,
        "dataframeName": "_sqldf",
        "executionCount": 13
       },
       "overflow": false,
       "plotOptions": {
        "customPlotOptions": {},
        "displayType": "table",
        "pivotAggregation": null,
        "pivotColumns": null,
        "xColumns": null,
        "yColumns": null
       },
       "removedWidgets": [],
       "schema": [
        {
         "metadata": "{}",
         "name": "name",
         "type": "\"string\""
        },
        {
         "metadata": "{}",
         "name": "year",
         "type": "\"long\""
        },
        {
         "metadata": "{}",
         "name": "selling_price",
         "type": "\"long\""
        },
        {
         "metadata": "{}",
         "name": "km_driven",
         "type": "\"long\""
        },
        {
         "metadata": "{}",
         "name": "fuel",
         "type": "\"string\""
        },
        {
         "metadata": "{}",
         "name": "seller_type",
         "type": "\"string\""
        },
        {
         "metadata": "{}",
         "name": "transmission",
         "type": "\"string\""
        },
        {
         "metadata": "{}",
         "name": "owner",
         "type": "\"string\""
        }
       ],
       "type": "table"
      }
     },
     "output_type": "display_data"
    }
   ],
   "source": [
    "%sql\n",
    "\n",
    "SELECT * FROM hive_metastore.default.cars@v1 WHERE owner = 'First Owner' and selling_price > 8000000"
   ]
  },
  {
   "cell_type": "markdown",
   "metadata": {
    "application/vnd.databricks.v1+cell": {
     "cellMetadata": {},
     "inputWidgets": {},
     "nuid": "566f2f00-1c6f-4318-817a-afd13daa58f5",
     "showTitle": false,
     "title": ""
    }
   },
   "source": [
    "#### Restoring to an earlier version\n",
    "Restore may also be done based on timestamp. Just replace <b>VERSION AS OF</b> <i>version</i> with <b>TIMESTAMP AS OF</b> <i>timestamp_expression</i>"
   ]
  },
  {
   "cell_type": "code",
   "execution_count": 0,
   "metadata": {
    "application/vnd.databricks.v1+cell": {
     "cellMetadata": {
      "byteLimit": 2048000,
      "implicitDf": true,
      "rowLimit": 10000
     },
     "inputWidgets": {},
     "nuid": "03ee35fc-1be1-4b05-beb1-c36e92d4b1d2",
     "showTitle": false,
     "title": ""
    }
   },
   "outputs": [
    {
     "output_type": "display_data",
     "data": {
      "text/html": [
       "<style scoped>\n",
       "  .table-result-container {\n",
       "    max-height: 300px;\n",
       "    overflow: auto;\n",
       "  }\n",
       "  table, th, td {\n",
       "    border: 1px solid black;\n",
       "    border-collapse: collapse;\n",
       "  }\n",
       "  th, td {\n",
       "    padding: 5px;\n",
       "  }\n",
       "  th {\n",
       "    text-align: left;\n",
       "  }\n",
       "</style><div class='table-result-container'><table class='table-result'><thead style='background-color: white'><tr><th>name</th><th>year</th><th>selling_price</th><th>km_driven</th><th>fuel</th><th>seller_type</th><th>transmission</th><th>owner</th><th>condition</th></tr></thead><tbody><tr><td>Hyundai Verna 1.6 SX</td><td>2012</td><td>660000</td><td>100000</td><td>Diesel</td><td>Individual</td><td>Manual</td><td>First Owner</td><td>null</td></tr><tr><td>Datsun RediGO T Option</td><td>2017</td><td>275000</td><td>46000</td><td>Petrol</td><td>Individual</td><td>Manual</td><td>First Owner</td><td>null</td></tr><tr><td>Hyundai Xcent 1.2 Kappa S</td><td>2016</td><td>605000</td><td>25000</td><td>Petrol</td><td>Individual</td><td>Manual</td><td>First Owner</td><td>null</td></tr><tr><td>Hyundai Creta 1.6 VTVT S</td><td>2015</td><td>935000</td><td>25000</td><td>Petrol</td><td>Individual</td><td>Manual</td><td>First Owner</td><td>null</td></tr><tr><td>Maruti Celerio Green VXI</td><td>2017</td><td>401500</td><td>78000</td><td>CNG</td><td>Individual</td><td>Manual</td><td>First Owner</td><td>null</td></tr></tbody></table></div>"
      ]
     },
     "metadata": {
      "application/vnd.databricks.v1+output": {
       "addedWidgets": {},
       "aggData": [],
       "aggError": "",
       "aggOverflow": false,
       "aggSchema": [],
       "aggSeriesLimitReached": false,
       "aggType": "",
       "arguments": {},
       "columnCustomDisplayInfos": {},
       "data": [
        [
         "Hyundai Verna 1.6 SX",
         2012,
         660000,
         100000,
         "Diesel",
         "Individual",
         "Manual",
         "First Owner",
         null
        ],
        [
         "Datsun RediGO T Option",
         2017,
         275000,
         46000,
         "Petrol",
         "Individual",
         "Manual",
         "First Owner",
         null
        ],
        [
         "Hyundai Xcent 1.2 Kappa S",
         2016,
         605000,
         25000,
         "Petrol",
         "Individual",
         "Manual",
         "First Owner",
         null
        ],
        [
         "Hyundai Creta 1.6 VTVT S",
         2015,
         935000,
         25000,
         "Petrol",
         "Individual",
         "Manual",
         "First Owner",
         null
        ],
        [
         "Maruti Celerio Green VXI",
         2017,
         401500,
         78000,
         "CNG",
         "Individual",
         "Manual",
         "First Owner",
         null
        ]
       ],
       "datasetInfos": [],
       "dbfsResultPath": null,
       "isJsonSchema": true,
       "metadata": {
        "createTempViewForImplicitDf": true,
        "dataframeName": "_sqldf",
        "executionCount": 14
       },
       "overflow": false,
       "plotOptions": {
        "customPlotOptions": {},
        "displayType": "table",
        "pivotAggregation": null,
        "pivotColumns": null,
        "xColumns": null,
        "yColumns": null
       },
       "removedWidgets": [],
       "schema": [
        {
         "metadata": "{}",
         "name": "name",
         "type": "\"string\""
        },
        {
         "metadata": "{}",
         "name": "year",
         "type": "\"long\""
        },
        {
         "metadata": "{}",
         "name": "selling_price",
         "type": "\"long\""
        },
        {
         "metadata": "{}",
         "name": "km_driven",
         "type": "\"long\""
        },
        {
         "metadata": "{}",
         "name": "fuel",
         "type": "\"string\""
        },
        {
         "metadata": "{}",
         "name": "seller_type",
         "type": "\"string\""
        },
        {
         "metadata": "{}",
         "name": "transmission",
         "type": "\"string\""
        },
        {
         "metadata": "{}",
         "name": "owner",
         "type": "\"string\""
        },
        {
         "metadata": "{\"__CHAR_VARCHAR_TYPE_STRING\":\"varchar(255)\"}",
         "name": "condition",
         "type": "\"string\""
        }
       ],
       "type": "table"
      }
     },
     "output_type": "display_data"
    }
   ],
   "source": [
    "%sql\n",
    "\n",
    "SELECT * FROM hive_metastore.default.cars LIMIT 5"
   ]
  },
  {
   "cell_type": "markdown",
   "metadata": {
    "application/vnd.databricks.v1+cell": {
     "cellMetadata": {},
     "inputWidgets": {},
     "nuid": "049a3241-d17d-401d-a8ec-bdf9477efb89",
     "showTitle": false,
     "title": ""
    }
   },
   "source": [
    "\n",
    "Note that the condition column is not available in the restored table"
   ]
  },
  {
   "cell_type": "code",
   "execution_count": 0,
   "metadata": {
    "application/vnd.databricks.v1+cell": {
     "cellMetadata": {
      "byteLimit": 2048000,
      "implicitDf": true,
      "rowLimit": 10000
     },
     "inputWidgets": {},
     "nuid": "9b0554ec-6f60-44d1-8a52-bdeb91c91b60",
     "showTitle": false,
     "title": ""
    }
   },
   "outputs": [
    {
     "output_type": "display_data",
     "data": {
      "text/html": [
       "<style scoped>\n",
       "  .table-result-container {\n",
       "    max-height: 300px;\n",
       "    overflow: auto;\n",
       "  }\n",
       "  table, th, td {\n",
       "    border: 1px solid black;\n",
       "    border-collapse: collapse;\n",
       "  }\n",
       "  th, td {\n",
       "    padding: 5px;\n",
       "  }\n",
       "  th {\n",
       "    text-align: left;\n",
       "  }\n",
       "</style><div class='table-result-container'><table class='table-result'><thead style='background-color: white'><tr><th>name</th><th>year</th><th>selling_price</th><th>km_driven</th><th>fuel</th><th>seller_type</th><th>transmission</th><th>owner</th></tr></thead><tbody><tr><td>Honda Amaze VX i-DTEC</td><td>2014</td><td>450000</td><td>141000</td><td>Diesel</td><td>Individual</td><td>Manual</td><td>Second Owner</td></tr><tr><td>Tata Indigo Grand Petrol</td><td>2014</td><td>240000</td><td>60000</td><td>Petrol</td><td>Individual</td><td>Manual</td><td>Second Owner</td></tr><tr><td>Honda Amaze VX i-DTEC</td><td>2014</td><td>450000</td><td>141000</td><td>Diesel</td><td>Individual</td><td>Manual</td><td>Second Owner</td></tr><tr><td>Tata Indigo Grand Petrol</td><td>2014</td><td>240000</td><td>60000</td><td>Petrol</td><td>Individual</td><td>Manual</td><td>Second Owner</td></tr><tr><td>Chevrolet Enjoy TCDi LTZ 7 Seater</td><td>2013</td><td>390000</td><td>33000</td><td>Diesel</td><td>Individual</td><td>Manual</td><td>Second Owner</td></tr></tbody></table></div>"
      ]
     },
     "metadata": {
      "application/vnd.databricks.v1+output": {
       "addedWidgets": {},
       "aggData": [],
       "aggError": "",
       "aggOverflow": false,
       "aggSchema": [],
       "aggSeriesLimitReached": false,
       "aggType": "",
       "arguments": {},
       "columnCustomDisplayInfos": {},
       "data": [
        [
         "Honda Amaze VX i-DTEC",
         2014,
         450000,
         141000,
         "Diesel",
         "Individual",
         "Manual",
         "Second Owner"
        ],
        [
         "Tata Indigo Grand Petrol",
         2014,
         240000,
         60000,
         "Petrol",
         "Individual",
         "Manual",
         "Second Owner"
        ],
        [
         "Honda Amaze VX i-DTEC",
         2014,
         450000,
         141000,
         "Diesel",
         "Individual",
         "Manual",
         "Second Owner"
        ],
        [
         "Tata Indigo Grand Petrol",
         2014,
         240000,
         60000,
         "Petrol",
         "Individual",
         "Manual",
         "Second Owner"
        ],
        [
         "Chevrolet Enjoy TCDi LTZ 7 Seater",
         2013,
         390000,
         33000,
         "Diesel",
         "Individual",
         "Manual",
         "Second Owner"
        ]
       ],
       "datasetInfos": [],
       "dbfsResultPath": null,
       "isJsonSchema": true,
       "metadata": {
        "createTempViewForImplicitDf": true,
        "dataframeName": "_sqldf",
        "executionCount": 15
       },
       "overflow": false,
       "plotOptions": {
        "customPlotOptions": {},
        "displayType": "table",
        "pivotAggregation": null,
        "pivotColumns": null,
        "xColumns": null,
        "yColumns": null
       },
       "removedWidgets": [],
       "schema": [
        {
         "metadata": "{}",
         "name": "name",
         "type": "\"string\""
        },
        {
         "metadata": "{}",
         "name": "year",
         "type": "\"long\""
        },
        {
         "metadata": "{}",
         "name": "selling_price",
         "type": "\"long\""
        },
        {
         "metadata": "{}",
         "name": "km_driven",
         "type": "\"long\""
        },
        {
         "metadata": "{}",
         "name": "fuel",
         "type": "\"string\""
        },
        {
         "metadata": "{}",
         "name": "seller_type",
         "type": "\"string\""
        },
        {
         "metadata": "{}",
         "name": "transmission",
         "type": "\"string\""
        },
        {
         "metadata": "{}",
         "name": "owner",
         "type": "\"string\""
        }
       ],
       "type": "table"
      }
     },
     "output_type": "display_data"
    }
   ],
   "source": [
    "%sql\n",
    "\n",
    "RESTORE hive_metastore.default.cars TO VERSION AS OF 2;\n",
    "\n",
    "SELECT * FROM hive_metastore.default.cars LIMIT 5"
   ]
  },
  {
   "cell_type": "markdown",
   "metadata": {
    "application/vnd.databricks.v1+cell": {
     "cellMetadata": {},
     "inputWidgets": {},
     "nuid": "455b48c5-167e-4ee7-8a92-113c067a4c58",
     "showTitle": false,
     "title": ""
    }
   },
   "source": [
    "#### The history that has been undone has not been erased\n",
    "A RESTORE simply creates a new version of the table. We can still go back to a version with the DELETE or ADD COLUMNS"
   ]
  },
  {
   "cell_type": "code",
   "execution_count": 0,
   "metadata": {
    "application/vnd.databricks.v1+cell": {
     "cellMetadata": {
      "byteLimit": 2048000,
      "implicitDf": true,
      "rowLimit": 10000
     },
     "inputWidgets": {},
     "nuid": "171cc6bf-3e60-40c8-ae17-8d324a895bdb",
     "showTitle": false,
     "title": ""
    }
   },
   "outputs": [
    {
     "output_type": "display_data",
     "data": {
      "text/html": [
       "<style scoped>\n",
       "  .table-result-container {\n",
       "    max-height: 300px;\n",
       "    overflow: auto;\n",
       "  }\n",
       "  table, th, td {\n",
       "    border: 1px solid black;\n",
       "    border-collapse: collapse;\n",
       "  }\n",
       "  th, td {\n",
       "    padding: 5px;\n",
       "  }\n",
       "  th {\n",
       "    text-align: left;\n",
       "  }\n",
       "</style><div class='table-result-container'><table class='table-result'><thead style='background-color: white'><tr><th>version</th><th>timestamp</th><th>userId</th><th>userName</th><th>operation</th><th>operationParameters</th><th>job</th><th>notebook</th><th>clusterId</th><th>readVersion</th><th>isolationLevel</th><th>isBlindAppend</th><th>operationMetrics</th><th>userMetadata</th><th>engineInfo</th></tr></thead><tbody><tr><td>5</td><td>2024-10-28T08:14:17Z</td><td>599420620358905</td><td>contact@loonycorn.com</td><td>RESTORE</td><td>Map(version -> 2, timestamp -> null)</td><td>null</td><td>List(3951670535128584)</td><td>1028-032811-163l393x</td><td>4</td><td>Serializable</td><td>false</td><td>Map(numRestoredFiles -> 2, removedFilesSize -> 52694, numRemovedFiles -> 1, restoredFilesSize -> 89293, numOfFilesAfterRestore -> 2, tableSizeAfterRestore -> 89293)</td><td>null</td><td>Databricks-Runtime/15.4.x-photon-scala2.12</td></tr><tr><td>4</td><td>2024-10-28T05:25:22Z</td><td>599420620358905</td><td>contact@loonycorn.com</td><td>ADD COLUMNS</td><td>Map(columns -> [{\"column\":{\"name\":\"condition\",\"type\":\"varchar(255)\",\"nullable\":true,\"metadata\":{}}}])</td><td>null</td><td>List(3951670535128584)</td><td>1028-032811-163l393x</td><td>3</td><td>WriteSerializable</td><td>true</td><td>Map()</td><td>null</td><td>Databricks-Runtime/15.4.x-photon-scala2.12</td></tr><tr><td>3</td><td>2024-10-28T05:25:21Z</td><td>599420620358905</td><td>contact@loonycorn.com</td><td>OPTIMIZE</td><td>Map(predicate -> [], auto -> true, clusterBy -> [], zOrderBy -> [], batchId -> 0)</td><td>null</td><td>List(3951670535128584)</td><td>1028-032811-163l393x</td><td>1</td><td>SnapshotIsolation</td><td>false</td><td>Map(numRemovedFiles -> 2, numRemovedBytes -> 89293, p25FileSize -> 52694, numDeletionVectorsRemoved -> 1, conflictDetectionTimeMs -> 217, minFileSize -> 52694, numAddedFiles -> 1, maxFileSize -> 52694, p75FileSize -> 52694, p50FileSize -> 52694, numAddedBytes -> 52694)</td><td>null</td><td>Databricks-Runtime/15.4.x-photon-scala2.12</td></tr><tr><td>2</td><td>2024-10-28T05:25:19Z</td><td>599420620358905</td><td>contact@loonycorn.com</td><td>DELETE</td><td>Map(predicate -> [\"(year#22156L = 2007)\"])</td><td>null</td><td>List(3951670535128584)</td><td>1028-032811-163l393x</td><td>1</td><td>WriteSerializable</td><td>false</td><td>Map(numRemovedFiles -> 0, numRemovedBytes -> 0, numCopiedRows -> 0, numDeletionVectorsAdded -> 2, numDeletionVectorsRemoved -> 1, numAddedChangeFiles -> 0, executionTimeMs -> 2195, numDeletionVectorsUpdated -> 1, numDeletedRows -> 134, scanTimeMs -> 1572, numAddedFiles -> 0, numAddedBytes -> 0, rewriteTimeMs -> 623)</td><td>null</td><td>Databricks-Runtime/15.4.x-photon-scala2.12</td></tr><tr><td>1</td><td>2024-10-28T05:25:15Z</td><td>599420620358905</td><td>contact@loonycorn.com</td><td>UPDATE</td><td>Map(predicate -> [\"(owner#21379 = First Owner)\"])</td><td>null</td><td>List(3951670535128584)</td><td>1028-032811-163l393x</td><td>0</td><td>WriteSerializable</td><td>false</td><td>Map(numRemovedFiles -> 0, numRemovedBytes -> 0, numCopiedRows -> 0, numDeletionVectorsAdded -> 1, numDeletionVectorsRemoved -> 0, numAddedChangeFiles -> 0, executionTimeMs -> 1811, numDeletionVectorsUpdated -> 0, scanTimeMs -> 676, numAddedFiles -> 1, numUpdatedRows -> 2832, numAddedBytes -> 36940, rewriteTimeMs -> 1134)</td><td>null</td><td>Databricks-Runtime/15.4.x-photon-scala2.12</td></tr><tr><td>0</td><td>2024-10-28T05:14:07Z</td><td>599420620358905</td><td>contact@loonycorn.com</td><td>CREATE TABLE AS SELECT</td><td>Map(partitionBy -> [], clusterBy -> [], description -> Created by the file upload UI, isManaged -> true, properties -> {\"delta.enableDeletionVectors\":\"true\"}, statsOnLoad -> false)</td><td>null</td><td>null</td><td>1028-032811-163l393x</td><td>null</td><td>WriteSerializable</td><td>true</td><td>Map(numFiles -> 1, numOutputRows -> 4340, numOutputBytes -> 52353)</td><td>null</td><td>Databricks-Runtime/15.4.x-photon-scala2.12</td></tr></tbody></table></div>"
      ]
     },
     "metadata": {
      "application/vnd.databricks.v1+output": {
       "addedWidgets": {},
       "aggData": [],
       "aggError": "",
       "aggOverflow": false,
       "aggSchema": [],
       "aggSeriesLimitReached": false,
       "aggType": "",
       "arguments": {},
       "columnCustomDisplayInfos": {},
       "data": [
        [
         5,
         "2024-10-28T08:14:17Z",
         "599420620358905",
         "contact@loonycorn.com",
         "RESTORE",
         {
          "timestamp": null,
          "version": "2"
         },
         null,
         [
          "3951670535128584"
         ],
         "1028-032811-163l393x",
         4,
         "Serializable",
         false,
         {
          "numOfFilesAfterRestore": "2",
          "numRemovedFiles": "1",
          "numRestoredFiles": "2",
          "removedFilesSize": "52694",
          "restoredFilesSize": "89293",
          "tableSizeAfterRestore": "89293"
         },
         null,
         "Databricks-Runtime/15.4.x-photon-scala2.12"
        ],
        [
         4,
         "2024-10-28T05:25:22Z",
         "599420620358905",
         "contact@loonycorn.com",
         "ADD COLUMNS",
         {
          "columns": "[{\"column\":{\"name\":\"condition\",\"type\":\"varchar(255)\",\"nullable\":true,\"metadata\":{}}}]"
         },
         null,
         [
          "3951670535128584"
         ],
         "1028-032811-163l393x",
         3,
         "WriteSerializable",
         true,
         {},
         null,
         "Databricks-Runtime/15.4.x-photon-scala2.12"
        ],
        [
         3,
         "2024-10-28T05:25:21Z",
         "599420620358905",
         "contact@loonycorn.com",
         "OPTIMIZE",
         {
          "auto": "true",
          "batchId": "0",
          "clusterBy": "[]",
          "predicate": "[]",
          "zOrderBy": "[]"
         },
         null,
         [
          "3951670535128584"
         ],
         "1028-032811-163l393x",
         1,
         "SnapshotIsolation",
         false,
         {
          "conflictDetectionTimeMs": "217",
          "maxFileSize": "52694",
          "minFileSize": "52694",
          "numAddedBytes": "52694",
          "numAddedFiles": "1",
          "numDeletionVectorsRemoved": "1",
          "numRemovedBytes": "89293",
          "numRemovedFiles": "2",
          "p25FileSize": "52694",
          "p50FileSize": "52694",
          "p75FileSize": "52694"
         },
         null,
         "Databricks-Runtime/15.4.x-photon-scala2.12"
        ],
        [
         2,
         "2024-10-28T05:25:19Z",
         "599420620358905",
         "contact@loonycorn.com",
         "DELETE",
         {
          "predicate": "[\"(year#22156L = 2007)\"]"
         },
         null,
         [
          "3951670535128584"
         ],
         "1028-032811-163l393x",
         1,
         "WriteSerializable",
         false,
         {
          "executionTimeMs": "2195",
          "numAddedBytes": "0",
          "numAddedChangeFiles": "0",
          "numAddedFiles": "0",
          "numCopiedRows": "0",
          "numDeletedRows": "134",
          "numDeletionVectorsAdded": "2",
          "numDeletionVectorsRemoved": "1",
          "numDeletionVectorsUpdated": "1",
          "numRemovedBytes": "0",
          "numRemovedFiles": "0",
          "rewriteTimeMs": "623",
          "scanTimeMs": "1572"
         },
         null,
         "Databricks-Runtime/15.4.x-photon-scala2.12"
        ],
        [
         1,
         "2024-10-28T05:25:15Z",
         "599420620358905",
         "contact@loonycorn.com",
         "UPDATE",
         {
          "predicate": "[\"(owner#21379 = First Owner)\"]"
         },
         null,
         [
          "3951670535128584"
         ],
         "1028-032811-163l393x",
         0,
         "WriteSerializable",
         false,
         {
          "executionTimeMs": "1811",
          "numAddedBytes": "36940",
          "numAddedChangeFiles": "0",
          "numAddedFiles": "1",
          "numCopiedRows": "0",
          "numDeletionVectorsAdded": "1",
          "numDeletionVectorsRemoved": "0",
          "numDeletionVectorsUpdated": "0",
          "numRemovedBytes": "0",
          "numRemovedFiles": "0",
          "numUpdatedRows": "2832",
          "rewriteTimeMs": "1134",
          "scanTimeMs": "676"
         },
         null,
         "Databricks-Runtime/15.4.x-photon-scala2.12"
        ],
        [
         0,
         "2024-10-28T05:14:07Z",
         "599420620358905",
         "contact@loonycorn.com",
         "CREATE TABLE AS SELECT",
         {
          "clusterBy": "[]",
          "description": "Created by the file upload UI",
          "isManaged": "true",
          "partitionBy": "[]",
          "properties": "{\"delta.enableDeletionVectors\":\"true\"}",
          "statsOnLoad": "false"
         },
         null,
         null,
         "1028-032811-163l393x",
         null,
         "WriteSerializable",
         true,
         {
          "numFiles": "1",
          "numOutputBytes": "52353",
          "numOutputRows": "4340"
         },
         null,
         "Databricks-Runtime/15.4.x-photon-scala2.12"
        ]
       ],
       "datasetInfos": [],
       "dbfsResultPath": null,
       "isJsonSchema": true,
       "metadata": {
        "createTempViewForImplicitDf": true,
        "dataframeName": "_sqldf",
        "executionCount": 16
       },
       "overflow": false,
       "plotOptions": {
        "customPlotOptions": {},
        "displayType": "table",
        "pivotAggregation": null,
        "pivotColumns": null,
        "xColumns": null,
        "yColumns": null
       },
       "removedWidgets": [],
       "schema": [
        {
         "metadata": "{}",
         "name": "version",
         "type": "\"long\""
        },
        {
         "metadata": "{}",
         "name": "timestamp",
         "type": "\"timestamp\""
        },
        {
         "metadata": "{}",
         "name": "userId",
         "type": "\"string\""
        },
        {
         "metadata": "{}",
         "name": "userName",
         "type": "\"string\""
        },
        {
         "metadata": "{}",
         "name": "operation",
         "type": "\"string\""
        },
        {
         "metadata": "{}",
         "name": "operationParameters",
         "type": "{\"type\":\"map\",\"keyType\":\"string\",\"valueType\":\"string\",\"valueContainsNull\":true}"
        },
        {
         "metadata": "{}",
         "name": "job",
         "type": "{\"type\":\"struct\",\"fields\":[{\"name\":\"jobId\",\"type\":\"string\",\"nullable\":true,\"metadata\":{}},{\"name\":\"jobName\",\"type\":\"string\",\"nullable\":true,\"metadata\":{}},{\"name\":\"jobRunId\",\"type\":\"string\",\"nullable\":true,\"metadata\":{}},{\"name\":\"runId\",\"type\":\"string\",\"nullable\":true,\"metadata\":{}},{\"name\":\"jobOwnerId\",\"type\":\"string\",\"nullable\":true,\"metadata\":{}},{\"name\":\"triggerType\",\"type\":\"string\",\"nullable\":true,\"metadata\":{}}]}"
        },
        {
         "metadata": "{}",
         "name": "notebook",
         "type": "{\"type\":\"struct\",\"fields\":[{\"name\":\"notebookId\",\"type\":\"string\",\"nullable\":true,\"metadata\":{}}]}"
        },
        {
         "metadata": "{}",
         "name": "clusterId",
         "type": "\"string\""
        },
        {
         "metadata": "{}",
         "name": "readVersion",
         "type": "\"long\""
        },
        {
         "metadata": "{}",
         "name": "isolationLevel",
         "type": "\"string\""
        },
        {
         "metadata": "{}",
         "name": "isBlindAppend",
         "type": "\"boolean\""
        },
        {
         "metadata": "{}",
         "name": "operationMetrics",
         "type": "{\"type\":\"map\",\"keyType\":\"string\",\"valueType\":\"string\",\"valueContainsNull\":true}"
        },
        {
         "metadata": "{}",
         "name": "userMetadata",
         "type": "\"string\""
        },
        {
         "metadata": "{}",
         "name": "engineInfo",
         "type": "\"string\""
        }
       ],
       "type": "table"
      }
     },
     "output_type": "display_data"
    }
   ],
   "source": [
    "%sql\n",
    "\n",
    "DESCRIBE HISTORY hive_metastore.default.cars"
   ]
  },
  {
   "cell_type": "markdown",
   "metadata": {
    "application/vnd.databricks.v1+cell": {
     "cellMetadata": {},
     "inputWidgets": {},
     "nuid": "15237a49-7506-4e37-a9bf-e3937ae30837",
     "showTitle": false,
     "title": ""
    }
   },
   "source": [
    "#### Roll back to the version after the initial creation\n",
    "Refer to a timestamp value between the CREATE TABLE AS SELECT and first WRITE operation (between versions 0 and 1)"
   ]
  },
  {
   "cell_type": "code",
   "execution_count": 0,
   "metadata": {
    "application/vnd.databricks.v1+cell": {
     "cellMetadata": {
      "byteLimit": 2048000,
      "implicitDf": true,
      "rowLimit": 10000
     },
     "inputWidgets": {},
     "nuid": "47f2a97e-c21d-490f-8456-ba764fe206cf",
     "showTitle": false,
     "title": ""
    }
   },
   "outputs": [
    {
     "output_type": "display_data",
     "data": {
      "text/html": [
       "<style scoped>\n",
       "  .table-result-container {\n",
       "    max-height: 300px;\n",
       "    overflow: auto;\n",
       "  }\n",
       "  table, th, td {\n",
       "    border: 1px solid black;\n",
       "    border-collapse: collapse;\n",
       "  }\n",
       "  th, td {\n",
       "    padding: 5px;\n",
       "  }\n",
       "  th {\n",
       "    text-align: left;\n",
       "  }\n",
       "</style><div class='table-result-container'><table class='table-result'><thead style='background-color: white'><tr><th>table_size_after_restore</th><th>num_of_files_after_restore</th><th>num_removed_files</th><th>num_restored_files</th><th>removed_files_size</th><th>restored_files_size</th></tr></thead><tbody><tr><td>52353</td><td>1</td><td>2</td><td>1</td><td>89293</td><td>52353</td></tr></tbody></table></div>"
      ]
     },
     "metadata": {
      "application/vnd.databricks.v1+output": {
       "addedWidgets": {},
       "aggData": [],
       "aggError": "",
       "aggOverflow": false,
       "aggSchema": [],
       "aggSeriesLimitReached": false,
       "aggType": "",
       "arguments": {},
       "columnCustomDisplayInfos": {},
       "data": [
        [
         52353,
         1,
         2,
         1,
         89293,
         52353
        ]
       ],
       "datasetInfos": [],
       "dbfsResultPath": null,
       "isJsonSchema": true,
       "metadata": {
        "createTempViewForImplicitDf": true,
        "dataframeName": "_sqldf",
        "executionCount": 17
       },
       "overflow": false,
       "plotOptions": {
        "customPlotOptions": {},
        "displayType": "table",
        "pivotAggregation": null,
        "pivotColumns": null,
        "xColumns": null,
        "yColumns": null
       },
       "removedWidgets": [],
       "schema": [
        {
         "metadata": "{}",
         "name": "table_size_after_restore",
         "type": "\"long\""
        },
        {
         "metadata": "{}",
         "name": "num_of_files_after_restore",
         "type": "\"long\""
        },
        {
         "metadata": "{}",
         "name": "num_removed_files",
         "type": "\"long\""
        },
        {
         "metadata": "{}",
         "name": "num_restored_files",
         "type": "\"long\""
        },
        {
         "metadata": "{}",
         "name": "removed_files_size",
         "type": "\"long\""
        },
        {
         "metadata": "{}",
         "name": "restored_files_size",
         "type": "\"long\""
        }
       ],
       "type": "table"
      }
     },
     "output_type": "display_data"
    }
   ],
   "source": [
    "%sql\n",
    "\n",
    "RESTORE hive_metastore.default.cars TO TIMESTAMP AS OF '2024-10-28T05:14:08.000+00:00'"
   ]
  },
  {
   "cell_type": "code",
   "execution_count": 0,
   "metadata": {
    "application/vnd.databricks.v1+cell": {
     "cellMetadata": {
      "byteLimit": 2048000,
      "implicitDf": true,
      "rowLimit": 10000
     },
     "inputWidgets": {},
     "nuid": "f8cdbacc-8d23-4793-adee-3407e03ec818",
     "showTitle": false,
     "title": ""
    }
   },
   "outputs": [
    {
     "output_type": "display_data",
     "data": {
      "text/html": [
       "<style scoped>\n",
       "  .table-result-container {\n",
       "    max-height: 300px;\n",
       "    overflow: auto;\n",
       "  }\n",
       "  table, th, td {\n",
       "    border: 1px solid black;\n",
       "    border-collapse: collapse;\n",
       "  }\n",
       "  th, td {\n",
       "    padding: 5px;\n",
       "  }\n",
       "  th {\n",
       "    text-align: left;\n",
       "  }\n",
       "</style><div class='table-result-container'><table class='table-result'><thead style='background-color: white'><tr><th>name</th><th>year</th><th>selling_price</th><th>km_driven</th><th>fuel</th><th>seller_type</th><th>transmission</th><th>owner</th></tr></thead><tbody><tr><td>Mercedes-Benz S-Class S 350d Connoisseurs Edition</td><td>2017</td><td>8150000</td><td>6500</td><td>Diesel</td><td>Dealer</td><td>Automatic</td><td>First Owner</td></tr><tr><td>Audi RS7 2015-2019 Sportback Performance</td><td>2016</td><td>8900000</td><td>13000</td><td>Petrol</td><td>Dealer</td><td>Automatic</td><td>First Owner</td></tr><tr><td>Tata Indica GLS BS IV</td><td>2007</td><td>60000</td><td>130000</td><td>Petrol</td><td>Individual</td><td>Manual</td><td>Second Owner</td></tr><tr><td>Maruti Alto LXi</td><td>2007</td><td>90000</td><td>43826</td><td>Petrol</td><td>Dealer</td><td>Manual</td><td>Second Owner</td></tr><tr><td>Tata Indica GLS BS IV</td><td>2007</td><td>85000</td><td>50000</td><td>Petrol</td><td>Individual</td><td>Manual</td><td>Second Owner</td></tr><tr><td>Mahindra Scorpio 2.6 Turbo 7 Str</td><td>2007</td><td>210000</td><td>100000</td><td>Diesel</td><td>Individual</td><td>Manual</td><td>Second Owner</td></tr><tr><td>Hyundai Getz GLE</td><td>2007</td><td>110000</td><td>60000</td><td>Petrol</td><td>Individual</td><td>Manual</td><td>Fourth & Above Owner</td></tr><tr><td>Toyota Corolla H6</td><td>2007</td><td>215000</td><td>55800</td><td>Petrol</td><td>Dealer</td><td>Manual</td><td>Second Owner</td></tr><tr><td>Mahindra Bolero DI</td><td>2007</td><td>250000</td><td>50000</td><td>Diesel</td><td>Individual</td><td>Manual</td><td>First Owner</td></tr><tr><td>Maruti Swift VDI BSIV</td><td>2007</td><td>195000</td><td>112880</td><td>Diesel</td><td>Dealer</td><td>Manual</td><td>First Owner</td></tr><tr><td>Maruti Omni E 8 Str STD</td><td>2007</td><td>110000</td><td>90000</td><td>Petrol</td><td>Individual</td><td>Manual</td><td>Fourth & Above Owner</td></tr><tr><td>Maruti Wagon R LXI Minor</td><td>2007</td><td>85000</td><td>80000</td><td>Petrol</td><td>Individual</td><td>Manual</td><td>Second Owner</td></tr><tr><td>Maruti Zen Estilo VXI BSIII</td><td>2007</td><td>140000</td><td>100000</td><td>Petrol</td><td>Individual</td><td>Manual</td><td>Second Owner</td></tr><tr><td>Maruti Zen Estilo VXI BSIII</td><td>2007</td><td>90000</td><td>90000</td><td>Petrol</td><td>Individual</td><td>Manual</td><td>First Owner</td></tr><tr><td>Maruti Alto LX BSIII</td><td>2007</td><td>135000</td><td>70000</td><td>Petrol</td><td>Individual</td><td>Manual</td><td>Second Owner</td></tr><tr><td>Maruti Zen Estilo LXI BSIII</td><td>2007</td><td>100000</td><td>80000</td><td>Petrol</td><td>Individual</td><td>Manual</td><td>Third Owner</td></tr><tr><td>Maruti SX4 Zxi BSIII</td><td>2007</td><td>160000</td><td>80000</td><td>Petrol</td><td>Individual</td><td>Manual</td><td>Third Owner</td></tr><tr><td>Maruti SX4 Zxi with Leather BSIII</td><td>2007</td><td>175000</td><td>78380</td><td>Petrol</td><td>Individual</td><td>Manual</td><td>First Owner</td></tr><tr><td>Maruti Alto LX BSIII</td><td>2007</td><td>140000</td><td>125000</td><td>Petrol</td><td>Individual</td><td>Manual</td><td>First Owner</td></tr><tr><td>Honda Civic 1.8 V AT</td><td>2007</td><td>200000</td><td>54000</td><td>Petrol</td><td>Individual</td><td>Automatic</td><td>Second Owner</td></tr><tr><td>Tata Indigo Classic Dicor</td><td>2007</td><td>100000</td><td>39000</td><td>Diesel</td><td>Individual</td><td>Manual</td><td>First Owner</td></tr><tr><td>Maruti Swift VXI with ABS</td><td>2007</td><td>250000</td><td>120000</td><td>Petrol</td><td>Individual</td><td>Manual</td><td>Second Owner</td></tr><tr><td>Maruti Wagon R LXI Minor</td><td>2007</td><td>135000</td><td>50000</td><td>Petrol</td><td>Individual</td><td>Manual</td><td>First Owner</td></tr><tr><td>Maruti SX4 Vxi BSIII</td><td>2007</td><td>120000</td><td>90000</td><td>Petrol</td><td>Individual</td><td>Manual</td><td>Second Owner</td></tr><tr><td>Maruti Alto LX BSIII</td><td>2007</td><td>140000</td><td>125000</td><td>Petrol</td><td>Individual</td><td>Manual</td><td>First Owner</td></tr><tr><td>Maruti Alto LX</td><td>2007</td><td>70000</td><td>180000</td><td>Petrol</td><td>Individual</td><td>Manual</td><td>Third Owner</td></tr><tr><td>Maruti Wagon R LXI Minor</td><td>2007</td><td>135000</td><td>50000</td><td>Petrol</td><td>Individual</td><td>Manual</td><td>First Owner</td></tr><tr><td>Hyundai Santro Xing XL eRLX Euro III</td><td>2007</td><td>75000</td><td>114000</td><td>Petrol</td><td>Individual</td><td>Manual</td><td>Second Owner</td></tr><tr><td>Maruti Swift Vdi BSIII</td><td>2007</td><td>100000</td><td>110000</td><td>Diesel</td><td>Individual</td><td>Manual</td><td>Fourth & Above Owner</td></tr><tr><td>Maruti Wagon R LXI Minor</td><td>2007</td><td>140000</td><td>49000</td><td>Petrol</td><td>Dealer</td><td>Manual</td><td>First Owner</td></tr><tr><td>Hyundai Verna CRDi SX</td><td>2007</td><td>212000</td><td>58000</td><td>Diesel</td><td>Dealer</td><td>Manual</td><td>Second Owner</td></tr><tr><td>Toyota Innova 2.5 G4 Diesel 7-seater</td><td>2007</td><td>440000</td><td>223000</td><td>Diesel</td><td>Individual</td><td>Manual</td><td>Fourth & Above Owner</td></tr><tr><td>Hyundai Santro Xing XK eRLX EuroIII</td><td>2007</td><td>130000</td><td>135000</td><td>Petrol</td><td>Individual</td><td>Manual</td><td>Second Owner</td></tr><tr><td>Hyundai Verna SX</td><td>2007</td><td>155000</td><td>65000</td><td>Petrol</td><td>Dealer</td><td>Manual</td><td>First Owner</td></tr><tr><td>Maruti Alto LXi</td><td>2007</td><td>100000</td><td>100000</td><td>Petrol</td><td>Individual</td><td>Manual</td><td>Second Owner</td></tr><tr><td>Honda Civic 1.8 S MT</td><td>2007</td><td>170000</td><td>70000</td><td>Petrol</td><td>Individual</td><td>Manual</td><td>Third Owner</td></tr><tr><td>Toyota Innova 2.5 G4 Diesel 8-seater</td><td>2007</td><td>250000</td><td>80000</td><td>Diesel</td><td>Individual</td><td>Manual</td><td>Second Owner</td></tr><tr><td>Mercedes-Benz New C-Class 200 CDI Classic</td><td>2007</td><td>699000</td><td>101849</td><td>Diesel</td><td>Dealer</td><td>Manual</td><td>Second Owner</td></tr><tr><td>Hyundai Verna CRDi ABS</td><td>2007</td><td>175000</td><td>80000</td><td>Diesel</td><td>Individual</td><td>Manual</td><td>Second Owner</td></tr><tr><td>Maruti Alto LX BSIII</td><td>2007</td><td>125000</td><td>100000</td><td>Petrol</td><td>Individual</td><td>Manual</td><td>Second Owner</td></tr><tr><td>Ford Fiesta 1.6 ZXi Duratec</td><td>2007</td><td>190000</td><td>60000</td><td>Petrol</td><td>Individual</td><td>Manual</td><td>Third Owner</td></tr><tr><td>Hyundai Santro Xing XK (Non-AC)</td><td>2007</td><td>100000</td><td>50000</td><td>Petrol</td><td>Individual</td><td>Manual</td><td>First Owner</td></tr><tr><td>Maruti Wagon R LXI DUO BSIII</td><td>2007</td><td>100000</td><td>70000</td><td>LPG</td><td>Individual</td><td>Manual</td><td>Third Owner</td></tr><tr><td>Maruti Wagon R VXI BS IV</td><td>2007</td><td>100000</td><td>60000</td><td>Petrol</td><td>Individual</td><td>Manual</td><td>Second Owner</td></tr><tr><td>Maruti Wagon R LXI Minor</td><td>2007</td><td>80000</td><td>120000</td><td>Petrol</td><td>Individual</td><td>Manual</td><td>Second Owner</td></tr><tr><td>Maruti Alto LX</td><td>2007</td><td>70000</td><td>120000</td><td>Petrol</td><td>Individual</td><td>Manual</td><td>Third Owner</td></tr><tr><td>Maruti Zen Estilo 1.1 LXI BSIII</td><td>2007</td><td>120000</td><td>81366</td><td>Petrol</td><td>Individual</td><td>Manual</td><td>First Owner</td></tr><tr><td>Maruti Wagon R LXI DUO BSIII</td><td>2007</td><td>70000</td><td>162000</td><td>LPG</td><td>Individual</td><td>Manual</td><td>First Owner</td></tr><tr><td>Mahindra Bolero DI DX 7 Seater</td><td>2007</td><td>225000</td><td>120000</td><td>Diesel</td><td>Individual</td><td>Manual</td><td>First Owner</td></tr><tr><td>Maruti Zen Estilo 1.1 LXI BSIII</td><td>2007</td><td>100000</td><td>143000</td><td>Petrol</td><td>Individual</td><td>Manual</td><td>Third Owner</td></tr><tr><td>Maruti Wagon R VXI Minor</td><td>2007</td><td>80000</td><td>60000</td><td>Petrol</td><td>Individual</td><td>Manual</td><td>Third Owner</td></tr><tr><td>Hyundai Santro Xing XK</td><td>2007</td><td>70000</td><td>55000</td><td>Petrol</td><td>Individual</td><td>Manual</td><td>Second Owner</td></tr><tr><td>Mahindra Bolero DI DX 7 Seater</td><td>2007</td><td>225000</td><td>120000</td><td>Diesel</td><td>Individual</td><td>Manual</td><td>Second Owner</td></tr><tr><td>Maruti Alto LX</td><td>2007</td><td>100000</td><td>52000</td><td>Petrol</td><td>Individual</td><td>Manual</td><td>Second Owner</td></tr><tr><td>Hyundai Verna i (Petrol)</td><td>2007</td><td>123000</td><td>50000</td><td>Petrol</td><td>Individual</td><td>Manual</td><td>Second Owner</td></tr><tr><td>Hyundai Santro Xing GLS</td><td>2007</td><td>85000</td><td>85000</td><td>Petrol</td><td>Individual</td><td>Manual</td><td>Second Owner</td></tr><tr><td>Hyundai Santro Xing GL PLUS CNG</td><td>2007</td><td>90000</td><td>80000</td><td>CNG</td><td>Individual</td><td>Manual</td><td>Third Owner</td></tr><tr><td>Maruti Esteem Lxi - BSIII</td><td>2007</td><td>75000</td><td>54000</td><td>Petrol</td><td>Individual</td><td>Manual</td><td>First Owner</td></tr><tr><td>Maruti Esteem Vxi</td><td>2007</td><td>100000</td><td>90000</td><td>Petrol</td><td>Individual</td><td>Manual</td><td>Second Owner</td></tr><tr><td>Maruti Swift ZXI ABS</td><td>2007</td><td>220000</td><td>80000</td><td>Petrol</td><td>Individual</td><td>Manual</td><td>Second Owner</td></tr><tr><td>Maruti Baleno Vxi</td><td>2007</td><td>163000</td><td>100000</td><td>Petrol</td><td>Individual</td><td>Manual</td><td>Second Owner</td></tr><tr><td>Honda City 1.5 GXI</td><td>2007</td><td>190000</td><td>115000</td><td>Petrol</td><td>Dealer</td><td>Manual</td><td>Second Owner</td></tr><tr><td>Hyundai Santro Xing XO</td><td>2007</td><td>80000</td><td>58000</td><td>Petrol</td><td>Dealer</td><td>Manual</td><td>Second Owner</td></tr><tr><td>Maruti Alto LX</td><td>2007</td><td>100000</td><td>52000</td><td>Petrol</td><td>Individual</td><td>Manual</td><td>Second Owner</td></tr><tr><td>Maruti 800 AC</td><td>2007</td><td>60000</td><td>70000</td><td>Petrol</td><td>Individual</td><td>Manual</td><td>First Owner</td></tr><tr><td>Chevrolet Tavera Neo 3 10 Seats BSIV</td><td>2007</td><td>160000</td><td>120000</td><td>Diesel</td><td>Individual</td><td>Manual</td><td>Third Owner</td></tr><tr><td>Maruti Wagon R LXI Minor</td><td>2007</td><td>140000</td><td>49000</td><td>Petrol</td><td>Dealer</td><td>Manual</td><td>First Owner</td></tr><tr><td>Maruti Esteem Lxi - BSIII</td><td>2007</td><td>75000</td><td>54000</td><td>Petrol</td><td>Individual</td><td>Manual</td><td>First Owner</td></tr><tr><td>Maruti Omni CNG</td><td>2007</td><td>45000</td><td>100000</td><td>CNG</td><td>Individual</td><td>Manual</td><td>Fourth & Above Owner</td></tr><tr><td>Fiat Palio 1.2 Sport</td><td>2007</td><td>125000</td><td>50000</td><td>Petrol</td><td>Individual</td><td>Manual</td><td>Second Owner</td></tr><tr><td>Ford Fiesta 1.4 ZXi Leather</td><td>2007</td><td>100000</td><td>170000</td><td>Petrol</td><td>Individual</td><td>Manual</td><td>First Owner</td></tr><tr><td>Tata New Safari 4X4</td><td>2007</td><td>199000</td><td>78771</td><td>Diesel</td><td>Dealer</td><td>Manual</td><td>Second Owner</td></tr><tr><td>Mahindra Bolero SLX 2WD</td><td>2007</td><td>300000</td><td>100000</td><td>Diesel</td><td>Individual</td><td>Manual</td><td>Second Owner</td></tr><tr><td>Maruti Wagon R LXI Minor</td><td>2007</td><td>95000</td><td>80000</td><td>Petrol</td><td>Individual</td><td>Manual</td><td>First Owner</td></tr><tr><td>Hyundai Verna i (Petrol)</td><td>2007</td><td>123000</td><td>50000</td><td>Petrol</td><td>Individual</td><td>Manual</td><td>Second Owner</td></tr><tr><td>Ford Endeavour Hurricane Limited Edition</td><td>2007</td><td>400000</td><td>110000</td><td>Diesel</td><td>Individual</td><td>Automatic</td><td>Fourth & Above Owner</td></tr><tr><td>Honda Accord VTi-L (MT)</td><td>2007</td><td>200000</td><td>80000</td><td>Petrol</td><td>Individual</td><td>Manual</td><td>Second Owner</td></tr><tr><td>Maruti Alto LXi</td><td>2007</td><td>100000</td><td>195000</td><td>Petrol</td><td>Individual</td><td>Manual</td><td>First Owner</td></tr><tr><td>Mahindra Renault Logan 1.5 DLX Diesel</td><td>2007</td><td>150000</td><td>90000</td><td>Diesel</td><td>Individual</td><td>Manual</td><td>Third Owner</td></tr><tr><td>Maruti Alto LXi</td><td>2007</td><td>75000</td><td>40000</td><td>Petrol</td><td>Individual</td><td>Manual</td><td>Second Owner</td></tr><tr><td>Mahindra Scorpio SLX 2.6 Turbo 8 Str</td><td>2007</td><td>190000</td><td>160000</td><td>Diesel</td><td>Individual</td><td>Manual</td><td>Second Owner</td></tr><tr><td>Mahindra Bolero SLX</td><td>2007</td><td>300000</td><td>100000</td><td>Diesel</td><td>Individual</td><td>Manual</td><td>Second Owner</td></tr><tr><td>Maruti Wagon R LXI Minor</td><td>2007</td><td>160000</td><td>80000</td><td>Petrol</td><td>Individual</td><td>Manual</td><td>Second Owner</td></tr><tr><td>Hyundai Verna SX</td><td>2007</td><td>155000</td><td>65000</td><td>Petrol</td><td>Dealer</td><td>Manual</td><td>First Owner</td></tr><tr><td>Hyundai Verna CRDi ABS</td><td>2007</td><td>175000</td><td>80000</td><td>Diesel</td><td>Individual</td><td>Manual</td><td>Second Owner</td></tr><tr><td>Mahindra Scorpio 2.6 Turbo 9 Str</td><td>2007</td><td>370000</td><td>100000</td><td>Diesel</td><td>Individual</td><td>Manual</td><td>Third Owner</td></tr><tr><td>Maruti Swift VDI</td><td>2007</td><td>225000</td><td>50000</td><td>Diesel</td><td>Dealer</td><td>Manual</td><td>First Owner</td></tr><tr><td>Maruti Alto LXi</td><td>2007</td><td>90000</td><td>100000</td><td>Petrol</td><td>Individual</td><td>Manual</td><td>Second Owner</td></tr><tr><td>Hyundai Santro Xing XO</td><td>2007</td><td>80000</td><td>58000</td><td>Petrol</td><td>Dealer</td><td>Manual</td><td>Second Owner</td></tr><tr><td>Mahindra Jeep MM 540</td><td>2007</td><td>95000</td><td>100000</td><td>Diesel</td><td>Individual</td><td>Manual</td><td>Second Owner</td></tr><tr><td>Hyundai Santro GLS I - Euro II</td><td>2007</td><td>135000</td><td>85000</td><td>Petrol</td><td>Dealer</td><td>Manual</td><td>First Owner</td></tr><tr><td>Hyundai Verna XXi (Petrol)</td><td>2007</td><td>150000</td><td>84000</td><td>Petrol</td><td>Individual</td><td>Manual</td><td>Second Owner</td></tr><tr><td>Mitsubishi Montero 3.2 MT</td><td>2007</td><td>750000</td><td>180000</td><td>Diesel</td><td>Individual</td><td>Manual</td><td>First Owner</td></tr><tr><td>Maruti SX4 Vxi BSIII</td><td>2007</td><td>100000</td><td>90000</td><td>Petrol</td><td>Individual</td><td>Manual</td><td>Second Owner</td></tr><tr><td>Tata New Safari 4X2</td><td>2007</td><td>550000</td><td>80000</td><td>Petrol</td><td>Individual</td><td>Manual</td><td>Second Owner</td></tr><tr><td>Maruti Swift 1.3 LXI</td><td>2007</td><td>73000</td><td>80000</td><td>Petrol</td><td>Individual</td><td>Manual</td><td>Second Owner</td></tr><tr><td>Maruti Zen Estilo 1.1 LXI BSIII</td><td>2007</td><td>160000</td><td>90000</td><td>Petrol</td><td>Individual</td><td>Manual</td><td>Second Owner</td></tr><tr><td>Maruti Swift 1.3 LXI</td><td>2007</td><td>73000</td><td>80000</td><td>Petrol</td><td>Individual</td><td>Manual</td><td>Second Owner</td></tr><tr><td>Maruti 800 AC</td><td>2007</td><td>60000</td><td>70000</td><td>Petrol</td><td>Individual</td><td>Manual</td><td>First Owner</td></tr><tr><td>Maruti Zen Estilo LX BSIII</td><td>2007</td><td>135000</td><td>74183</td><td>Petrol</td><td>Individual</td><td>Manual</td><td>Second Owner</td></tr><tr><td>Maruti Alto LXi</td><td>2007</td><td>100000</td><td>70000</td><td>Petrol</td><td>Individual</td><td>Manual</td><td>First Owner</td></tr><tr><td>Maruti 800 AC</td><td>2007</td><td>95000</td><td>100000</td><td>Petrol</td><td>Individual</td><td>Manual</td><td>Second Owner</td></tr><tr><td>Hyundai Getz GLX</td><td>2007</td><td>110000</td><td>90000</td><td>Petrol</td><td>Individual</td><td>Manual</td><td>First Owner</td></tr><tr><td>Maruti Zen Estilo LXI BSIII</td><td>2007</td><td>275000</td><td>10211</td><td>Petrol</td><td>Individual</td><td>Manual</td><td>First Owner</td></tr><tr><td>Maruti 800 AC</td><td>2007</td><td>80000</td><td>120000</td><td>Petrol</td><td>Individual</td><td>Manual</td><td>First Owner</td></tr><tr><td>Hyundai Verna CRDi</td><td>2007</td><td>155000</td><td>100000</td><td>Diesel</td><td>Individual</td><td>Manual</td><td>Fourth & Above Owner</td></tr><tr><td>Chevrolet Aveo 1.4</td><td>2007</td><td>85000</td><td>70000</td><td>Petrol</td><td>Individual</td><td>Manual</td><td>Second Owner</td></tr><tr><td>Maruti Alto LXi</td><td>2007</td><td>100000</td><td>70000</td><td>Petrol</td><td>Individual</td><td>Manual</td><td>Second Owner</td></tr><tr><td>Ford Fiesta Classic 1.4 SXI Duratorq</td><td>2007</td><td>130000</td><td>98000</td><td>Diesel</td><td>Individual</td><td>Manual</td><td>Second Owner</td></tr><tr><td>Maruti 800 AC</td><td>2007</td><td>105000</td><td>60000</td><td>Petrol</td><td>Individual</td><td>Manual</td><td>Second Owner</td></tr><tr><td>Maruti Wagon R LX BSIII</td><td>2007</td><td>100000</td><td>110000</td><td>Petrol</td><td>Individual</td><td>Manual</td><td>First Owner</td></tr><tr><td>Chevrolet Aveo U-VA 1.2</td><td>2007</td><td>80000</td><td>110000</td><td>Petrol</td><td>Individual</td><td>Manual</td><td>Second Owner</td></tr><tr><td>Honda Civic 1.8 S AT</td><td>2007</td><td>250000</td><td>47000</td><td>Petrol</td><td>Dealer</td><td>Automatic</td><td>First Owner</td></tr><tr><td>Maruti Alto LXi</td><td>2007</td><td>95000</td><td>85000</td><td>Petrol</td><td>Individual</td><td>Manual</td><td>Second Owner</td></tr><tr><td>Maruti Zen Estilo 1.1 LXI BSIII</td><td>2007</td><td>120000</td><td>81366</td><td>Petrol</td><td>Individual</td><td>Manual</td><td>First Owner</td></tr><tr><td>Skoda Laura Ambiente 1.9 PD</td><td>2007</td><td>175000</td><td>181000</td><td>Diesel</td><td>Individual</td><td>Manual</td><td>Fourth & Above Owner</td></tr><tr><td>Maruti Grand Vitara MT</td><td>2007</td><td>479000</td><td>145000</td><td>Petrol</td><td>Individual</td><td>Manual</td><td>Third Owner</td></tr><tr><td>Maruti Swift VDI</td><td>2007</td><td>225000</td><td>50000</td><td>Diesel</td><td>Dealer</td><td>Manual</td><td>First Owner</td></tr><tr><td>Maruti Wagon R LX Minor</td><td>2007</td><td>100000</td><td>100000</td><td>Petrol</td><td>Individual</td><td>Manual</td><td>First Owner</td></tr><tr><td>Honda Civic 1.8 V AT</td><td>2007</td><td>280000</td><td>60000</td><td>Petrol</td><td>Individual</td><td>Automatic</td><td>First Owner</td></tr><tr><td>Maruti 800 AC BSIII</td><td>2007</td><td>60000</td><td>52000</td><td>Petrol</td><td>Individual</td><td>Manual</td><td>First Owner</td></tr><tr><td>Maruti 800 AC BSIII</td><td>2007</td><td>75000</td><td>90000</td><td>Petrol</td><td>Individual</td><td>Manual</td><td>Second Owner</td></tr><tr><td>Maruti Wagon R LXI Minor</td><td>2007</td><td>130000</td><td>60000</td><td>Petrol</td><td>Individual</td><td>Manual</td><td>Third Owner</td></tr><tr><td>Honda Civic 1.8 S MT</td><td>2007</td><td>229999</td><td>70000</td><td>Petrol</td><td>Individual</td><td>Manual</td><td>Second Owner</td></tr><tr><td>Mercedes-Benz E-Class 280 CDI</td><td>2007</td><td>900000</td><td>76731</td><td>Diesel</td><td>Dealer</td><td>Automatic</td><td>First Owner</td></tr><tr><td>Honda Civic 1.8 MT Sport</td><td>2007</td><td>225000</td><td>55000</td><td>Petrol</td><td>Individual</td><td>Manual</td><td>Second Owner</td></tr><tr><td>Maruti 800 AC</td><td>2007</td><td>60000</td><td>70000</td><td>Petrol</td><td>Individual</td><td>Manual</td><td>First Owner</td></tr><tr><td>Hyundai Getz GLS</td><td>2007</td><td>95000</td><td>120000</td><td>Petrol</td><td>Individual</td><td>Manual</td><td>Fourth & Above Owner</td></tr><tr><td>Mahindra Bolero SLE BSIII</td><td>2007</td><td>185000</td><td>230000</td><td>Diesel</td><td>Individual</td><td>Manual</td><td>Second Owner</td></tr><tr><td>Maruti Zen Estilo 1.1 VXI BSIII</td><td>2007</td><td>95000</td><td>80000</td><td>Petrol</td><td>Individual</td><td>Manual</td><td>First Owner</td></tr><tr><td>Mahindra Renault Logan 1.5 DLE Diesel</td><td>2007</td><td>125000</td><td>110000</td><td>Diesel</td><td>Individual</td><td>Manual</td><td>Second Owner</td></tr><tr><td>Tata New Safari 4X2</td><td>2007</td><td>550000</td><td>80000</td><td>Petrol</td><td>Individual</td><td>Manual</td><td>Second Owner</td></tr><tr><td>Maruti Wagon R VXI Minor</td><td>2007</td><td>80000</td><td>60000</td><td>Petrol</td><td>Individual</td><td>Manual</td><td>Third Owner</td></tr><tr><td>Tata Indigo LS</td><td>2007</td><td>55000</td><td>195000</td><td>Diesel</td><td>Individual</td><td>Manual</td><td>Third Owner</td></tr><tr><td>Hyundai Accent GLS</td><td>2007</td><td>125000</td><td>76000</td><td>Petrol</td><td>Dealer</td><td>Manual</td><td>Third Owner</td></tr><tr><td>Honda City 1.5 GXI</td><td>2007</td><td>190000</td><td>115000</td><td>Petrol</td><td>Dealer</td><td>Manual</td><td>Second Owner</td></tr></tbody></table></div>"
      ]
     },
     "metadata": {
      "application/vnd.databricks.v1+output": {
       "addedWidgets": {},
       "aggData": [],
       "aggError": "",
       "aggOverflow": false,
       "aggSchema": [],
       "aggSeriesLimitReached": false,
       "aggType": "",
       "arguments": {},
       "columnCustomDisplayInfos": {},
       "data": [
        [
         "Mercedes-Benz S-Class S 350d Connoisseurs Edition",
         2017,
         8150000,
         6500,
         "Diesel",
         "Dealer",
         "Automatic",
         "First Owner"
        ],
        [
         "Audi RS7 2015-2019 Sportback Performance",
         2016,
         8900000,
         13000,
         "Petrol",
         "Dealer",
         "Automatic",
         "First Owner"
        ],
        [
         "Tata Indica GLS BS IV",
         2007,
         60000,
         130000,
         "Petrol",
         "Individual",
         "Manual",
         "Second Owner"
        ],
        [
         "Maruti Alto LXi",
         2007,
         90000,
         43826,
         "Petrol",
         "Dealer",
         "Manual",
         "Second Owner"
        ],
        [
         "Tata Indica GLS BS IV",
         2007,
         85000,
         50000,
         "Petrol",
         "Individual",
         "Manual",
         "Second Owner"
        ],
        [
         "Mahindra Scorpio 2.6 Turbo 7 Str",
         2007,
         210000,
         100000,
         "Diesel",
         "Individual",
         "Manual",
         "Second Owner"
        ],
        [
         "Hyundai Getz GLE",
         2007,
         110000,
         60000,
         "Petrol",
         "Individual",
         "Manual",
         "Fourth & Above Owner"
        ],
        [
         "Toyota Corolla H6",
         2007,
         215000,
         55800,
         "Petrol",
         "Dealer",
         "Manual",
         "Second Owner"
        ],
        [
         "Mahindra Bolero DI",
         2007,
         250000,
         50000,
         "Diesel",
         "Individual",
         "Manual",
         "First Owner"
        ],
        [
         "Maruti Swift VDI BSIV",
         2007,
         195000,
         112880,
         "Diesel",
         "Dealer",
         "Manual",
         "First Owner"
        ],
        [
         "Maruti Omni E 8 Str STD",
         2007,
         110000,
         90000,
         "Petrol",
         "Individual",
         "Manual",
         "Fourth & Above Owner"
        ],
        [
         "Maruti Wagon R LXI Minor",
         2007,
         85000,
         80000,
         "Petrol",
         "Individual",
         "Manual",
         "Second Owner"
        ],
        [
         "Maruti Zen Estilo VXI BSIII",
         2007,
         140000,
         100000,
         "Petrol",
         "Individual",
         "Manual",
         "Second Owner"
        ],
        [
         "Maruti Zen Estilo VXI BSIII",
         2007,
         90000,
         90000,
         "Petrol",
         "Individual",
         "Manual",
         "First Owner"
        ],
        [
         "Maruti Alto LX BSIII",
         2007,
         135000,
         70000,
         "Petrol",
         "Individual",
         "Manual",
         "Second Owner"
        ],
        [
         "Maruti Zen Estilo LXI BSIII",
         2007,
         100000,
         80000,
         "Petrol",
         "Individual",
         "Manual",
         "Third Owner"
        ],
        [
         "Maruti SX4 Zxi BSIII",
         2007,
         160000,
         80000,
         "Petrol",
         "Individual",
         "Manual",
         "Third Owner"
        ],
        [
         "Maruti SX4 Zxi with Leather BSIII",
         2007,
         175000,
         78380,
         "Petrol",
         "Individual",
         "Manual",
         "First Owner"
        ],
        [
         "Maruti Alto LX BSIII",
         2007,
         140000,
         125000,
         "Petrol",
         "Individual",
         "Manual",
         "First Owner"
        ],
        [
         "Honda Civic 1.8 V AT",
         2007,
         200000,
         54000,
         "Petrol",
         "Individual",
         "Automatic",
         "Second Owner"
        ],
        [
         "Tata Indigo Classic Dicor",
         2007,
         100000,
         39000,
         "Diesel",
         "Individual",
         "Manual",
         "First Owner"
        ],
        [
         "Maruti Swift VXI with ABS",
         2007,
         250000,
         120000,
         "Petrol",
         "Individual",
         "Manual",
         "Second Owner"
        ],
        [
         "Maruti Wagon R LXI Minor",
         2007,
         135000,
         50000,
         "Petrol",
         "Individual",
         "Manual",
         "First Owner"
        ],
        [
         "Maruti SX4 Vxi BSIII",
         2007,
         120000,
         90000,
         "Petrol",
         "Individual",
         "Manual",
         "Second Owner"
        ],
        [
         "Maruti Alto LX BSIII",
         2007,
         140000,
         125000,
         "Petrol",
         "Individual",
         "Manual",
         "First Owner"
        ],
        [
         "Maruti Alto LX",
         2007,
         70000,
         180000,
         "Petrol",
         "Individual",
         "Manual",
         "Third Owner"
        ],
        [
         "Maruti Wagon R LXI Minor",
         2007,
         135000,
         50000,
         "Petrol",
         "Individual",
         "Manual",
         "First Owner"
        ],
        [
         "Hyundai Santro Xing XL eRLX Euro III",
         2007,
         75000,
         114000,
         "Petrol",
         "Individual",
         "Manual",
         "Second Owner"
        ],
        [
         "Maruti Swift Vdi BSIII",
         2007,
         100000,
         110000,
         "Diesel",
         "Individual",
         "Manual",
         "Fourth & Above Owner"
        ],
        [
         "Maruti Wagon R LXI Minor",
         2007,
         140000,
         49000,
         "Petrol",
         "Dealer",
         "Manual",
         "First Owner"
        ],
        [
         "Hyundai Verna CRDi SX",
         2007,
         212000,
         58000,
         "Diesel",
         "Dealer",
         "Manual",
         "Second Owner"
        ],
        [
         "Toyota Innova 2.5 G4 Diesel 7-seater",
         2007,
         440000,
         223000,
         "Diesel",
         "Individual",
         "Manual",
         "Fourth & Above Owner"
        ],
        [
         "Hyundai Santro Xing XK eRLX EuroIII",
         2007,
         130000,
         135000,
         "Petrol",
         "Individual",
         "Manual",
         "Second Owner"
        ],
        [
         "Hyundai Verna SX",
         2007,
         155000,
         65000,
         "Petrol",
         "Dealer",
         "Manual",
         "First Owner"
        ],
        [
         "Maruti Alto LXi",
         2007,
         100000,
         100000,
         "Petrol",
         "Individual",
         "Manual",
         "Second Owner"
        ],
        [
         "Honda Civic 1.8 S MT",
         2007,
         170000,
         70000,
         "Petrol",
         "Individual",
         "Manual",
         "Third Owner"
        ],
        [
         "Toyota Innova 2.5 G4 Diesel 8-seater",
         2007,
         250000,
         80000,
         "Diesel",
         "Individual",
         "Manual",
         "Second Owner"
        ],
        [
         "Mercedes-Benz New C-Class 200 CDI Classic",
         2007,
         699000,
         101849,
         "Diesel",
         "Dealer",
         "Manual",
         "Second Owner"
        ],
        [
         "Hyundai Verna CRDi ABS",
         2007,
         175000,
         80000,
         "Diesel",
         "Individual",
         "Manual",
         "Second Owner"
        ],
        [
         "Maruti Alto LX BSIII",
         2007,
         125000,
         100000,
         "Petrol",
         "Individual",
         "Manual",
         "Second Owner"
        ],
        [
         "Ford Fiesta 1.6 ZXi Duratec",
         2007,
         190000,
         60000,
         "Petrol",
         "Individual",
         "Manual",
         "Third Owner"
        ],
        [
         "Hyundai Santro Xing XK (Non-AC)",
         2007,
         100000,
         50000,
         "Petrol",
         "Individual",
         "Manual",
         "First Owner"
        ],
        [
         "Maruti Wagon R LXI DUO BSIII",
         2007,
         100000,
         70000,
         "LPG",
         "Individual",
         "Manual",
         "Third Owner"
        ],
        [
         "Maruti Wagon R VXI BS IV",
         2007,
         100000,
         60000,
         "Petrol",
         "Individual",
         "Manual",
         "Second Owner"
        ],
        [
         "Maruti Wagon R LXI Minor",
         2007,
         80000,
         120000,
         "Petrol",
         "Individual",
         "Manual",
         "Second Owner"
        ],
        [
         "Maruti Alto LX",
         2007,
         70000,
         120000,
         "Petrol",
         "Individual",
         "Manual",
         "Third Owner"
        ],
        [
         "Maruti Zen Estilo 1.1 LXI BSIII",
         2007,
         120000,
         81366,
         "Petrol",
         "Individual",
         "Manual",
         "First Owner"
        ],
        [
         "Maruti Wagon R LXI DUO BSIII",
         2007,
         70000,
         162000,
         "LPG",
         "Individual",
         "Manual",
         "First Owner"
        ],
        [
         "Mahindra Bolero DI DX 7 Seater",
         2007,
         225000,
         120000,
         "Diesel",
         "Individual",
         "Manual",
         "First Owner"
        ],
        [
         "Maruti Zen Estilo 1.1 LXI BSIII",
         2007,
         100000,
         143000,
         "Petrol",
         "Individual",
         "Manual",
         "Third Owner"
        ],
        [
         "Maruti Wagon R VXI Minor",
         2007,
         80000,
         60000,
         "Petrol",
         "Individual",
         "Manual",
         "Third Owner"
        ],
        [
         "Hyundai Santro Xing XK",
         2007,
         70000,
         55000,
         "Petrol",
         "Individual",
         "Manual",
         "Second Owner"
        ],
        [
         "Mahindra Bolero DI DX 7 Seater",
         2007,
         225000,
         120000,
         "Diesel",
         "Individual",
         "Manual",
         "Second Owner"
        ],
        [
         "Maruti Alto LX",
         2007,
         100000,
         52000,
         "Petrol",
         "Individual",
         "Manual",
         "Second Owner"
        ],
        [
         "Hyundai Verna i (Petrol)",
         2007,
         123000,
         50000,
         "Petrol",
         "Individual",
         "Manual",
         "Second Owner"
        ],
        [
         "Hyundai Santro Xing GLS",
         2007,
         85000,
         85000,
         "Petrol",
         "Individual",
         "Manual",
         "Second Owner"
        ],
        [
         "Hyundai Santro Xing GL PLUS CNG",
         2007,
         90000,
         80000,
         "CNG",
         "Individual",
         "Manual",
         "Third Owner"
        ],
        [
         "Maruti Esteem Lxi - BSIII",
         2007,
         75000,
         54000,
         "Petrol",
         "Individual",
         "Manual",
         "First Owner"
        ],
        [
         "Maruti Esteem Vxi",
         2007,
         100000,
         90000,
         "Petrol",
         "Individual",
         "Manual",
         "Second Owner"
        ],
        [
         "Maruti Swift ZXI ABS",
         2007,
         220000,
         80000,
         "Petrol",
         "Individual",
         "Manual",
         "Second Owner"
        ],
        [
         "Maruti Baleno Vxi",
         2007,
         163000,
         100000,
         "Petrol",
         "Individual",
         "Manual",
         "Second Owner"
        ],
        [
         "Honda City 1.5 GXI",
         2007,
         190000,
         115000,
         "Petrol",
         "Dealer",
         "Manual",
         "Second Owner"
        ],
        [
         "Hyundai Santro Xing XO",
         2007,
         80000,
         58000,
         "Petrol",
         "Dealer",
         "Manual",
         "Second Owner"
        ],
        [
         "Maruti Alto LX",
         2007,
         100000,
         52000,
         "Petrol",
         "Individual",
         "Manual",
         "Second Owner"
        ],
        [
         "Maruti 800 AC",
         2007,
         60000,
         70000,
         "Petrol",
         "Individual",
         "Manual",
         "First Owner"
        ],
        [
         "Chevrolet Tavera Neo 3 10 Seats BSIV",
         2007,
         160000,
         120000,
         "Diesel",
         "Individual",
         "Manual",
         "Third Owner"
        ],
        [
         "Maruti Wagon R LXI Minor",
         2007,
         140000,
         49000,
         "Petrol",
         "Dealer",
         "Manual",
         "First Owner"
        ],
        [
         "Maruti Esteem Lxi - BSIII",
         2007,
         75000,
         54000,
         "Petrol",
         "Individual",
         "Manual",
         "First Owner"
        ],
        [
         "Maruti Omni CNG",
         2007,
         45000,
         100000,
         "CNG",
         "Individual",
         "Manual",
         "Fourth & Above Owner"
        ],
        [
         "Fiat Palio 1.2 Sport",
         2007,
         125000,
         50000,
         "Petrol",
         "Individual",
         "Manual",
         "Second Owner"
        ],
        [
         "Ford Fiesta 1.4 ZXi Leather",
         2007,
         100000,
         170000,
         "Petrol",
         "Individual",
         "Manual",
         "First Owner"
        ],
        [
         "Tata New Safari 4X4",
         2007,
         199000,
         78771,
         "Diesel",
         "Dealer",
         "Manual",
         "Second Owner"
        ],
        [
         "Mahindra Bolero SLX 2WD",
         2007,
         300000,
         100000,
         "Diesel",
         "Individual",
         "Manual",
         "Second Owner"
        ],
        [
         "Maruti Wagon R LXI Minor",
         2007,
         95000,
         80000,
         "Petrol",
         "Individual",
         "Manual",
         "First Owner"
        ],
        [
         "Hyundai Verna i (Petrol)",
         2007,
         123000,
         50000,
         "Petrol",
         "Individual",
         "Manual",
         "Second Owner"
        ],
        [
         "Ford Endeavour Hurricane Limited Edition",
         2007,
         400000,
         110000,
         "Diesel",
         "Individual",
         "Automatic",
         "Fourth & Above Owner"
        ],
        [
         "Honda Accord VTi-L (MT)",
         2007,
         200000,
         80000,
         "Petrol",
         "Individual",
         "Manual",
         "Second Owner"
        ],
        [
         "Maruti Alto LXi",
         2007,
         100000,
         195000,
         "Petrol",
         "Individual",
         "Manual",
         "First Owner"
        ],
        [
         "Mahindra Renault Logan 1.5 DLX Diesel",
         2007,
         150000,
         90000,
         "Diesel",
         "Individual",
         "Manual",
         "Third Owner"
        ],
        [
         "Maruti Alto LXi",
         2007,
         75000,
         40000,
         "Petrol",
         "Individual",
         "Manual",
         "Second Owner"
        ],
        [
         "Mahindra Scorpio SLX 2.6 Turbo 8 Str",
         2007,
         190000,
         160000,
         "Diesel",
         "Individual",
         "Manual",
         "Second Owner"
        ],
        [
         "Mahindra Bolero SLX",
         2007,
         300000,
         100000,
         "Diesel",
         "Individual",
         "Manual",
         "Second Owner"
        ],
        [
         "Maruti Wagon R LXI Minor",
         2007,
         160000,
         80000,
         "Petrol",
         "Individual",
         "Manual",
         "Second Owner"
        ],
        [
         "Hyundai Verna SX",
         2007,
         155000,
         65000,
         "Petrol",
         "Dealer",
         "Manual",
         "First Owner"
        ],
        [
         "Hyundai Verna CRDi ABS",
         2007,
         175000,
         80000,
         "Diesel",
         "Individual",
         "Manual",
         "Second Owner"
        ],
        [
         "Mahindra Scorpio 2.6 Turbo 9 Str",
         2007,
         370000,
         100000,
         "Diesel",
         "Individual",
         "Manual",
         "Third Owner"
        ],
        [
         "Maruti Swift VDI",
         2007,
         225000,
         50000,
         "Diesel",
         "Dealer",
         "Manual",
         "First Owner"
        ],
        [
         "Maruti Alto LXi",
         2007,
         90000,
         100000,
         "Petrol",
         "Individual",
         "Manual",
         "Second Owner"
        ],
        [
         "Hyundai Santro Xing XO",
         2007,
         80000,
         58000,
         "Petrol",
         "Dealer",
         "Manual",
         "Second Owner"
        ],
        [
         "Mahindra Jeep MM 540",
         2007,
         95000,
         100000,
         "Diesel",
         "Individual",
         "Manual",
         "Second Owner"
        ],
        [
         "Hyundai Santro GLS I - Euro II",
         2007,
         135000,
         85000,
         "Petrol",
         "Dealer",
         "Manual",
         "First Owner"
        ],
        [
         "Hyundai Verna XXi (Petrol)",
         2007,
         150000,
         84000,
         "Petrol",
         "Individual",
         "Manual",
         "Second Owner"
        ],
        [
         "Mitsubishi Montero 3.2 MT",
         2007,
         750000,
         180000,
         "Diesel",
         "Individual",
         "Manual",
         "First Owner"
        ],
        [
         "Maruti SX4 Vxi BSIII",
         2007,
         100000,
         90000,
         "Petrol",
         "Individual",
         "Manual",
         "Second Owner"
        ],
        [
         "Tata New Safari 4X2",
         2007,
         550000,
         80000,
         "Petrol",
         "Individual",
         "Manual",
         "Second Owner"
        ],
        [
         "Maruti Swift 1.3 LXI",
         2007,
         73000,
         80000,
         "Petrol",
         "Individual",
         "Manual",
         "Second Owner"
        ],
        [
         "Maruti Zen Estilo 1.1 LXI BSIII",
         2007,
         160000,
         90000,
         "Petrol",
         "Individual",
         "Manual",
         "Second Owner"
        ],
        [
         "Maruti Swift 1.3 LXI",
         2007,
         73000,
         80000,
         "Petrol",
         "Individual",
         "Manual",
         "Second Owner"
        ],
        [
         "Maruti 800 AC",
         2007,
         60000,
         70000,
         "Petrol",
         "Individual",
         "Manual",
         "First Owner"
        ],
        [
         "Maruti Zen Estilo LX BSIII",
         2007,
         135000,
         74183,
         "Petrol",
         "Individual",
         "Manual",
         "Second Owner"
        ],
        [
         "Maruti Alto LXi",
         2007,
         100000,
         70000,
         "Petrol",
         "Individual",
         "Manual",
         "First Owner"
        ],
        [
         "Maruti 800 AC",
         2007,
         95000,
         100000,
         "Petrol",
         "Individual",
         "Manual",
         "Second Owner"
        ],
        [
         "Hyundai Getz GLX",
         2007,
         110000,
         90000,
         "Petrol",
         "Individual",
         "Manual",
         "First Owner"
        ],
        [
         "Maruti Zen Estilo LXI BSIII",
         2007,
         275000,
         10211,
         "Petrol",
         "Individual",
         "Manual",
         "First Owner"
        ],
        [
         "Maruti 800 AC",
         2007,
         80000,
         120000,
         "Petrol",
         "Individual",
         "Manual",
         "First Owner"
        ],
        [
         "Hyundai Verna CRDi",
         2007,
         155000,
         100000,
         "Diesel",
         "Individual",
         "Manual",
         "Fourth & Above Owner"
        ],
        [
         "Chevrolet Aveo 1.4",
         2007,
         85000,
         70000,
         "Petrol",
         "Individual",
         "Manual",
         "Second Owner"
        ],
        [
         "Maruti Alto LXi",
         2007,
         100000,
         70000,
         "Petrol",
         "Individual",
         "Manual",
         "Second Owner"
        ],
        [
         "Ford Fiesta Classic 1.4 SXI Duratorq",
         2007,
         130000,
         98000,
         "Diesel",
         "Individual",
         "Manual",
         "Second Owner"
        ],
        [
         "Maruti 800 AC",
         2007,
         105000,
         60000,
         "Petrol",
         "Individual",
         "Manual",
         "Second Owner"
        ],
        [
         "Maruti Wagon R LX BSIII",
         2007,
         100000,
         110000,
         "Petrol",
         "Individual",
         "Manual",
         "First Owner"
        ],
        [
         "Chevrolet Aveo U-VA 1.2",
         2007,
         80000,
         110000,
         "Petrol",
         "Individual",
         "Manual",
         "Second Owner"
        ],
        [
         "Honda Civic 1.8 S AT",
         2007,
         250000,
         47000,
         "Petrol",
         "Dealer",
         "Automatic",
         "First Owner"
        ],
        [
         "Maruti Alto LXi",
         2007,
         95000,
         85000,
         "Petrol",
         "Individual",
         "Manual",
         "Second Owner"
        ],
        [
         "Maruti Zen Estilo 1.1 LXI BSIII",
         2007,
         120000,
         81366,
         "Petrol",
         "Individual",
         "Manual",
         "First Owner"
        ],
        [
         "Skoda Laura Ambiente 1.9 PD",
         2007,
         175000,
         181000,
         "Diesel",
         "Individual",
         "Manual",
         "Fourth & Above Owner"
        ],
        [
         "Maruti Grand Vitara MT",
         2007,
         479000,
         145000,
         "Petrol",
         "Individual",
         "Manual",
         "Third Owner"
        ],
        [
         "Maruti Swift VDI",
         2007,
         225000,
         50000,
         "Diesel",
         "Dealer",
         "Manual",
         "First Owner"
        ],
        [
         "Maruti Wagon R LX Minor",
         2007,
         100000,
         100000,
         "Petrol",
         "Individual",
         "Manual",
         "First Owner"
        ],
        [
         "Honda Civic 1.8 V AT",
         2007,
         280000,
         60000,
         "Petrol",
         "Individual",
         "Automatic",
         "First Owner"
        ],
        [
         "Maruti 800 AC BSIII",
         2007,
         60000,
         52000,
         "Petrol",
         "Individual",
         "Manual",
         "First Owner"
        ],
        [
         "Maruti 800 AC BSIII",
         2007,
         75000,
         90000,
         "Petrol",
         "Individual",
         "Manual",
         "Second Owner"
        ],
        [
         "Maruti Wagon R LXI Minor",
         2007,
         130000,
         60000,
         "Petrol",
         "Individual",
         "Manual",
         "Third Owner"
        ],
        [
         "Honda Civic 1.8 S MT",
         2007,
         229999,
         70000,
         "Petrol",
         "Individual",
         "Manual",
         "Second Owner"
        ],
        [
         "Mercedes-Benz E-Class 280 CDI",
         2007,
         900000,
         76731,
         "Diesel",
         "Dealer",
         "Automatic",
         "First Owner"
        ],
        [
         "Honda Civic 1.8 MT Sport",
         2007,
         225000,
         55000,
         "Petrol",
         "Individual",
         "Manual",
         "Second Owner"
        ],
        [
         "Maruti 800 AC",
         2007,
         60000,
         70000,
         "Petrol",
         "Individual",
         "Manual",
         "First Owner"
        ],
        [
         "Hyundai Getz GLS",
         2007,
         95000,
         120000,
         "Petrol",
         "Individual",
         "Manual",
         "Fourth & Above Owner"
        ],
        [
         "Mahindra Bolero SLE BSIII",
         2007,
         185000,
         230000,
         "Diesel",
         "Individual",
         "Manual",
         "Second Owner"
        ],
        [
         "Maruti Zen Estilo 1.1 VXI BSIII",
         2007,
         95000,
         80000,
         "Petrol",
         "Individual",
         "Manual",
         "First Owner"
        ],
        [
         "Mahindra Renault Logan 1.5 DLE Diesel",
         2007,
         125000,
         110000,
         "Diesel",
         "Individual",
         "Manual",
         "Second Owner"
        ],
        [
         "Tata New Safari 4X2",
         2007,
         550000,
         80000,
         "Petrol",
         "Individual",
         "Manual",
         "Second Owner"
        ],
        [
         "Maruti Wagon R VXI Minor",
         2007,
         80000,
         60000,
         "Petrol",
         "Individual",
         "Manual",
         "Third Owner"
        ],
        [
         "Tata Indigo LS",
         2007,
         55000,
         195000,
         "Diesel",
         "Individual",
         "Manual",
         "Third Owner"
        ],
        [
         "Hyundai Accent GLS",
         2007,
         125000,
         76000,
         "Petrol",
         "Dealer",
         "Manual",
         "Third Owner"
        ],
        [
         "Honda City 1.5 GXI",
         2007,
         190000,
         115000,
         "Petrol",
         "Dealer",
         "Manual",
         "Second Owner"
        ]
       ],
       "datasetInfos": [],
       "dbfsResultPath": null,
       "isJsonSchema": true,
       "metadata": {
        "createTempViewForImplicitDf": true,
        "dataframeName": "_sqldf",
        "executionCount": 18
       },
       "overflow": false,
       "plotOptions": {
        "customPlotOptions": {},
        "displayType": "table",
        "pivotAggregation": null,
        "pivotColumns": null,
        "xColumns": null,
        "yColumns": null
       },
       "removedWidgets": [],
       "schema": [
        {
         "metadata": "{}",
         "name": "name",
         "type": "\"string\""
        },
        {
         "metadata": "{}",
         "name": "year",
         "type": "\"long\""
        },
        {
         "metadata": "{}",
         "name": "selling_price",
         "type": "\"long\""
        },
        {
         "metadata": "{}",
         "name": "km_driven",
         "type": "\"long\""
        },
        {
         "metadata": "{}",
         "name": "fuel",
         "type": "\"string\""
        },
        {
         "metadata": "{}",
         "name": "seller_type",
         "type": "\"string\""
        },
        {
         "metadata": "{}",
         "name": "transmission",
         "type": "\"string\""
        },
        {
         "metadata": "{}",
         "name": "owner",
         "type": "\"string\""
        }
       ],
       "type": "table"
      }
     },
     "output_type": "display_data"
    }
   ],
   "source": [
    "%sql\n",
    "\n",
    "SELECT * FROM hive_metastore.default.cars WHERE (owner = 'First Owner' and selling_price > 8000000) or year = 2007\n",
    "ORDER BY year DESC"
   ]
  },
  {
   "cell_type": "code",
   "execution_count": 0,
   "metadata": {
    "application/vnd.databricks.v1+cell": {
     "cellMetadata": {
      "byteLimit": 2048000,
      "implicitDf": true,
      "rowLimit": 10000
     },
     "inputWidgets": {},
     "nuid": "b285ed45-0863-462f-9c8f-9f8aeaa1a406",
     "showTitle": false,
     "title": ""
    }
   },
   "outputs": [
    {
     "output_type": "display_data",
     "data": {
      "text/html": [
       "<style scoped>\n",
       "  .table-result-container {\n",
       "    max-height: 300px;\n",
       "    overflow: auto;\n",
       "  }\n",
       "  table, th, td {\n",
       "    border: 1px solid black;\n",
       "    border-collapse: collapse;\n",
       "  }\n",
       "  th, td {\n",
       "    padding: 5px;\n",
       "  }\n",
       "  th {\n",
       "    text-align: left;\n",
       "  }\n",
       "</style><div class='table-result-container'><table class='table-result'><thead style='background-color: white'><tr><th>version</th><th>timestamp</th><th>userId</th><th>userName</th><th>operation</th><th>operationParameters</th><th>job</th><th>notebook</th><th>clusterId</th><th>readVersion</th><th>isolationLevel</th><th>isBlindAppend</th><th>operationMetrics</th><th>userMetadata</th><th>engineInfo</th></tr></thead><tbody><tr><td>6</td><td>2024-10-28T08:15:25Z</td><td>599420620358905</td><td>contact@loonycorn.com</td><td>RESTORE</td><td>Map(version -> null, timestamp -> 2024-10-28 05:14:08.0)</td><td>null</td><td>List(3951670535128584)</td><td>1028-032811-163l393x</td><td>5</td><td>Serializable</td><td>false</td><td>Map(numRestoredFiles -> 1, removedFilesSize -> 89293, numRemovedFiles -> 2, restoredFilesSize -> 52353, numOfFilesAfterRestore -> 1, tableSizeAfterRestore -> 52353)</td><td>null</td><td>Databricks-Runtime/15.4.x-photon-scala2.12</td></tr><tr><td>5</td><td>2024-10-28T08:14:17Z</td><td>599420620358905</td><td>contact@loonycorn.com</td><td>RESTORE</td><td>Map(version -> 2, timestamp -> null)</td><td>null</td><td>List(3951670535128584)</td><td>1028-032811-163l393x</td><td>4</td><td>Serializable</td><td>false</td><td>Map(numRestoredFiles -> 2, removedFilesSize -> 52694, numRemovedFiles -> 1, restoredFilesSize -> 89293, numOfFilesAfterRestore -> 2, tableSizeAfterRestore -> 89293)</td><td>null</td><td>Databricks-Runtime/15.4.x-photon-scala2.12</td></tr><tr><td>4</td><td>2024-10-28T05:25:22Z</td><td>599420620358905</td><td>contact@loonycorn.com</td><td>ADD COLUMNS</td><td>Map(columns -> [{\"column\":{\"name\":\"condition\",\"type\":\"varchar(255)\",\"nullable\":true,\"metadata\":{}}}])</td><td>null</td><td>List(3951670535128584)</td><td>1028-032811-163l393x</td><td>3</td><td>WriteSerializable</td><td>true</td><td>Map()</td><td>null</td><td>Databricks-Runtime/15.4.x-photon-scala2.12</td></tr><tr><td>3</td><td>2024-10-28T05:25:21Z</td><td>599420620358905</td><td>contact@loonycorn.com</td><td>OPTIMIZE</td><td>Map(predicate -> [], auto -> true, clusterBy -> [], zOrderBy -> [], batchId -> 0)</td><td>null</td><td>List(3951670535128584)</td><td>1028-032811-163l393x</td><td>1</td><td>SnapshotIsolation</td><td>false</td><td>Map(numRemovedFiles -> 2, numRemovedBytes -> 89293, p25FileSize -> 52694, numDeletionVectorsRemoved -> 1, conflictDetectionTimeMs -> 217, minFileSize -> 52694, numAddedFiles -> 1, maxFileSize -> 52694, p75FileSize -> 52694, p50FileSize -> 52694, numAddedBytes -> 52694)</td><td>null</td><td>Databricks-Runtime/15.4.x-photon-scala2.12</td></tr><tr><td>2</td><td>2024-10-28T05:25:19Z</td><td>599420620358905</td><td>contact@loonycorn.com</td><td>DELETE</td><td>Map(predicate -> [\"(year#22156L = 2007)\"])</td><td>null</td><td>List(3951670535128584)</td><td>1028-032811-163l393x</td><td>1</td><td>WriteSerializable</td><td>false</td><td>Map(numRemovedFiles -> 0, numRemovedBytes -> 0, numCopiedRows -> 0, numDeletionVectorsAdded -> 2, numDeletionVectorsRemoved -> 1, numAddedChangeFiles -> 0, executionTimeMs -> 2195, numDeletionVectorsUpdated -> 1, numDeletedRows -> 134, scanTimeMs -> 1572, numAddedFiles -> 0, numAddedBytes -> 0, rewriteTimeMs -> 623)</td><td>null</td><td>Databricks-Runtime/15.4.x-photon-scala2.12</td></tr><tr><td>1</td><td>2024-10-28T05:25:15Z</td><td>599420620358905</td><td>contact@loonycorn.com</td><td>UPDATE</td><td>Map(predicate -> [\"(owner#21379 = First Owner)\"])</td><td>null</td><td>List(3951670535128584)</td><td>1028-032811-163l393x</td><td>0</td><td>WriteSerializable</td><td>false</td><td>Map(numRemovedFiles -> 0, numRemovedBytes -> 0, numCopiedRows -> 0, numDeletionVectorsAdded -> 1, numDeletionVectorsRemoved -> 0, numAddedChangeFiles -> 0, executionTimeMs -> 1811, numDeletionVectorsUpdated -> 0, scanTimeMs -> 676, numAddedFiles -> 1, numUpdatedRows -> 2832, numAddedBytes -> 36940, rewriteTimeMs -> 1134)</td><td>null</td><td>Databricks-Runtime/15.4.x-photon-scala2.12</td></tr><tr><td>0</td><td>2024-10-28T05:14:07Z</td><td>599420620358905</td><td>contact@loonycorn.com</td><td>CREATE TABLE AS SELECT</td><td>Map(partitionBy -> [], clusterBy -> [], description -> Created by the file upload UI, isManaged -> true, properties -> {\"delta.enableDeletionVectors\":\"true\"}, statsOnLoad -> false)</td><td>null</td><td>null</td><td>1028-032811-163l393x</td><td>null</td><td>WriteSerializable</td><td>true</td><td>Map(numFiles -> 1, numOutputRows -> 4340, numOutputBytes -> 52353)</td><td>null</td><td>Databricks-Runtime/15.4.x-photon-scala2.12</td></tr></tbody></table></div>"
      ]
     },
     "metadata": {
      "application/vnd.databricks.v1+output": {
       "addedWidgets": {},
       "aggData": [],
       "aggError": "",
       "aggOverflow": false,
       "aggSchema": [],
       "aggSeriesLimitReached": false,
       "aggType": "",
       "arguments": {},
       "columnCustomDisplayInfos": {},
       "data": [
        [
         6,
         "2024-10-28T08:15:25Z",
         "599420620358905",
         "contact@loonycorn.com",
         "RESTORE",
         {
          "timestamp": "2024-10-28 05:14:08.0",
          "version": null
         },
         null,
         [
          "3951670535128584"
         ],
         "1028-032811-163l393x",
         5,
         "Serializable",
         false,
         {
          "numOfFilesAfterRestore": "1",
          "numRemovedFiles": "2",
          "numRestoredFiles": "1",
          "removedFilesSize": "89293",
          "restoredFilesSize": "52353",
          "tableSizeAfterRestore": "52353"
         },
         null,
         "Databricks-Runtime/15.4.x-photon-scala2.12"
        ],
        [
         5,
         "2024-10-28T08:14:17Z",
         "599420620358905",
         "contact@loonycorn.com",
         "RESTORE",
         {
          "timestamp": null,
          "version": "2"
         },
         null,
         [
          "3951670535128584"
         ],
         "1028-032811-163l393x",
         4,
         "Serializable",
         false,
         {
          "numOfFilesAfterRestore": "2",
          "numRemovedFiles": "1",
          "numRestoredFiles": "2",
          "removedFilesSize": "52694",
          "restoredFilesSize": "89293",
          "tableSizeAfterRestore": "89293"
         },
         null,
         "Databricks-Runtime/15.4.x-photon-scala2.12"
        ],
        [
         4,
         "2024-10-28T05:25:22Z",
         "599420620358905",
         "contact@loonycorn.com",
         "ADD COLUMNS",
         {
          "columns": "[{\"column\":{\"name\":\"condition\",\"type\":\"varchar(255)\",\"nullable\":true,\"metadata\":{}}}]"
         },
         null,
         [
          "3951670535128584"
         ],
         "1028-032811-163l393x",
         3,
         "WriteSerializable",
         true,
         {},
         null,
         "Databricks-Runtime/15.4.x-photon-scala2.12"
        ],
        [
         3,
         "2024-10-28T05:25:21Z",
         "599420620358905",
         "contact@loonycorn.com",
         "OPTIMIZE",
         {
          "auto": "true",
          "batchId": "0",
          "clusterBy": "[]",
          "predicate": "[]",
          "zOrderBy": "[]"
         },
         null,
         [
          "3951670535128584"
         ],
         "1028-032811-163l393x",
         1,
         "SnapshotIsolation",
         false,
         {
          "conflictDetectionTimeMs": "217",
          "maxFileSize": "52694",
          "minFileSize": "52694",
          "numAddedBytes": "52694",
          "numAddedFiles": "1",
          "numDeletionVectorsRemoved": "1",
          "numRemovedBytes": "89293",
          "numRemovedFiles": "2",
          "p25FileSize": "52694",
          "p50FileSize": "52694",
          "p75FileSize": "52694"
         },
         null,
         "Databricks-Runtime/15.4.x-photon-scala2.12"
        ],
        [
         2,
         "2024-10-28T05:25:19Z",
         "599420620358905",
         "contact@loonycorn.com",
         "DELETE",
         {
          "predicate": "[\"(year#22156L = 2007)\"]"
         },
         null,
         [
          "3951670535128584"
         ],
         "1028-032811-163l393x",
         1,
         "WriteSerializable",
         false,
         {
          "executionTimeMs": "2195",
          "numAddedBytes": "0",
          "numAddedChangeFiles": "0",
          "numAddedFiles": "0",
          "numCopiedRows": "0",
          "numDeletedRows": "134",
          "numDeletionVectorsAdded": "2",
          "numDeletionVectorsRemoved": "1",
          "numDeletionVectorsUpdated": "1",
          "numRemovedBytes": "0",
          "numRemovedFiles": "0",
          "rewriteTimeMs": "623",
          "scanTimeMs": "1572"
         },
         null,
         "Databricks-Runtime/15.4.x-photon-scala2.12"
        ],
        [
         1,
         "2024-10-28T05:25:15Z",
         "599420620358905",
         "contact@loonycorn.com",
         "UPDATE",
         {
          "predicate": "[\"(owner#21379 = First Owner)\"]"
         },
         null,
         [
          "3951670535128584"
         ],
         "1028-032811-163l393x",
         0,
         "WriteSerializable",
         false,
         {
          "executionTimeMs": "1811",
          "numAddedBytes": "36940",
          "numAddedChangeFiles": "0",
          "numAddedFiles": "1",
          "numCopiedRows": "0",
          "numDeletionVectorsAdded": "1",
          "numDeletionVectorsRemoved": "0",
          "numDeletionVectorsUpdated": "0",
          "numRemovedBytes": "0",
          "numRemovedFiles": "0",
          "numUpdatedRows": "2832",
          "rewriteTimeMs": "1134",
          "scanTimeMs": "676"
         },
         null,
         "Databricks-Runtime/15.4.x-photon-scala2.12"
        ],
        [
         0,
         "2024-10-28T05:14:07Z",
         "599420620358905",
         "contact@loonycorn.com",
         "CREATE TABLE AS SELECT",
         {
          "clusterBy": "[]",
          "description": "Created by the file upload UI",
          "isManaged": "true",
          "partitionBy": "[]",
          "properties": "{\"delta.enableDeletionVectors\":\"true\"}",
          "statsOnLoad": "false"
         },
         null,
         null,
         "1028-032811-163l393x",
         null,
         "WriteSerializable",
         true,
         {
          "numFiles": "1",
          "numOutputBytes": "52353",
          "numOutputRows": "4340"
         },
         null,
         "Databricks-Runtime/15.4.x-photon-scala2.12"
        ]
       ],
       "datasetInfos": [],
       "dbfsResultPath": null,
       "isJsonSchema": true,
       "metadata": {
        "createTempViewForImplicitDf": true,
        "dataframeName": "_sqldf",
        "executionCount": 19
       },
       "overflow": false,
       "plotOptions": {
        "customPlotOptions": {},
        "displayType": "table",
        "pivotAggregation": null,
        "pivotColumns": null,
        "xColumns": null,
        "yColumns": null
       },
       "removedWidgets": [],
       "schema": [
        {
         "metadata": "{}",
         "name": "version",
         "type": "\"long\""
        },
        {
         "metadata": "{}",
         "name": "timestamp",
         "type": "\"timestamp\""
        },
        {
         "metadata": "{}",
         "name": "userId",
         "type": "\"string\""
        },
        {
         "metadata": "{}",
         "name": "userName",
         "type": "\"string\""
        },
        {
         "metadata": "{}",
         "name": "operation",
         "type": "\"string\""
        },
        {
         "metadata": "{}",
         "name": "operationParameters",
         "type": "{\"type\":\"map\",\"keyType\":\"string\",\"valueType\":\"string\",\"valueContainsNull\":true}"
        },
        {
         "metadata": "{}",
         "name": "job",
         "type": "{\"type\":\"struct\",\"fields\":[{\"name\":\"jobId\",\"type\":\"string\",\"nullable\":true,\"metadata\":{}},{\"name\":\"jobName\",\"type\":\"string\",\"nullable\":true,\"metadata\":{}},{\"name\":\"jobRunId\",\"type\":\"string\",\"nullable\":true,\"metadata\":{}},{\"name\":\"runId\",\"type\":\"string\",\"nullable\":true,\"metadata\":{}},{\"name\":\"jobOwnerId\",\"type\":\"string\",\"nullable\":true,\"metadata\":{}},{\"name\":\"triggerType\",\"type\":\"string\",\"nullable\":true,\"metadata\":{}}]}"
        },
        {
         "metadata": "{}",
         "name": "notebook",
         "type": "{\"type\":\"struct\",\"fields\":[{\"name\":\"notebookId\",\"type\":\"string\",\"nullable\":true,\"metadata\":{}}]}"
        },
        {
         "metadata": "{}",
         "name": "clusterId",
         "type": "\"string\""
        },
        {
         "metadata": "{}",
         "name": "readVersion",
         "type": "\"long\""
        },
        {
         "metadata": "{}",
         "name": "isolationLevel",
         "type": "\"string\""
        },
        {
         "metadata": "{}",
         "name": "isBlindAppend",
         "type": "\"boolean\""
        },
        {
         "metadata": "{}",
         "name": "operationMetrics",
         "type": "{\"type\":\"map\",\"keyType\":\"string\",\"valueType\":\"string\",\"valueContainsNull\":true}"
        },
        {
         "metadata": "{}",
         "name": "userMetadata",
         "type": "\"string\""
        },
        {
         "metadata": "{}",
         "name": "engineInfo",
         "type": "\"string\""
        }
       ],
       "type": "table"
      }
     },
     "output_type": "display_data"
    }
   ],
   "source": [
    "%sql\n",
    "\n",
    "DESCRIBE HISTORY hive_metastore.default.cars"
   ]
  },
  {
   "cell_type": "markdown",
   "metadata": {
    "application/vnd.databricks.v1+cell": {
     "cellMetadata": {},
     "inputWidgets": {},
     "nuid": "ccdbae98-9baf-4803-a2fc-75458af235a3",
     "showTitle": false,
     "title": ""
    }
   },
   "source": [
    "### Vacuuming can prevent time-travel\n",
    "Since vacuuming cleans up old files which maintained intermediate states, cleaning them up means that we will not be able to revert to those states. by default only files older than 7 days can be vacuumed - this is something you can change by changing the retention interval using TBLPROPERTIES ('delta.deletedFileRetentionDuration'= 'interval 0 hours')"
   ]
  }
 ],
 "metadata": {
  "application/vnd.databricks.v1+notebook": {
   "dashboards": [],
   "environmentMetadata": null,
   "language": "python",
   "notebookMetadata": {
    "mostRecentlyExecutedCommandWithImplicitDF": {
     "commandId": 3951670535128613,
     "dataframes": [
      "_sqldf"
     ]
    },
    "pythonIndentUnit": 4
   },
   "notebookName": "DeltaTimeTravel",
   "widgets": {}
  }
 },
 "nbformat": 4,
 "nbformat_minor": 0
}
